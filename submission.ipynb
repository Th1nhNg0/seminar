{
 "cells": [
  {
   "cell_type": "markdown",
   "metadata": {},
   "source": [
    "# revelance ranking"
   ]
  },
  {
   "cell_type": "code",
   "execution_count": 1,
   "metadata": {},
   "outputs": [],
   "source": [
    "import torch\n",
    "import tensorflow as tf"
   ]
  },
  {
   "cell_type": "code",
   "execution_count": 2,
   "metadata": {},
   "outputs": [],
   "source": [
    "import pandas as pd\n",
    "from tqdm import tqdm\n",
    "import numpy as np\n",
    "import pickle\n",
    "from sentence_transformers import SentenceTransformer, util\n",
    "tqdm.pandas()\n",
    "from pyvi.ViTokenizer import tokenize"
   ]
  },
  {
   "cell_type": "code",
   "execution_count": 3,
   "metadata": {},
   "outputs": [
    {
     "name": "stdout",
     "output_type": "stream",
     "text": [
      "INFO: Pandarallel will run on 6 workers.\n",
      "INFO: Pandarallel will use standard multiprocessing data transfer (pipe) to transfer data between the main process and workers.\n",
      "\n",
      "WARNING: You are on Windows. If you detect any issue with pandarallel, be sure you checked out the Troubleshooting page:\n",
      "https://nalepae.github.io/pandarallel/troubleshooting/\n"
     ]
    }
   ],
   "source": [
    "from pandarallel import pandarallel\n",
    "pandarallel.initialize(progress_bar=True)"
   ]
  },
  {
   "cell_type": "code",
   "execution_count": 4,
   "metadata": {},
   "outputs": [],
   "source": [
    "df = pd.read_json('data_gen/wikipedia_20220620_cleaned_parsed.jsonl',lines=True)"
   ]
  },
  {
   "cell_type": "code",
   "execution_count": 6,
   "metadata": {},
   "outputs": [],
   "source": [
    "sentences = pickle.load(open('data_gen/sentences.pkl','rb'))\n",
    "corpus_embeddings = pickle.load(open('data_gen/corpus_embeddings.pkl','rb'))\n",
    "title_embeddings = pickle.load(open('data_gen/title_embeddings.pkl','rb'))\n",
    "titles = pickle.load(open('data_gen/titles.pkl','rb'))"
   ]
  },
  {
   "cell_type": "code",
   "execution_count": 7,
   "metadata": {},
   "outputs": [
    {
     "data": {
      "text/plain": [
       "(1273469, 1273469)"
      ]
     },
     "execution_count": 7,
     "metadata": {},
     "output_type": "execute_result"
    }
   ],
   "source": [
    "len(sentences), len(titles)"
   ]
  },
  {
   "cell_type": "code",
   "execution_count": 8,
   "metadata": {},
   "outputs": [
    {
     "data": {
      "text/plain": [
       "(torch.Size([1273469, 768]), torch.Size([1273469, 768]))"
      ]
     },
     "execution_count": 8,
     "metadata": {},
     "output_type": "execute_result"
    }
   ],
   "source": [
    "title_embeddings.shape , corpus_embeddings.shape"
   ]
  },
  {
   "cell_type": "code",
   "execution_count": 9,
   "metadata": {},
   "outputs": [
    {
     "name": "stderr",
     "output_type": "stream",
     "text": [
      "No sentence-transformers model found with name C:\\Users\\ngoph/.cache\\torch\\sentence_transformers\\VoVanPhuc_sup-SimCSE-VietNamese-phobert-base. Creating a new one with MEAN pooling.\n",
      "Some weights of the model checkpoint at C:\\Users\\ngoph/.cache\\torch\\sentence_transformers\\VoVanPhuc_sup-SimCSE-VietNamese-phobert-base were not used when initializing RobertaModel: ['mlp.dense.bias', 'mlp.dense.weight']\n",
      "- This IS expected if you are initializing RobertaModel from the checkpoint of a model trained on another task or with another architecture (e.g. initializing a BertForSequenceClassification model from a BertForPreTraining model).\n",
      "- This IS NOT expected if you are initializing RobertaModel from the checkpoint of a model that you expect to be exactly identical (initializing a BertForSequenceClassification model from a BertForSequenceClassification model).\n"
     ]
    }
   ],
   "source": [
    "sentence_model = SentenceTransformer('VoVanPhuc/sup-SimCSE-VietNamese-phobert-base')"
   ]
  },
  {
   "cell_type": "code",
   "execution_count": 11,
   "metadata": {},
   "outputs": [],
   "source": [
    "from transformers import pipeline\n",
    "qa = pipeline('question-answering', model='src\\model_2\\checkpoint-19856',device=0)"
   ]
  },
  {
   "cell_type": "code",
   "execution_count": 12,
   "metadata": {},
   "outputs": [],
   "source": [
    "gpus = tf.config.experimental.list_physical_devices('GPU')\n",
    "if gpus:\n",
    "  try:\n",
    "    for gpu in gpus:\n",
    "      tf.config.experimental.set_memory_growth(gpu, True)\n",
    "  except RuntimeError as e:\n",
    "    print(e)"
   ]
  },
  {
   "cell_type": "code",
   "execution_count": 13,
   "metadata": {},
   "outputs": [],
   "source": [
    "model_1 = tf.keras.models.load_model('model_1')\n",
    "LABEL={\n",
    "\t'wiki':0,\n",
    "\t'number':1,\n",
    "\t'text':2\n",
    "}"
   ]
  },
  {
   "cell_type": "markdown",
   "metadata": {},
   "source": [
    "# inference"
   ]
  },
  {
   "cell_type": "code",
   "execution_count": 14,
   "metadata": {},
   "outputs": [],
   "source": [
    "import json\n",
    "import re"
   ]
  },
  {
   "cell_type": "code",
   "execution_count": 15,
   "metadata": {},
   "outputs": [],
   "source": [
    "with open('data/zac2022_testa_only_question.json',encoding='utf-8') as f:\n",
    "    data=json.load(f)\n",
    "    reference_df = pd.json_normalize(data,'data')"
   ]
  },
  {
   "cell_type": "code",
   "execution_count": 64,
   "metadata": {},
   "outputs": [
    {
     "name": "stdout",
     "output_type": "stream",
     "text": [
      "Hiện nay ai là tổng bí thư nước Việt Nam\n",
      "Hiện_nay ai là tổng_bí_thư nước Việt_Nam\n",
      "1/1 [==============================] - 0s 37ms/step\n",
      "wiki\n",
      "Title:  Chính_trị Việt_Nam\n",
      "Answer:  Nguyễn Phú Trọng\n",
      "Format answer: wiki/Nguyễn_Phú_Trọng\n",
      "Doc score:  0.5981188416481018\n",
      "Answer score:  0.9999966621398926\n",
      "Calc score: 2.598112165927887\n",
      "-----------------------\n",
      "Title:  Nguyên_thủ Việt_Nam_Cộng_hòa\n",
      "Answer:  Dương Văn Minh\n",
      "Format answer: wiki/Dương_Văn_Minh\n",
      "Doc score:  0.5999797582626343\n",
      "Answer score:  0.8063448667526245\n",
      "Calc score: 2.2126694917678833\n",
      "-----------------------\n",
      "Title:  Phó_Bí_thư Quân_ủy Trung_ương ( Việt_Nam )\n",
      "Answer:  Phó\n",
      "Format answer: wiki/Phó_(_họ_)\n",
      "Doc score:  0.6397011876106262\n",
      "Answer score:  3.057408833552944e-15\n",
      "Calc score: 0.6397011876106323\n",
      "-----------------------\n",
      "Title:  Danh_sách Thủ_tướng Chính_phủ nước Cộng_hòa xã_hội chủ_nghĩa Việt_Nam\n",
      "Answer:  Phạm Văn Đồng\n",
      "Format answer: wiki/Phạm_Văn_Đồng\n",
      "Doc score:  0.6372790932655334\n",
      "Answer score:  1.0721205034869286e-09\n",
      "Calc score: 0.6372790954097745\n",
      "-----------------------\n",
      "Title:  Bí_thư Quân_ủy Trung_ương ( Việt_Nam )\n",
      "Answer:  Võ Nguyên Giáp\n",
      "Format answer: wiki/Võ_Nguyên_Giáp\n",
      "Doc score:  0.6293247938156128\n",
      "Answer score:  7.407626595457018e-12\n",
      "Calc score: 0.629324793830428\n",
      "-----------------------\n",
      "Title:  Thủ_tướng Chính_phủ nước Cộng_hòa xã_hội chủ_nghĩa Việt_Nam\n",
      "Answer:  Phạm Văn Đồng\n",
      "Format answer: wiki/Phạm_Văn_Đồng\n",
      "Doc score:  0.625964879989624\n",
      "Answer score:  6.853261846906378e-10\n",
      "Calc score: 0.6259648813602764\n",
      "-----------------------\n",
      "Title:  Danh_sách Chủ_tịch nước Cộng_hòa xã_hội chủ_nghĩa Việt_Nam\n",
      "Answer:  Lê Đức Anh\n",
      "Format answer: wiki/Lê_Đức_Anh\n",
      "Doc score:  0.6034303903579712\n",
      "Answer score:  2.23107166422154e-12\n",
      "Calc score: 0.6034303903624333\n",
      "-----------------------\n",
      "Title:  Chủ_tịch nước Cộng_hòa xã_hội chủ_nghĩa Việt_Nam\n",
      "Answer:  Theo Quy\n",
      "Format answer: wiki/Quy_Sắc\n",
      "Doc score:  0.5997158288955688\n",
      "Answer score:  2.048191873882388e-07\n",
      "Calc score: 0.5997162385339436\n",
      "-----------------------\n",
      "Title:  Người đứng đầu chính_phủ\n",
      "Answer:  Đảng\n",
      "Format answer: wiki/Xây_dựng_Đảng\n",
      "Doc score:  0.5965866446495056\n",
      "Answer score:  2.0995138318818365e-16\n",
      "Calc score: 0.5965866446495061\n",
      "-----------------------\n",
      "Title:  Tổng_thống Việt_Nam_Cộng_hòa\n",
      "Answer:  Xem thêm .\n",
      "Format answer: wiki/Tham_khảo\n",
      "Doc score:  0.5897811651229858\n",
      "Answer score:  3.968264315778493e-14\n",
      "Calc score: 0.5897811651230652\n",
      "-----------------------\n"
     ]
    }
   ],
   "source": [
    "random_question = reference_df['question'].sample(1).values[0]\n",
    "q_raw = 'Hiện nay ai là tổng bí thư nước Việt Nam'\n",
    "q = tokenize(q_raw)\n",
    "query_embedding = sentence_model.encode(q\n",
    "    ,convert_to_tensor=True\n",
    ")\n",
    "print(q_raw)\n",
    "print(q)\n",
    "q_type = model_1.predict([q_raw]).argmax()\n",
    "print(list(LABEL.keys())[q_type])\n",
    "hits = util.semantic_search(query_embedding, corpus_embeddings, top_k=10)[0]\n",
    "\n",
    "answers =[]\n",
    "for hit in hits:\n",
    "    corpus_id = hit['corpus_id']\n",
    "    doc_score = hit['score']\n",
    "\n",
    "    title = sentences[corpus_id][0]\n",
    "    text =  sentences[corpus_id][1]\n",
    "    text = re.sub(r'\\s+',' ',text)\n",
    "    text= re.sub(r'_',' ',text)\n",
    "    answer = qa(question=q_raw,context=text)\n",
    "    answer_score = answer['score']\n",
    "    answers.append((title,answer['answer'],doc_score,answer_score))\n",
    "\n",
    "sorted_answers = sorted(answers,key=lambda x:x[2]+x[3]*2,reverse=True)\n",
    "\n",
    "for title,answer,doc_score,answer_score in sorted_answers:\n",
    "    print('Title: ',title)\n",
    "    print('Answer: ',answer)\n",
    "    print('Format answer:',format_answer(answer,q_type))\n",
    "    print('Doc score: ',doc_score)\n",
    "    print('Answer score: ',answer_score)\n",
    "    print('Calc score:',doc_score+answer_score*2)\n",
    "    print('-----------------------')"
   ]
  },
  {
   "cell_type": "code",
   "execution_count": 17,
   "metadata": {},
   "outputs": [],
   "source": [
    "def date_format(answer):\n",
    "    if re.search(r'ngày \\d{1,2} tháng \\d{1,2} năm \\d{4}',answer):\n",
    "        answer = re.search(r'ngày \\d{1,2} tháng \\d{1,2} năm \\d{4}',answer).group()\n",
    "    # ngay xx thang xx\n",
    "    elif re.search(r'ngày \\d{1,2} tháng \\d{1,2}',answer):\n",
    "        answer = re.search(r'ngày \\d{1,2} tháng \\d{1,2}',answer).group()\n",
    "    # thang xx nam xxx\n",
    "    elif re.search(r'tháng \\d{1,2} năm \\d{4}',answer):\n",
    "        answer = re.search(r'tháng \\d{1,2} năm \\d{4}',answer).group()\n",
    "    # nam xxxx\n",
    "    elif re.search(r'năm \\d{4}',answer):\n",
    "        answer = re.search(r'năm \\d{4}',answer).group()\n",
    "\n",
    "    # 1/1/2021  dd{token}mm{token}yyyy\n",
    "    elif re.search(r'\\d{1,2}[ /|-]\\d{1,2}[ /|-]\\d{4}',answer):\n",
    "        answer = re.search(r'\\d{1,2}[ /|-]\\d{1,2}[ /|-]\\d{4}',answer).group()\n",
    "        token = re.search(r'[ /|-]',answer).group()\n",
    "        answer = answer.split(token)\n",
    "        answer = 'ngày '+answer[0]+' tháng '+answer[1]+' năm '+answer[2]\n",
    "    # 1/1       dd{token}mm\n",
    "    elif re.search(r'\\d{1,2}[ /|-]\\d{1,2}',answer):\n",
    "        answer = re.search(r'\\d{1,2}[ /|-]\\d{1,2}',answer).group()\n",
    "        token = re.search(r'[ /|-]',answer).group()\n",
    "        answer = answer.split(token)\n",
    "        answer = 'ngày '+answer[0]+' tháng '+answer[1]\n",
    "    # 1/2021    mm{token}yyyy\n",
    "    elif re.search(r'\\d{1,2}[ /|-]\\d{4}',answer):\n",
    "        answer = re.search(r'\\d{1,2}[ /|-]\\d{4}',answer).group()\n",
    "        token = re.search(r'[ /|-]',answer).group()\n",
    "        answer = answer.split(token)\n",
    "        answer = 'tháng '+answer[0]+' năm '+answer[1]\n",
    "    return answer"
   ]
  },
  {
   "cell_type": "code",
   "execution_count": 18,
   "metadata": {},
   "outputs": [
    {
     "data": {
      "text/plain": [
       "'ngày 3 tháng 10 năm 2021'"
      ]
     },
     "execution_count": 18,
     "metadata": {},
     "output_type": "execute_result"
    }
   ],
   "source": [
    "answer = 'asd á ngày 13 tháng 9 năm 1943 abc d'\n",
    "answer = '3 10 2021'\n",
    "date_format(answer)"
   ]
  },
  {
   "cell_type": "code",
   "execution_count": 19,
   "metadata": {},
   "outputs": [],
   "source": [
    "def wiki_format(answer):\n",
    "    title_embedding = sentence_model.encode( tokenize(answer)  ,convert_to_tensor=True)\n",
    "    hits = util.semantic_search(title_embedding, title_embeddings, top_k=1)[0]\n",
    "    best = hits[0]\n",
    "    best_title = titles[best['corpus_id']]\n",
    "    answer = 'wiki/'+best_title.replace(' ','_')\n",
    "    return answer"
   ]
  },
  {
   "cell_type": "code",
   "execution_count": 46,
   "metadata": {},
   "outputs": [
    {
     "data": {
      "text/plain": [
       "'wiki/James_Cameron'"
      ]
     },
     "execution_count": 46,
     "metadata": {},
     "output_type": "execute_result"
    }
   ],
   "source": [
    "wiki_format('James Cameron')"
   ]
  },
  {
   "cell_type": "code",
   "execution_count": 51,
   "metadata": {},
   "outputs": [],
   "source": [
    "def format_answer(answer,type):\n",
    "    if type==LABEL['wiki']:\n",
    "        answer = wiki_format(answer)\n",
    "    if type == LABEL['number']:\n",
    "        answer = re.sub(r'\\D', '', answer)\n",
    "    if type == LABEL['text']:\n",
    "        answer = answer.lower()\n",
    "        answer = date_format(answer)\n",
    "    return answer"
   ]
  },
  {
   "cell_type": "code",
   "execution_count": 66,
   "metadata": {},
   "outputs": [
    {
     "name": "stderr",
     "output_type": "stream",
     "text": [
      "100%|██████████| 600/600 [48:03<00:00,  4.81s/it]  \n"
     ]
    }
   ],
   "source": [
    "top_k = 5\n",
    "submission = []\n",
    "for row in tqdm(reference_df.iterrows(),total=len(reference_df)):\n",
    "    question = row[1]['question']\n",
    "    q = tokenize(question)\n",
    "    query_embedding = sentence_model.encode(q,convert_to_tensor=True)\n",
    "    hits = util.semantic_search(query_embedding, corpus_embeddings, top_k=10)[0]\n",
    "\n",
    "    answers =[]\n",
    "    for hit in hits:\n",
    "        corpus_id = hit['corpus_id']\n",
    "        doc_score = hit['score']\n",
    "        title = sentences[corpus_id][0]\n",
    "        text =  sentences[corpus_id][1]\n",
    "        text = re.sub(r'\\s+',' ',text)\n",
    "        text= re.sub(r'_',' ',text)\n",
    "        answer = qa(question=question,context=text)\n",
    "        answer_score = answer['score']\n",
    "        answers.append((title,answer['answer'],doc_score,answer_score))\n",
    "    sorted_answers = sorted(answers,key=lambda x:x[2]+x[3]*2,reverse=True)\n",
    "\n",
    "    best_result = sorted_answers[0]\n",
    "    answer = best_result[1]\n",
    "    type=model_1.predict([question],verbose=0).argmax()\n",
    "    answer = format_answer(answer,type)\n",
    "    submission.append({\n",
    "        'id': row[1]['id'],\n",
    "        'question': question,\n",
    "        'answer': answer,\n",
    "        'raw_answer': best_result[1],\n",
    "        'type': type\n",
    "    })\n"
   ]
  },
  {
   "cell_type": "code",
   "execution_count": 85,
   "metadata": {},
   "outputs": [],
   "source": [
    "df_submission = pd.DataFrame(submission)"
   ]
  },
  {
   "cell_type": "code",
   "execution_count": 86,
   "metadata": {},
   "outputs": [
    {
     "data": {
      "text/html": [
       "<div>\n",
       "<style scoped>\n",
       "    .dataframe tbody tr th:only-of-type {\n",
       "        vertical-align: middle;\n",
       "    }\n",
       "\n",
       "    .dataframe tbody tr th {\n",
       "        vertical-align: top;\n",
       "    }\n",
       "\n",
       "    .dataframe thead th {\n",
       "        text-align: right;\n",
       "    }\n",
       "</style>\n",
       "<table border=\"1\" class=\"dataframe\">\n",
       "  <thead>\n",
       "    <tr style=\"text-align: right;\">\n",
       "      <th></th>\n",
       "      <th>id</th>\n",
       "      <th>question</th>\n",
       "      <th>answer</th>\n",
       "      <th>raw_answer</th>\n",
       "      <th>type</th>\n",
       "    </tr>\n",
       "  </thead>\n",
       "  <tbody>\n",
       "    <tr>\n",
       "      <th>0</th>\n",
       "      <td>testa_1</td>\n",
       "      <td>Đạo diễn phim Titanic là ai</td>\n",
       "      <td>wiki/James_Cameron</td>\n",
       "      <td>James Cameron</td>\n",
       "      <td>0</td>\n",
       "    </tr>\n",
       "    <tr>\n",
       "      <th>1</th>\n",
       "      <td>testa_2</td>\n",
       "      <td>Tổng thống Hoa Kỳ thứ 45 là ai</td>\n",
       "      <td>wiki/Bill_Clinton</td>\n",
       "      <td>Bill Clinton</td>\n",
       "      <td>0</td>\n",
       "    </tr>\n",
       "    <tr>\n",
       "      <th>2</th>\n",
       "      <td>testa_3</td>\n",
       "      <td>Hiện nay ai là tổng bí thư nước Việt Nam</td>\n",
       "      <td>wiki/Nguyễn_Phú_Trọng</td>\n",
       "      <td>Nguyễn Phú Trọng</td>\n",
       "      <td>0</td>\n",
       "    </tr>\n",
       "    <tr>\n",
       "      <th>3</th>\n",
       "      <td>testa_4</td>\n",
       "      <td>đâu là bản hiến pháp lâu đời nhất thế giới</td>\n",
       "      <td>wiki/Phiến_đá_Palermo</td>\n",
       "      <td>Phiến đá Palermo</td>\n",
       "      <td>0</td>\n",
       "    </tr>\n",
       "    <tr>\n",
       "      <th>4</th>\n",
       "      <td>testa_5</td>\n",
       "      <td>Tổ chức thống nhất châu Phi được thành lập ở đâu</td>\n",
       "      <td>wiki/Tỉnh_của_Nam_Phi</td>\n",
       "      <td>tại Durban , Nam Phi</td>\n",
       "      <td>0</td>\n",
       "    </tr>\n",
       "    <tr>\n",
       "      <th>...</th>\n",
       "      <td>...</td>\n",
       "      <td>...</td>\n",
       "      <td>...</td>\n",
       "      <td>...</td>\n",
       "      <td>...</td>\n",
       "    </tr>\n",
       "    <tr>\n",
       "      <th>595</th>\n",
       "      <td>testa_596</td>\n",
       "      <td>Tổng thống thứ 100 của nước Mỹ là ai</td>\n",
       "      <td>wiki/Albert_Einstein</td>\n",
       "      <td>Albert Einstein</td>\n",
       "      <td>0</td>\n",
       "    </tr>\n",
       "    <tr>\n",
       "      <th>596</th>\n",
       "      <td>testa_597</td>\n",
       "      <td>Tỉnh nào ở Việt Nam giáp với nước Nga</td>\n",
       "      <td>wiki/Kurgan</td>\n",
       "      <td>Kurgan</td>\n",
       "      <td>0</td>\n",
       "    </tr>\n",
       "    <tr>\n",
       "      <th>597</th>\n",
       "      <td>testa_598</td>\n",
       "      <td>người việt nam đầu tiên đạt Quả bóng vàng châu...</td>\n",
       "      <td>wiki/George_Weah</td>\n",
       "      <td>George Weah</td>\n",
       "      <td>0</td>\n",
       "    </tr>\n",
       "    <tr>\n",
       "      <th>598</th>\n",
       "      <td>testa_599</td>\n",
       "      <td>nguyên tố hoá học nào nhẹ hơn hidro</td>\n",
       "      <td>wiki/Hydro_astatide</td>\n",
       "      <td>Hydro astatide Hydro atatinua</td>\n",
       "      <td>0</td>\n",
       "    </tr>\n",
       "    <tr>\n",
       "      <th>599</th>\n",
       "      <td>testa_600</td>\n",
       "      <td>triều đại nào tiếp nối nhà Nguyễn trong lịch s...</td>\n",
       "      <td>wiki/Trịnh_Kiểm</td>\n",
       "      <td>Trịnh Kiểm</td>\n",
       "      <td>0</td>\n",
       "    </tr>\n",
       "  </tbody>\n",
       "</table>\n",
       "<p>600 rows × 5 columns</p>\n",
       "</div>"
      ],
      "text/plain": [
       "            id                                           question  \\\n",
       "0      testa_1                        Đạo diễn phim Titanic là ai   \n",
       "1      testa_2                     Tổng thống Hoa Kỳ thứ 45 là ai   \n",
       "2      testa_3           Hiện nay ai là tổng bí thư nước Việt Nam   \n",
       "3      testa_4         đâu là bản hiến pháp lâu đời nhất thế giới   \n",
       "4      testa_5   Tổ chức thống nhất châu Phi được thành lập ở đâu   \n",
       "..         ...                                                ...   \n",
       "595  testa_596               Tổng thống thứ 100 của nước Mỹ là ai   \n",
       "596  testa_597              Tỉnh nào ở Việt Nam giáp với nước Nga   \n",
       "597  testa_598  người việt nam đầu tiên đạt Quả bóng vàng châu...   \n",
       "598  testa_599                nguyên tố hoá học nào nhẹ hơn hidro   \n",
       "599  testa_600  triều đại nào tiếp nối nhà Nguyễn trong lịch s...   \n",
       "\n",
       "                    answer                     raw_answer  type  \n",
       "0       wiki/James_Cameron                  James Cameron     0  \n",
       "1        wiki/Bill_Clinton                   Bill Clinton     0  \n",
       "2    wiki/Nguyễn_Phú_Trọng               Nguyễn Phú Trọng     0  \n",
       "3    wiki/Phiến_đá_Palermo               Phiến đá Palermo     0  \n",
       "4    wiki/Tỉnh_của_Nam_Phi           tại Durban , Nam Phi     0  \n",
       "..                     ...                            ...   ...  \n",
       "595   wiki/Albert_Einstein                Albert Einstein     0  \n",
       "596            wiki/Kurgan                         Kurgan     0  \n",
       "597       wiki/George_Weah                    George Weah     0  \n",
       "598    wiki/Hydro_astatide  Hydro astatide Hydro atatinua     0  \n",
       "599        wiki/Trịnh_Kiểm                     Trịnh Kiểm     0  \n",
       "\n",
       "[600 rows x 5 columns]"
      ]
     },
     "execution_count": 86,
     "metadata": {},
     "output_type": "execute_result"
    }
   ],
   "source": [
    "df_submission"
   ]
  },
  {
   "cell_type": "code",
   "execution_count": 87,
   "metadata": {},
   "outputs": [],
   "source": [
    "from datetime import datetime\n",
    "date = datetime.now().strftime(\"%d_%m_%Y_%H_%M\")"
   ]
  },
  {
   "cell_type": "code",
   "execution_count": 88,
   "metadata": {},
   "outputs": [],
   "source": [
    "import os \n",
    "os.makedirs('submissions',exist_ok=True)\n",
    "os.makedirs('submissions/'+date,exist_ok=True)"
   ]
  },
  {
   "cell_type": "code",
   "execution_count": 89,
   "metadata": {},
   "outputs": [],
   "source": [
    "json_data = df_submission.to_dict(orient='records')\n",
    "with open(f'submissions/{date}/submission_raw.json', 'w', encoding='utf-8') as f:\n",
    "    json.dump({'data': json_data}, f, ensure_ascii=False, indent=2)"
   ]
  },
  {
   "cell_type": "code",
   "execution_count": 90,
   "metadata": {},
   "outputs": [],
   "source": [
    "df_submission.drop(['raw_answer','type'],axis=1,inplace=True)"
   ]
  },
  {
   "cell_type": "code",
   "execution_count": 91,
   "metadata": {},
   "outputs": [],
   "source": [
    "json_data = df_submission.to_dict(orient='records')\n",
    "with open(f'submissions/{date}/submission.json', 'w', encoding='utf-8') as f:\n",
    "    json.dump({'data': json_data}, f, ensure_ascii=False, indent=2)"
   ]
  }
 ],
 "metadata": {
  "kernelspec": {
   "display_name": "Python 3.10.6 ('rs')",
   "language": "python",
   "name": "python3"
  },
  "language_info": {
   "codemirror_mode": {
    "name": "ipython",
    "version": 3
   },
   "file_extension": ".py",
   "mimetype": "text/x-python",
   "name": "python",
   "nbconvert_exporter": "python",
   "pygments_lexer": "ipython3",
   "version": "3.10.6"
  },
  "orig_nbformat": 4,
  "vscode": {
   "interpreter": {
    "hash": "ba141c8d811672bca916348b96b465f0d8c36918c76b97082af4ef2ad5ae2a45"
   }
  }
 },
 "nbformat": 4,
 "nbformat_minor": 2
}
