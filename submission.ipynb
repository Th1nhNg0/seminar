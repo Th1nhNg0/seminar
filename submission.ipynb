{
 "cells": [
  {
   "cell_type": "markdown",
   "metadata": {},
   "source": [
    "# revelance ranking"
   ]
  },
  {
   "cell_type": "code",
   "execution_count": 1,
   "metadata": {},
   "outputs": [],
   "source": [
    "import pandas as pd\n",
    "from tqdm import tqdm\n",
    "import pickle\n",
    "tqdm.pandas()"
   ]
  },
  {
   "cell_type": "code",
   "execution_count": 2,
   "metadata": {},
   "outputs": [],
   "source": [
    "import json\n",
    "\n",
    "with open('C:/Users/ngoph/Desktop/zalo_ai/wikipedia_20220620_cleaned/wikipedia_20220620_cleaned.jsonl', 'r',encoding='utf-8') as json_file:\n",
    "    json_list = list(json_file)"
   ]
  },
  {
   "cell_type": "code",
   "execution_count": 3,
   "metadata": {},
   "outputs": [],
   "source": [
    "json_list = [json.loads(json_str) for json_str in json_list]"
   ]
  },
  {
   "cell_type": "code",
   "execution_count": 4,
   "metadata": {},
   "outputs": [
    {
     "data": {
      "text/html": [
       "<div>\n",
       "<style scoped>\n",
       "    .dataframe tbody tr th:only-of-type {\n",
       "        vertical-align: middle;\n",
       "    }\n",
       "\n",
       "    .dataframe tbody tr th {\n",
       "        vertical-align: top;\n",
       "    }\n",
       "\n",
       "    .dataframe thead th {\n",
       "        text-align: right;\n",
       "    }\n",
       "</style>\n",
       "<table border=\"1\" class=\"dataframe\">\n",
       "  <thead>\n",
       "    <tr style=\"text-align: right;\">\n",
       "      <th></th>\n",
       "      <th>id</th>\n",
       "      <th>url</th>\n",
       "      <th>title</th>\n",
       "      <th>text</th>\n",
       "      <th>timestamp</th>\n",
       "      <th>revid</th>\n",
       "    </tr>\n",
       "  </thead>\n",
       "  <tbody>\n",
       "    <tr>\n",
       "      <th>0</th>\n",
       "      <td>2</td>\n",
       "      <td>https://vi.wikipedia.org/wiki?curid=2</td>\n",
       "      <td>Trang Chính</td>\n",
       "      <td>Trang Chính\\n\\n&lt;templatestyles src=\"Wiki2021/s...</td>\n",
       "      <td>2022-05-12T12:46:53Z</td>\n",
       "      <td>68591979</td>\n",
       "    </tr>\n",
       "    <tr>\n",
       "      <th>1</th>\n",
       "      <td>4</td>\n",
       "      <td>https://vi.wikipedia.org/wiki?curid=4</td>\n",
       "      <td>Internet Society</td>\n",
       "      <td>Internet Society\\n\\nInternet Society hay ISOC ...</td>\n",
       "      <td>2022-01-20T07:59:10Z</td>\n",
       "      <td>67988747</td>\n",
       "    </tr>\n",
       "    <tr>\n",
       "      <th>2</th>\n",
       "      <td>13</td>\n",
       "      <td>https://vi.wikipedia.org/wiki?curid=13</td>\n",
       "      <td>Tiếng Việt</td>\n",
       "      <td>Tiếng Việt\\n\\nTiếng Việt, cũng gọi là tiếng Vi...</td>\n",
       "      <td>2022-05-29T03:42:42Z</td>\n",
       "      <td>68660631</td>\n",
       "    </tr>\n",
       "    <tr>\n",
       "      <th>3</th>\n",
       "      <td>24</td>\n",
       "      <td>https://vi.wikipedia.org/wiki?curid=24</td>\n",
       "      <td>Ohio</td>\n",
       "      <td>Ohio\\n\\nOhio (viết tắt là OH, viết tắt cũ là O...</td>\n",
       "      <td>2022-04-17T08:15:22Z</td>\n",
       "      <td>68482118</td>\n",
       "    </tr>\n",
       "    <tr>\n",
       "      <th>4</th>\n",
       "      <td>26</td>\n",
       "      <td>https://vi.wikipedia.org/wiki?curid=26</td>\n",
       "      <td>California</td>\n",
       "      <td>California\\n\\nCalifornia (phát âm như \"Ca-li-p...</td>\n",
       "      <td>2022-06-16T15:27:07Z</td>\n",
       "      <td>68738039</td>\n",
       "    </tr>\n",
       "  </tbody>\n",
       "</table>\n",
       "</div>"
      ],
      "text/plain": [
       "   id                                     url             title  \\\n",
       "0   2   https://vi.wikipedia.org/wiki?curid=2       Trang Chính   \n",
       "1   4   https://vi.wikipedia.org/wiki?curid=4  Internet Society   \n",
       "2  13  https://vi.wikipedia.org/wiki?curid=13        Tiếng Việt   \n",
       "3  24  https://vi.wikipedia.org/wiki?curid=24              Ohio   \n",
       "4  26  https://vi.wikipedia.org/wiki?curid=26        California   \n",
       "\n",
       "                                                text             timestamp  \\\n",
       "0  Trang Chính\\n\\n<templatestyles src=\"Wiki2021/s...  2022-05-12T12:46:53Z   \n",
       "1  Internet Society\\n\\nInternet Society hay ISOC ...  2022-01-20T07:59:10Z   \n",
       "2  Tiếng Việt\\n\\nTiếng Việt, cũng gọi là tiếng Vi...  2022-05-29T03:42:42Z   \n",
       "3  Ohio\\n\\nOhio (viết tắt là OH, viết tắt cũ là O...  2022-04-17T08:15:22Z   \n",
       "4  California\\n\\nCalifornia (phát âm như \"Ca-li-p...  2022-06-16T15:27:07Z   \n",
       "\n",
       "      revid  \n",
       "0  68591979  \n",
       "1  67988747  \n",
       "2  68660631  \n",
       "3  68482118  \n",
       "4  68738039  "
      ]
     },
     "execution_count": 4,
     "metadata": {},
     "output_type": "execute_result"
    }
   ],
   "source": [
    "df = pd.DataFrame(json_list)\n",
    "df.head()"
   ]
  },
  {
   "cell_type": "code",
   "execution_count": 5,
   "metadata": {},
   "outputs": [],
   "source": [
    "# free up memory\n",
    "del json_list"
   ]
  },
  {
   "cell_type": "code",
   "execution_count": 6,
   "metadata": {},
   "outputs": [],
   "source": [
    "from bs4 import BeautifulSoup\n",
    "import re\n",
    "\n",
    "def strip_html_tags(text):\n",
    "    soup = BeautifulSoup(text, \"html.parser\")\n",
    "    stripped_text = soup.get_text(separator=\" \")\n",
    "    return stripped_text\n",
    "\n",
    "def normalize_text(text):\n",
    "    text = strip_html_tags(text)\n",
    "    # remove \\n \n",
    "    text = re.sub(r'\\n', ' ', text)\n",
    "    # remove \\xa0\n",
    "    text = re.sub(r'\\xa0', ' ', text)\n",
    "    # remove 'BULLET::::-'\n",
    "    text = re.sub(r'BULLET::::-', ' ', text)\n",
    "    # remove = if more than 1\n",
    "    text = re.sub(r'={2,}', ' ', text)\n",
    "    # remove duplicate spaces\n",
    "    text = re.sub(r'\\s+', ' ', text)\n",
    "\n",
    "    return text"
   ]
  },
  {
   "cell_type": "code",
   "execution_count": 7,
   "metadata": {},
   "outputs": [
    {
     "name": "stderr",
     "output_type": "stream",
     "text": [
      "  0%|          | 291/1273469 [00:00<28:55, 733.43it/s]c:\\Users\\ngoph\\.conda\\envs\\research\\lib\\site-packages\\bs4\\__init__.py:435: MarkupResemblesLocatorWarning: The input looks more like a filename than markup. You may want to open this file and pass the filehandle into Beautiful Soup.\n",
      "  warnings.warn(\n",
      "  0%|          | 4646/1273469 [00:02<09:40, 2186.11it/s]c:\\Users\\ngoph\\.conda\\envs\\research\\lib\\site-packages\\bs4\\builder\\__init__.py:545: XMLParsedAsHTMLWarning: It looks like you're parsing an XML document using an HTML parser. If this really is an HTML document (maybe it's XHTML?), you can ignore or filter this warning. If it's XML, you should know that using an XML parser will be more reliable. To parse this document as XML, make sure you have the lxml package installed, and pass the keyword argument `features=\"xml\"` into the BeautifulSoup constructor.\n",
      "  warnings.warn(\n",
      "100%|██████████| 1273469/1273469 [01:33<00:00, 13675.85it/s]\n"
     ]
    }
   ],
   "source": [
    "df['text'] = df['text'].progress_apply(normalize_text)"
   ]
  },
  {
   "cell_type": "code",
   "execution_count": 8,
   "metadata": {},
   "outputs": [],
   "source": [
    "df.to_csv('data/zac2022_train_merged_final_preprocessing.json')"
   ]
  },
  {
   "cell_type": "code",
   "execution_count": 9,
   "metadata": {},
   "outputs": [
    {
     "data": {
      "text/html": [
       "<div>\n",
       "<style scoped>\n",
       "    .dataframe tbody tr th:only-of-type {\n",
       "        vertical-align: middle;\n",
       "    }\n",
       "\n",
       "    .dataframe tbody tr th {\n",
       "        vertical-align: top;\n",
       "    }\n",
       "\n",
       "    .dataframe thead th {\n",
       "        text-align: right;\n",
       "    }\n",
       "</style>\n",
       "<table border=\"1\" class=\"dataframe\">\n",
       "  <thead>\n",
       "    <tr style=\"text-align: right;\">\n",
       "      <th></th>\n",
       "      <th>id</th>\n",
       "      <th>url</th>\n",
       "      <th>title</th>\n",
       "      <th>text</th>\n",
       "      <th>timestamp</th>\n",
       "      <th>revid</th>\n",
       "    </tr>\n",
       "  </thead>\n",
       "  <tbody>\n",
       "    <tr>\n",
       "      <th>0</th>\n",
       "      <td>2</td>\n",
       "      <td>https://vi.wikipedia.org/wiki?curid=2</td>\n",
       "      <td>Trang Chính</td>\n",
       "      <td>Trang Chính __NOEDITSECTION__</td>\n",
       "      <td>2022-05-12T12:46:53Z</td>\n",
       "      <td>68591979</td>\n",
       "    </tr>\n",
       "    <tr>\n",
       "      <th>1</th>\n",
       "      <td>4</td>\n",
       "      <td>https://vi.wikipedia.org/wiki?curid=4</td>\n",
       "      <td>Internet Society</td>\n",
       "      <td>Internet Society Internet Society hay ISOC là ...</td>\n",
       "      <td>2022-01-20T07:59:10Z</td>\n",
       "      <td>67988747</td>\n",
       "    </tr>\n",
       "    <tr>\n",
       "      <th>2</th>\n",
       "      <td>13</td>\n",
       "      <td>https://vi.wikipedia.org/wiki?curid=13</td>\n",
       "      <td>Tiếng Việt</td>\n",
       "      <td>Tiếng Việt Tiếng Việt, cũng gọi là tiếng Việt ...</td>\n",
       "      <td>2022-05-29T03:42:42Z</td>\n",
       "      <td>68660631</td>\n",
       "    </tr>\n",
       "    <tr>\n",
       "      <th>3</th>\n",
       "      <td>24</td>\n",
       "      <td>https://vi.wikipedia.org/wiki?curid=24</td>\n",
       "      <td>Ohio</td>\n",
       "      <td>Ohio Ohio (viết tắt là OH, viết tắt cũ là O.) ...</td>\n",
       "      <td>2022-04-17T08:15:22Z</td>\n",
       "      <td>68482118</td>\n",
       "    </tr>\n",
       "    <tr>\n",
       "      <th>4</th>\n",
       "      <td>26</td>\n",
       "      <td>https://vi.wikipedia.org/wiki?curid=26</td>\n",
       "      <td>California</td>\n",
       "      <td>California California (phát âm như \"Ca-li-phót...</td>\n",
       "      <td>2022-06-16T15:27:07Z</td>\n",
       "      <td>68738039</td>\n",
       "    </tr>\n",
       "  </tbody>\n",
       "</table>\n",
       "</div>"
      ],
      "text/plain": [
       "   id                                     url             title  \\\n",
       "0   2   https://vi.wikipedia.org/wiki?curid=2       Trang Chính   \n",
       "1   4   https://vi.wikipedia.org/wiki?curid=4  Internet Society   \n",
       "2  13  https://vi.wikipedia.org/wiki?curid=13        Tiếng Việt   \n",
       "3  24  https://vi.wikipedia.org/wiki?curid=24              Ohio   \n",
       "4  26  https://vi.wikipedia.org/wiki?curid=26        California   \n",
       "\n",
       "                                                text             timestamp  \\\n",
       "0                     Trang Chính __NOEDITSECTION__   2022-05-12T12:46:53Z   \n",
       "1  Internet Society Internet Society hay ISOC là ...  2022-01-20T07:59:10Z   \n",
       "2  Tiếng Việt Tiếng Việt, cũng gọi là tiếng Việt ...  2022-05-29T03:42:42Z   \n",
       "3  Ohio Ohio (viết tắt là OH, viết tắt cũ là O.) ...  2022-04-17T08:15:22Z   \n",
       "4  California California (phát âm như \"Ca-li-phót...  2022-06-16T15:27:07Z   \n",
       "\n",
       "      revid  \n",
       "0  68591979  \n",
       "1  67988747  \n",
       "2  68660631  \n",
       "3  68482118  \n",
       "4  68738039  "
      ]
     },
     "execution_count": 9,
     "metadata": {},
     "output_type": "execute_result"
    }
   ],
   "source": [
    "df.head()"
   ]
  },
  {
   "cell_type": "code",
   "execution_count": 10,
   "metadata": {},
   "outputs": [],
   "source": [
    "from sklearn.feature_extraction.text import TfidfVectorizer"
   ]
  },
  {
   "cell_type": "code",
   "execution_count": 11,
   "metadata": {},
   "outputs": [],
   "source": [
    "corpus = df['text'].tolist()"
   ]
  },
  {
   "cell_type": "code",
   "execution_count": 12,
   "metadata": {},
   "outputs": [],
   "source": [
    "# vectorizer = TfidfVectorizer()\n",
    "# X = vectorizer.fit_transform(corpus)\n",
    "# pickle.dump(X, open('X.pkl', 'wb'))\n",
    "# filename = 'tfidfVectorizer.pkl'\n",
    "# pickle.dump(vectorizer, open(filename, 'wb'))"
   ]
  },
  {
   "cell_type": "code",
   "execution_count": 13,
   "metadata": {},
   "outputs": [],
   "source": [
    "# use this code to load\n",
    "vectorizer = pickle.load(open('tfidfVectorizer.pkl', 'rb'))\n",
    "X = pickle.load(open('X.pkl', 'rb'))\n",
    "# X = vectorizer.transform(corpus)"
   ]
  },
  {
   "cell_type": "code",
   "execution_count": 14,
   "metadata": {},
   "outputs": [
    {
     "data": {
      "text/plain": [
       "array(['00', '000', '0000', ..., '𪤄葛鐄', '𪼀越南', '𬇕尾'], dtype=object)"
      ]
     },
     "execution_count": 14,
     "metadata": {},
     "output_type": "execute_result"
    }
   ],
   "source": [
    "vectorizer.get_feature_names_out()"
   ]
  },
  {
   "cell_type": "markdown",
   "metadata": {},
   "source": [
    "# test "
   ]
  },
  {
   "cell_type": "code",
   "execution_count": 15,
   "metadata": {},
   "outputs": [
    {
     "data": {
      "text/plain": [
       "array([  37692,  130135, 1256127,  145255,   96757,    1094, 1166044,\n",
       "       1252269, 1133463,   22507], dtype=int64)"
      ]
     },
     "execution_count": 15,
     "metadata": {},
     "output_type": "execute_result"
    }
   ],
   "source": [
    "question = 'người thứ 45 làm tổng thống ở hoa kỳ  là ai'\n",
    "q = vectorizer.transform([question])\n",
    "\n",
    "# get top 10 similar documents\n",
    "top_k = 10\n",
    "top_k_idx = X.dot(q.T).toarray().flatten().argsort()[-top_k:][::-1]\n",
    "top_k_idx"
   ]
  },
  {
   "cell_type": "code",
   "execution_count": 16,
   "metadata": {},
   "outputs": [
    {
     "data": {
      "text/html": [
       "<div>\n",
       "<style scoped>\n",
       "    .dataframe tbody tr th:only-of-type {\n",
       "        vertical-align: middle;\n",
       "    }\n",
       "\n",
       "    .dataframe tbody tr th {\n",
       "        vertical-align: top;\n",
       "    }\n",
       "\n",
       "    .dataframe thead th {\n",
       "        text-align: right;\n",
       "    }\n",
       "</style>\n",
       "<table border=\"1\" class=\"dataframe\">\n",
       "  <thead>\n",
       "    <tr style=\"text-align: right;\">\n",
       "      <th></th>\n",
       "      <th>id</th>\n",
       "      <th>url</th>\n",
       "      <th>title</th>\n",
       "      <th>text</th>\n",
       "      <th>timestamp</th>\n",
       "      <th>revid</th>\n",
       "    </tr>\n",
       "  </thead>\n",
       "  <tbody>\n",
       "    <tr>\n",
       "      <th>37692</th>\n",
       "      <td>213603</td>\n",
       "      <td>https://vi.wikipedia.org/wiki?curid=213603</td>\n",
       "      <td>Danh sách Tổng thống Hoa Kỳ</td>\n",
       "      <td>Danh sách Tổng thống Hoa Kỳ Theo Hiến pháp Hoa...</td>\n",
       "      <td>2022-06-02T13:24:10Z</td>\n",
       "      <td>68676832</td>\n",
       "    </tr>\n",
       "    <tr>\n",
       "      <th>130135</th>\n",
       "      <td>540903</td>\n",
       "      <td>https://vi.wikipedia.org/wiki?curid=540903</td>\n",
       "      <td>45</td>\n",
       "      <td>45</td>\n",
       "      <td>2021-12-15T12:04:30Z</td>\n",
       "      <td>67577286</td>\n",
       "    </tr>\n",
       "    <tr>\n",
       "      <th>1256127</th>\n",
       "      <td>19556409</td>\n",
       "      <td>https://vi.wikipedia.org/wiki?curid=19556409</td>\n",
       "      <td>Tổng thống Ai Cập</td>\n",
       "      <td>Tổng thống Ai Cập Tổng thống Ai Cập (tiếng Ả R...</td>\n",
       "      <td>2021-12-20T13:19:58Z</td>\n",
       "      <td>67698017</td>\n",
       "    </tr>\n",
       "    <tr>\n",
       "      <th>145255</th>\n",
       "      <td>574342</td>\n",
       "      <td>https://vi.wikipedia.org/wiki?curid=574342</td>\n",
       "      <td>Thứ tự kế vị Tổng thống Hoa Kỳ</td>\n",
       "      <td>Thứ tự kế vị Tổng thống Hoa Kỳ Thứ tự kế vị Tổ...</td>\n",
       "      <td>2022-04-11T01:06:12Z</td>\n",
       "      <td>68442205</td>\n",
       "    </tr>\n",
       "    <tr>\n",
       "      <th>96757</th>\n",
       "      <td>406328</td>\n",
       "      <td>https://vi.wikipedia.org/wiki?curid=406328</td>\n",
       "      <td>Phó Tổng thống Hoa Kỳ</td>\n",
       "      <td>Phó Tổng thống Hoa Kỳ Phó Tổng thống Hoa Kỳ (\"...</td>\n",
       "      <td>2022-04-11T01:20:06Z</td>\n",
       "      <td>68442260</td>\n",
       "    </tr>\n",
       "    <tr>\n",
       "      <th>1094</th>\n",
       "      <td>5645</td>\n",
       "      <td>https://vi.wikipedia.org/wiki?curid=5645</td>\n",
       "      <td>Tổng thống Hoa Kỳ</td>\n",
       "      <td>Tổng thống Hoa Kỳ Tổng thống Hoa Kỳ là nguyên ...</td>\n",
       "      <td>2022-05-17T13:32:16Z</td>\n",
       "      <td>68611311</td>\n",
       "    </tr>\n",
       "    <tr>\n",
       "      <th>1166044</th>\n",
       "      <td>13469614</td>\n",
       "      <td>https://vi.wikipedia.org/wiki?curid=13469614</td>\n",
       "      <td>Danh sách Phó Tổng thống Hoa Kỳ</td>\n",
       "      <td>Danh sách Phó Tổng thống Hoa Kỳ Đã có 49 Phó T...</td>\n",
       "      <td>2022-06-02T13:24:35Z</td>\n",
       "      <td>68676833</td>\n",
       "    </tr>\n",
       "    <tr>\n",
       "      <th>1252269</th>\n",
       "      <td>19514530</td>\n",
       "      <td>https://vi.wikipedia.org/wiki?curid=19514530</td>\n",
       "      <td>Tổng thống đắc cử của Hoa Kỳ</td>\n",
       "      <td>Tổng thống đắc cử của Hoa Kỳ Tổng thống đắc cử...</td>\n",
       "      <td>2021-08-07T10:59:33Z</td>\n",
       "      <td>65358906</td>\n",
       "    </tr>\n",
       "    <tr>\n",
       "      <th>1133463</th>\n",
       "      <td>3276845</td>\n",
       "      <td>https://vi.wikipedia.org/wiki?curid=3276845</td>\n",
       "      <td>Phó Tổng thống Nam Phi</td>\n",
       "      <td>Phó Tổng thống Nam Phi Phó Tổng thống Nam Phi ...</td>\n",
       "      <td>2021-11-11T16:15:36Z</td>\n",
       "      <td>66847734</td>\n",
       "    </tr>\n",
       "    <tr>\n",
       "      <th>22507</th>\n",
       "      <td>119100</td>\n",
       "      <td>https://vi.wikipedia.org/wiki?curid=119100</td>\n",
       "      <td>Tổng thống Nga</td>\n",
       "      <td>Tổng thống Nga Tổng thống Nga () là nguyên thủ...</td>\n",
       "      <td>2022-06-11T14:04:59Z</td>\n",
       "      <td>68708406</td>\n",
       "    </tr>\n",
       "  </tbody>\n",
       "</table>\n",
       "</div>"
      ],
      "text/plain": [
       "               id                                           url  \\\n",
       "37692      213603    https://vi.wikipedia.org/wiki?curid=213603   \n",
       "130135     540903    https://vi.wikipedia.org/wiki?curid=540903   \n",
       "1256127  19556409  https://vi.wikipedia.org/wiki?curid=19556409   \n",
       "145255     574342    https://vi.wikipedia.org/wiki?curid=574342   \n",
       "96757      406328    https://vi.wikipedia.org/wiki?curid=406328   \n",
       "1094         5645      https://vi.wikipedia.org/wiki?curid=5645   \n",
       "1166044  13469614  https://vi.wikipedia.org/wiki?curid=13469614   \n",
       "1252269  19514530  https://vi.wikipedia.org/wiki?curid=19514530   \n",
       "1133463   3276845   https://vi.wikipedia.org/wiki?curid=3276845   \n",
       "22507      119100    https://vi.wikipedia.org/wiki?curid=119100   \n",
       "\n",
       "                                   title  \\\n",
       "37692        Danh sách Tổng thống Hoa Kỳ   \n",
       "130135                                45   \n",
       "1256127                Tổng thống Ai Cập   \n",
       "145255    Thứ tự kế vị Tổng thống Hoa Kỳ   \n",
       "96757              Phó Tổng thống Hoa Kỳ   \n",
       "1094                   Tổng thống Hoa Kỳ   \n",
       "1166044  Danh sách Phó Tổng thống Hoa Kỳ   \n",
       "1252269     Tổng thống đắc cử của Hoa Kỳ   \n",
       "1133463           Phó Tổng thống Nam Phi   \n",
       "22507                     Tổng thống Nga   \n",
       "\n",
       "                                                      text  \\\n",
       "37692    Danh sách Tổng thống Hoa Kỳ Theo Hiến pháp Hoa...   \n",
       "130135                                                 45    \n",
       "1256127  Tổng thống Ai Cập Tổng thống Ai Cập (tiếng Ả R...   \n",
       "145255   Thứ tự kế vị Tổng thống Hoa Kỳ Thứ tự kế vị Tổ...   \n",
       "96757    Phó Tổng thống Hoa Kỳ Phó Tổng thống Hoa Kỳ (\"...   \n",
       "1094     Tổng thống Hoa Kỳ Tổng thống Hoa Kỳ là nguyên ...   \n",
       "1166044  Danh sách Phó Tổng thống Hoa Kỳ Đã có 49 Phó T...   \n",
       "1252269  Tổng thống đắc cử của Hoa Kỳ Tổng thống đắc cử...   \n",
       "1133463  Phó Tổng thống Nam Phi Phó Tổng thống Nam Phi ...   \n",
       "22507    Tổng thống Nga Tổng thống Nga () là nguyên thủ...   \n",
       "\n",
       "                    timestamp     revid  \n",
       "37692    2022-06-02T13:24:10Z  68676832  \n",
       "130135   2021-12-15T12:04:30Z  67577286  \n",
       "1256127  2021-12-20T13:19:58Z  67698017  \n",
       "145255   2022-04-11T01:06:12Z  68442205  \n",
       "96757    2022-04-11T01:20:06Z  68442260  \n",
       "1094     2022-05-17T13:32:16Z  68611311  \n",
       "1166044  2022-06-02T13:24:35Z  68676833  \n",
       "1252269  2021-08-07T10:59:33Z  65358906  \n",
       "1133463  2021-11-11T16:15:36Z  66847734  \n",
       "22507    2022-06-11T14:04:59Z  68708406  "
      ]
     },
     "execution_count": 16,
     "metadata": {},
     "output_type": "execute_result"
    }
   ],
   "source": [
    "df.iloc[top_k_idx]"
   ]
  },
  {
   "cell_type": "code",
   "execution_count": 17,
   "metadata": {},
   "outputs": [],
   "source": [
    "from transformers import pipeline\n",
    "qa = pipeline('question-answering', model='model_2\\checkpoint-1000',\n",
    "    device=0\n",
    ")"
   ]
  },
  {
   "cell_type": "code",
   "execution_count": 18,
   "metadata": {},
   "outputs": [],
   "source": [
    "import tensorflow as tf\n",
    "model_1 = tf.keras.models.load_model('model_1')\n",
    "LABEL={\n",
    "\t'wiki':0,\n",
    "\t'number':1,\n",
    "\t'text':2\n",
    "}"
   ]
  },
  {
   "cell_type": "code",
   "execution_count": 19,
   "metadata": {},
   "outputs": [
    {
     "data": {
      "text/plain": [
       "{'score': 0.9908002018928528, 'start': 24, 'end': 36, 'answer': 'Donald Trump'}"
      ]
     },
     "execution_count": 19,
     "metadata": {},
     "output_type": "execute_result"
    }
   ],
   "source": [
    "context = df.iloc[1146916]['text']\n",
    "qa(question, context)"
   ]
  },
  {
   "cell_type": "code",
   "execution_count": 31,
   "metadata": {},
   "outputs": [],
   "source": [
    "# df[df['text'].str.lower().str.contains('tổng thống thứ 45')]"
   ]
  },
  {
   "cell_type": "code",
   "execution_count": 21,
   "metadata": {},
   "outputs": [
    {
     "name": "stdout",
     "output_type": "stream",
     "text": [
      "người thứ 45 làm tổng thống ở hoa kỳ  là ai\n",
      "wiki\n",
      "Danh sách Tổng thống Hoa Kỳ\n",
      "{'score': 0.9690871238708496, 'start': 2183, 'end': 2197, 'answer': 'Andrew Jackson'}\n",
      "----\n",
      "45\n",
      "{'score': 2.3557308850286063e-06, 'start': 0, 'end': 2, 'answer': '45'}\n",
      "----\n",
      "Tổng thống Ai Cập\n",
      "{'score': 4.947704383084783e-06, 'start': 964, 'end': 977, 'answer': 'Omar Suleiman'}\n",
      "----\n",
      "Thứ tự kế vị Tổng thống Hoa Kỳ\n",
      "{'score': 0.9653265476226807, 'start': 6656, 'end': 6666, 'answer': 'John Tyler'}\n",
      "----\n",
      "Phó Tổng thống Hoa Kỳ\n",
      "{'score': 0.9853323101997375, 'start': 18379, 'end': 18389, 'answer': 'John Adams'}\n",
      "----\n",
      "Tổng thống Hoa Kỳ\n",
      "{'score': 0.9969035387039185, 'start': 1142, 'end': 1151, 'answer': 'Joe Biden'}\n",
      "----\n",
      "Danh sách Phó Tổng thống Hoa Kỳ\n",
      "{'score': 2.0650209989980794e-05, 'start': 41, 'end': 62, 'answer': 'Phó Tổng thống Hoa Kỳ'}\n",
      "----\n",
      "Tổng thống đắc cử của Hoa Kỳ\n",
      "{'score': 1.0518874660192523e-07, 'start': 453, 'end': 462, 'answer': 'Joe Biden'}\n",
      "----\n",
      "Phó Tổng thống Nam Phi\n",
      "{'score': 0.00013176647189538926, 'start': 1025, 'end': 1040, 'answer': 'Cyril Ramaphosa'}\n",
      "----\n",
      "Tổng thống Nga\n",
      "{'score': 0.00940911564975977, 'start': 2401, 'end': 2414, 'answer': 'Boris Yeltsin'}\n",
      "----\n"
     ]
    }
   ],
   "source": [
    "inputs = []\n",
    "for i in top_k_idx:\n",
    "    row = df.iloc[i]\n",
    "    context = row['text']\n",
    "    inputs += [{'question': question, 'context': context}]\n",
    "\n",
    "outputs = qa(inputs)\n",
    "print(question)\n",
    "type=model_1.predict([question],verbose=0).argmax()\n",
    "print(list(LABEL.keys())[type])\n",
    "for i,output in enumerate(outputs):\n",
    "    print(df.iloc[top_k_idx[i]].title)\n",
    "    print(output)\n",
    "    print('----')"
   ]
  },
  {
   "cell_type": "markdown",
   "metadata": {},
   "source": [
    "# inference"
   ]
  },
  {
   "cell_type": "code",
   "execution_count": 22,
   "metadata": {},
   "outputs": [],
   "source": [
    "with open('data/zac2022_testa_only_question.json',encoding='utf-8') as f:\n",
    "    data=json.load(f)\n",
    "    reference_df = pd.json_normalize(data,'data')"
   ]
  },
  {
   "cell_type": "code",
   "execution_count": 23,
   "metadata": {},
   "outputs": [],
   "source": [
    "text_file = open(\"vietnamese-stopwords.txt\", \"r\")\n",
    "stopwords = text_file.read().split('\\n')"
   ]
  },
  {
   "cell_type": "code",
   "execution_count": 24,
   "metadata": {},
   "outputs": [],
   "source": [
    "def context_remove_stopwords(context):\n",
    "    context = context.split(' ')\n",
    "    context = [word for word in context if word not in stopwords]\n",
    "    context = ' '.join(context)\n",
    "    return context"
   ]
  },
  {
   "cell_type": "code",
   "execution_count": 43,
   "metadata": {},
   "outputs": [],
   "source": [
    "def date_format(answer):\n",
    "    if re.search(r'ngày \\d{1,2} tháng \\d{1,2} năm \\d{4}',answer):\n",
    "        answer = re.search(r'ngày \\d{1,2} tháng \\d{1,2} năm \\d{4}',answer).group()\n",
    "    # ngay xx thang xx\n",
    "    elif re.search(r'ngày \\d{1,2} tháng \\d{1,2}',answer):\n",
    "        answer = re.search(r'ngày \\d{1,2} tháng \\d{1,2}',answer).group()\n",
    "    # thang xx nam xxx\n",
    "    elif re.search(r'tháng \\d{1,2} năm \\d{4}',answer):\n",
    "        answer = re.search(r'tháng \\d{1,2} năm \\d{4}',answer).group()\n",
    "    # nam xxxx\n",
    "    elif re.search(r'năm \\d{4}',answer):\n",
    "        answer = re.search(r'năm \\d{4}',answer).group()\n",
    "\n",
    "    # 1/1/2021  dd{token}mm{token}yyyy\n",
    "    elif re.search(r'\\d{1,2}[ /|-]\\d{1,2}[ /|-]\\d{4}',answer):\n",
    "        answer = re.search(r'\\d{1,2}[ /|-]\\d{1,2}[ /|-]\\d{4}',answer).group()\n",
    "        token = re.search(r'[ /|-]',answer).group()\n",
    "        answer = answer.split(token)\n",
    "        answer = 'ngày '+answer[0]+' tháng '+answer[1]+' năm '+answer[2]\n",
    "    # 1/1       dd{token}mm\n",
    "    elif re.search(r'\\d{1,2}[ /|-]\\d{1,2}',answer):\n",
    "        answer = re.search(r'\\d{1,2}[ /|-]\\d{1,2}',answer).group()\n",
    "        token = re.search(r'[ /|-]',answer).group()\n",
    "        answer = answer.split(token)\n",
    "        answer = 'ngày '+answer[0]+' tháng '+answer[1]\n",
    "    # 1/2021    mm{token}yyyy\n",
    "    elif re.search(r'\\d{1,2}[ /|-]\\d{4}',answer):\n",
    "        answer = re.search(r'\\d{1,2}[ /|-]\\d{4}',answer).group()\n",
    "        token = re.search(r'[ /|-]',answer).group()\n",
    "        answer = answer.split(token)\n",
    "        answer = 'tháng '+answer[0]+' năm '+answer[1]\n",
    "    return answer"
   ]
  },
  {
   "cell_type": "code",
   "execution_count": 44,
   "metadata": {},
   "outputs": [
    {
     "data": {
      "text/plain": [
       "'ngày 3 tháng 10 năm 2021'"
      ]
     },
     "execution_count": 44,
     "metadata": {},
     "output_type": "execute_result"
    }
   ],
   "source": [
    "answer = 'asd á ngày 13 tháng 9 năm 1943 abc d'\n",
    "answer = '3 10 2021'\n",
    "date_format(answer)"
   ]
  },
  {
   "cell_type": "code",
   "execution_count": 45,
   "metadata": {},
   "outputs": [
    {
     "name": "stderr",
     "output_type": "stream",
     "text": [
      "  0%|          | 0/600 [00:00<?, ?it/s]c:\\Users\\ngoph\\.conda\\envs\\research\\lib\\site-packages\\transformers\\pipelines\\base.py:1043: UserWarning: You seem to be using the pipelines sequentially on GPU. In order to maximize efficiency please use a dataset\n",
      "  warnings.warn(\n",
      "100%|██████████| 600/600 [13:36<00:00,  1.36s/it]\n"
     ]
    }
   ],
   "source": [
    "submission = []\n",
    "\n",
    "for row in tqdm(reference_df.iterrows(),total=len(reference_df)):\n",
    "    question = row[1]['question']\n",
    "    q = vectorizer.transform([question])\n",
    "    top_k = 10\n",
    "    top_k_idx = X.dot(q.T).toarray().flatten().argsort()[-top_k:][::-1]\n",
    "    result = []\n",
    "    for i in top_k_idx:\n",
    "        doc_row = df.iloc[i]\n",
    "        context = doc_row['text']\n",
    "        context = context_remove_stopwords(context)\n",
    "        result.append((doc_row['title'], qa(question=question, context=context)))\n",
    "\n",
    "    result.sort(key=lambda x: x[1]['score'], reverse=True)\n",
    "    best_result = result[0]\n",
    "    type=model_1.predict([question],verbose=0).argmax()\n",
    "    if type==LABEL['wiki']:\n",
    "        answer='wiki/'+best_result[1]['answer'].replace(' ','_')\n",
    "    if type == LABEL['number']:\n",
    "        answer=best_result[1]['answer']\n",
    "        answer = re.sub(r'\\D', '', answer)\n",
    "    if type == LABEL['text']:\n",
    "        answer=best_result[1]['answer'].lower()\n",
    "        answer = date_format(answer)\n",
    "    if best_result[1]['score']<1e-8:\n",
    "        answer=None\n",
    "\n",
    "    submission.append({\n",
    "        'id': row[1]['id'],\n",
    "        'question': question,\n",
    "        'answer': answer,\n",
    "        'raw_answer': best_result[1]['answer'],\n",
    "        'type': type\n",
    "    })"
   ]
  },
  {
   "cell_type": "code",
   "execution_count": 49,
   "metadata": {},
   "outputs": [],
   "source": [
    "df_submission = pd.DataFrame(submission)"
   ]
  },
  {
   "cell_type": "code",
   "execution_count": 50,
   "metadata": {},
   "outputs": [
    {
     "data": {
      "text/html": [
       "<div>\n",
       "<style scoped>\n",
       "    .dataframe tbody tr th:only-of-type {\n",
       "        vertical-align: middle;\n",
       "    }\n",
       "\n",
       "    .dataframe tbody tr th {\n",
       "        vertical-align: top;\n",
       "    }\n",
       "\n",
       "    .dataframe thead th {\n",
       "        text-align: right;\n",
       "    }\n",
       "</style>\n",
       "<table border=\"1\" class=\"dataframe\">\n",
       "  <thead>\n",
       "    <tr style=\"text-align: right;\">\n",
       "      <th></th>\n",
       "      <th>id</th>\n",
       "      <th>question</th>\n",
       "      <th>answer</th>\n",
       "      <th>raw_answer</th>\n",
       "      <th>type</th>\n",
       "    </tr>\n",
       "  </thead>\n",
       "  <tbody>\n",
       "    <tr>\n",
       "      <th>0</th>\n",
       "      <td>testa_1</td>\n",
       "      <td>Đạo diễn phim Titanic là ai</td>\n",
       "      <td>wiki/James_Cameron</td>\n",
       "      <td>James Cameron</td>\n",
       "      <td>0</td>\n",
       "    </tr>\n",
       "    <tr>\n",
       "      <th>1</th>\n",
       "      <td>testa_2</td>\n",
       "      <td>Tổng thống Hoa Kỳ thứ 45 là ai</td>\n",
       "      <td>wiki/Kamala_Harris</td>\n",
       "      <td>Kamala Harris</td>\n",
       "      <td>0</td>\n",
       "    </tr>\n",
       "    <tr>\n",
       "      <th>2</th>\n",
       "      <td>testa_3</td>\n",
       "      <td>Hiện nay ai là tổng bí thư nước Việt Nam</td>\n",
       "      <td>wiki/Đặng_Tiểu_Bình</td>\n",
       "      <td>Đặng Tiểu Bình</td>\n",
       "      <td>0</td>\n",
       "    </tr>\n",
       "    <tr>\n",
       "      <th>3</th>\n",
       "      <td>testa_4</td>\n",
       "      <td>đâu là bản hiến pháp lâu đời nhất thế giới</td>\n",
       "      <td>wiki/Hiến_pháp_1946</td>\n",
       "      <td>Hiến pháp 1946</td>\n",
       "      <td>0</td>\n",
       "    </tr>\n",
       "    <tr>\n",
       "      <th>4</th>\n",
       "      <td>testa_5</td>\n",
       "      <td>Tổ chức thống nhất châu Phi được thành lập ở đâu</td>\n",
       "      <td>wiki/Ai_Cập</td>\n",
       "      <td>Ai Cập</td>\n",
       "      <td>0</td>\n",
       "    </tr>\n",
       "    <tr>\n",
       "      <th>...</th>\n",
       "      <td>...</td>\n",
       "      <td>...</td>\n",
       "      <td>...</td>\n",
       "      <td>...</td>\n",
       "      <td>...</td>\n",
       "    </tr>\n",
       "    <tr>\n",
       "      <th>595</th>\n",
       "      <td>testa_596</td>\n",
       "      <td>Tổng thống thứ 100 của nước Mỹ là ai</td>\n",
       "      <td>wiki/Kamala_Harris</td>\n",
       "      <td>Kamala Harris</td>\n",
       "      <td>0</td>\n",
       "    </tr>\n",
       "    <tr>\n",
       "      <th>596</th>\n",
       "      <td>testa_597</td>\n",
       "      <td>Tỉnh nào ở Việt Nam giáp với nước Nga</td>\n",
       "      <td>wiki/tỉnh_Thanh_Hóa</td>\n",
       "      <td>tỉnh Thanh Hóa</td>\n",
       "      <td>0</td>\n",
       "    </tr>\n",
       "    <tr>\n",
       "      <th>597</th>\n",
       "      <td>testa_598</td>\n",
       "      <td>người việt nam đầu tiên đạt Quả bóng vàng châu...</td>\n",
       "      <td>wiki/Lionel_Messi</td>\n",
       "      <td>Lionel Messi</td>\n",
       "      <td>0</td>\n",
       "    </tr>\n",
       "    <tr>\n",
       "      <th>598</th>\n",
       "      <td>testa_599</td>\n",
       "      <td>nguyên tố hoá học nào nhẹ hơn hidro</td>\n",
       "      <td>wiki/hydro_heli</td>\n",
       "      <td>hydro heli</td>\n",
       "      <td>0</td>\n",
       "    </tr>\n",
       "    <tr>\n",
       "      <th>599</th>\n",
       "      <td>testa_600</td>\n",
       "      <td>triều đại nào tiếp nối nhà Nguyễn trong lịch s...</td>\n",
       "      <td>wiki/Nguyễn_Tây_Sơn_Nguyễn</td>\n",
       "      <td>Nguyễn Tây Sơn Nguyễn</td>\n",
       "      <td>0</td>\n",
       "    </tr>\n",
       "  </tbody>\n",
       "</table>\n",
       "<p>600 rows × 5 columns</p>\n",
       "</div>"
      ],
      "text/plain": [
       "            id                                           question  \\\n",
       "0      testa_1                        Đạo diễn phim Titanic là ai   \n",
       "1      testa_2                     Tổng thống Hoa Kỳ thứ 45 là ai   \n",
       "2      testa_3           Hiện nay ai là tổng bí thư nước Việt Nam   \n",
       "3      testa_4         đâu là bản hiến pháp lâu đời nhất thế giới   \n",
       "4      testa_5   Tổ chức thống nhất châu Phi được thành lập ở đâu   \n",
       "..         ...                                                ...   \n",
       "595  testa_596               Tổng thống thứ 100 của nước Mỹ là ai   \n",
       "596  testa_597              Tỉnh nào ở Việt Nam giáp với nước Nga   \n",
       "597  testa_598  người việt nam đầu tiên đạt Quả bóng vàng châu...   \n",
       "598  testa_599                nguyên tố hoá học nào nhẹ hơn hidro   \n",
       "599  testa_600  triều đại nào tiếp nối nhà Nguyễn trong lịch s...   \n",
       "\n",
       "                         answer             raw_answer  type  \n",
       "0            wiki/James_Cameron          James Cameron     0  \n",
       "1            wiki/Kamala_Harris          Kamala Harris     0  \n",
       "2           wiki/Đặng_Tiểu_Bình         Đặng Tiểu Bình     0  \n",
       "3           wiki/Hiến_pháp_1946         Hiến pháp 1946     0  \n",
       "4                   wiki/Ai_Cập                 Ai Cập     0  \n",
       "..                          ...                    ...   ...  \n",
       "595          wiki/Kamala_Harris          Kamala Harris     0  \n",
       "596         wiki/tỉnh_Thanh_Hóa         tỉnh Thanh Hóa     0  \n",
       "597           wiki/Lionel_Messi           Lionel Messi     0  \n",
       "598             wiki/hydro_heli             hydro heli     0  \n",
       "599  wiki/Nguyễn_Tây_Sơn_Nguyễn  Nguyễn Tây Sơn Nguyễn     0  \n",
       "\n",
       "[600 rows x 5 columns]"
      ]
     },
     "execution_count": 50,
     "metadata": {},
     "output_type": "execute_result"
    }
   ],
   "source": [
    "df_submission"
   ]
  },
  {
   "cell_type": "code",
   "execution_count": 52,
   "metadata": {},
   "outputs": [],
   "source": [
    "json_data = df_submission.to_dict(orient='records')\n",
    "with open('submission.json', 'w', encoding='utf-8') as f:\n",
    "    json.dump({'data': json_data}, f, ensure_ascii=False, indent=2)"
   ]
  },
  {
   "cell_type": "code",
   "execution_count": 55,
   "metadata": {},
   "outputs": [],
   "source": [
    "# drop raw_answer and type\n",
    "df_submission.drop(['raw_answer','type'],axis=1,inplace=True)\n",
    "json_data = df_submission.to_dict(orient='records')\n",
    "with open('submission_final.json', 'w', encoding='utf-8') as f:\n",
    "    json.dump({'data': json_data}, f, ensure_ascii=False, indent=2)"
   ]
  }
 ],
 "metadata": {
  "kernelspec": {
   "display_name": "Python 3.9.13 ('research')",
   "language": "python",
   "name": "python3"
  },
  "language_info": {
   "codemirror_mode": {
    "name": "ipython",
    "version": 3
   },
   "file_extension": ".py",
   "mimetype": "text/x-python",
   "name": "python",
   "nbconvert_exporter": "python",
   "pygments_lexer": "ipython3",
   "version": "3.9.13"
  },
  "orig_nbformat": 4,
  "vscode": {
   "interpreter": {
    "hash": "eb38fa78ee3775302a1338b080c54d2cfaf66812fbe51ea9112886fc85d2bb05"
   }
  }
 },
 "nbformat": 4,
 "nbformat_minor": 2
}
