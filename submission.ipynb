{
 "cells": [
  {
   "cell_type": "markdown",
   "metadata": {},
   "source": [
    "# revelance ranking"
   ]
  },
  {
   "cell_type": "code",
   "execution_count": 1,
   "metadata": {},
   "outputs": [],
   "source": [
    "import pandas as pd\n",
    "from tqdm import tqdm\n",
    "import pickle\n",
    "tqdm.pandas()"
   ]
  },
  {
   "cell_type": "code",
   "execution_count": 2,
   "metadata": {},
   "outputs": [],
   "source": [
    "import json\n",
    "\n",
    "with open('C:/Users/ngoph/Desktop/zalo_ai/wikipedia_20220620_cleaned/wikipedia_20220620_cleaned.jsonl', 'r',encoding='utf-8') as json_file:\n",
    "    json_list = list(json_file)"
   ]
  },
  {
   "cell_type": "code",
   "execution_count": 3,
   "metadata": {},
   "outputs": [],
   "source": [
    "json_list = [json.loads(json_str) for json_str in json_list]"
   ]
  },
  {
   "cell_type": "code",
   "execution_count": 4,
   "metadata": {},
   "outputs": [
    {
     "data": {
      "text/html": [
       "<div>\n",
       "<style scoped>\n",
       "    .dataframe tbody tr th:only-of-type {\n",
       "        vertical-align: middle;\n",
       "    }\n",
       "\n",
       "    .dataframe tbody tr th {\n",
       "        vertical-align: top;\n",
       "    }\n",
       "\n",
       "    .dataframe thead th {\n",
       "        text-align: right;\n",
       "    }\n",
       "</style>\n",
       "<table border=\"1\" class=\"dataframe\">\n",
       "  <thead>\n",
       "    <tr style=\"text-align: right;\">\n",
       "      <th></th>\n",
       "      <th>id</th>\n",
       "      <th>url</th>\n",
       "      <th>title</th>\n",
       "      <th>text</th>\n",
       "      <th>timestamp</th>\n",
       "      <th>revid</th>\n",
       "    </tr>\n",
       "  </thead>\n",
       "  <tbody>\n",
       "    <tr>\n",
       "      <th>0</th>\n",
       "      <td>2</td>\n",
       "      <td>https://vi.wikipedia.org/wiki?curid=2</td>\n",
       "      <td>Trang Chính</td>\n",
       "      <td>Trang Chính\\n\\n&lt;templatestyles src=\"Wiki2021/s...</td>\n",
       "      <td>2022-05-12T12:46:53Z</td>\n",
       "      <td>68591979</td>\n",
       "    </tr>\n",
       "    <tr>\n",
       "      <th>1</th>\n",
       "      <td>4</td>\n",
       "      <td>https://vi.wikipedia.org/wiki?curid=4</td>\n",
       "      <td>Internet Society</td>\n",
       "      <td>Internet Society\\n\\nInternet Society hay ISOC ...</td>\n",
       "      <td>2022-01-20T07:59:10Z</td>\n",
       "      <td>67988747</td>\n",
       "    </tr>\n",
       "    <tr>\n",
       "      <th>2</th>\n",
       "      <td>13</td>\n",
       "      <td>https://vi.wikipedia.org/wiki?curid=13</td>\n",
       "      <td>Tiếng Việt</td>\n",
       "      <td>Tiếng Việt\\n\\nTiếng Việt, cũng gọi là tiếng Vi...</td>\n",
       "      <td>2022-05-29T03:42:42Z</td>\n",
       "      <td>68660631</td>\n",
       "    </tr>\n",
       "    <tr>\n",
       "      <th>3</th>\n",
       "      <td>24</td>\n",
       "      <td>https://vi.wikipedia.org/wiki?curid=24</td>\n",
       "      <td>Ohio</td>\n",
       "      <td>Ohio\\n\\nOhio (viết tắt là OH, viết tắt cũ là O...</td>\n",
       "      <td>2022-04-17T08:15:22Z</td>\n",
       "      <td>68482118</td>\n",
       "    </tr>\n",
       "    <tr>\n",
       "      <th>4</th>\n",
       "      <td>26</td>\n",
       "      <td>https://vi.wikipedia.org/wiki?curid=26</td>\n",
       "      <td>California</td>\n",
       "      <td>California\\n\\nCalifornia (phát âm như \"Ca-li-p...</td>\n",
       "      <td>2022-06-16T15:27:07Z</td>\n",
       "      <td>68738039</td>\n",
       "    </tr>\n",
       "  </tbody>\n",
       "</table>\n",
       "</div>"
      ],
      "text/plain": [
       "   id                                     url             title  \\\n",
       "0   2   https://vi.wikipedia.org/wiki?curid=2       Trang Chính   \n",
       "1   4   https://vi.wikipedia.org/wiki?curid=4  Internet Society   \n",
       "2  13  https://vi.wikipedia.org/wiki?curid=13        Tiếng Việt   \n",
       "3  24  https://vi.wikipedia.org/wiki?curid=24              Ohio   \n",
       "4  26  https://vi.wikipedia.org/wiki?curid=26        California   \n",
       "\n",
       "                                                text             timestamp  \\\n",
       "0  Trang Chính\\n\\n<templatestyles src=\"Wiki2021/s...  2022-05-12T12:46:53Z   \n",
       "1  Internet Society\\n\\nInternet Society hay ISOC ...  2022-01-20T07:59:10Z   \n",
       "2  Tiếng Việt\\n\\nTiếng Việt, cũng gọi là tiếng Vi...  2022-05-29T03:42:42Z   \n",
       "3  Ohio\\n\\nOhio (viết tắt là OH, viết tắt cũ là O...  2022-04-17T08:15:22Z   \n",
       "4  California\\n\\nCalifornia (phát âm như \"Ca-li-p...  2022-06-16T15:27:07Z   \n",
       "\n",
       "      revid  \n",
       "0  68591979  \n",
       "1  67988747  \n",
       "2  68660631  \n",
       "3  68482118  \n",
       "4  68738039  "
      ]
     },
     "execution_count": 4,
     "metadata": {},
     "output_type": "execute_result"
    }
   ],
   "source": [
    "df = pd.DataFrame(json_list)\n",
    "df.head()"
   ]
  },
  {
   "cell_type": "code",
   "execution_count": 5,
   "metadata": {},
   "outputs": [],
   "source": [
    "# free up memory\n",
    "del json_list"
   ]
  },
  {
   "cell_type": "code",
   "execution_count": 6,
   "metadata": {},
   "outputs": [],
   "source": [
    "from bs4 import BeautifulSoup\n",
    "import re\n",
    "\n",
    "def strip_html_tags(text):\n",
    "    soup = BeautifulSoup(text, \"html.parser\")\n",
    "    stripped_text = soup.get_text(separator=\" \")\n",
    "    return stripped_text\n",
    "\n",
    "def normalize_text(text):\n",
    "    text = strip_html_tags(text)\n",
    "    # remove \\n \n",
    "    text = re.sub(r'\\n', ' ', text)\n",
    "    # remove \\xa0\n",
    "    text = re.sub(r'\\xa0', ' ', text)\n",
    "    # remove 'BULLET::::-'\n",
    "    text = re.sub(r'BULLET::::-', ' ', text)\n",
    "    # remove duplicate spaces\n",
    "    text = re.sub(r'\\s+', ' ', text)\n",
    "    return text"
   ]
  },
  {
   "cell_type": "code",
   "execution_count": 7,
   "metadata": {},
   "outputs": [
    {
     "name": "stderr",
     "output_type": "stream",
     "text": [
      "  0%|          | 378/1273469 [00:00<22:23, 947.61it/s]c:\\Users\\ngoph\\.conda\\envs\\research\\lib\\site-packages\\bs4\\__init__.py:435: MarkupResemblesLocatorWarning: The input looks more like a filename than markup. You may want to open this file and pass the filehandle into Beautiful Soup.\n",
      "  warnings.warn(\n",
      "  0%|          | 4732/1273469 [00:02<09:17, 2274.01it/s]c:\\Users\\ngoph\\.conda\\envs\\research\\lib\\site-packages\\bs4\\builder\\__init__.py:545: XMLParsedAsHTMLWarning: It looks like you're parsing an XML document using an HTML parser. If this really is an HTML document (maybe it's XHTML?), you can ignore or filter this warning. If it's XML, you should know that using an XML parser will be more reliable. To parse this document as XML, make sure you have the lxml package installed, and pass the keyword argument `features=\"xml\"` into the BeautifulSoup constructor.\n",
      "  warnings.warn(\n",
      "100%|██████████| 1273469/1273469 [01:27<00:00, 14603.83it/s]\n"
     ]
    }
   ],
   "source": [
    "df['text'] = df['text'].progress_apply(normalize_text)"
   ]
  },
  {
   "cell_type": "code",
   "execution_count": 8,
   "metadata": {},
   "outputs": [
    {
     "data": {
      "text/html": [
       "<div>\n",
       "<style scoped>\n",
       "    .dataframe tbody tr th:only-of-type {\n",
       "        vertical-align: middle;\n",
       "    }\n",
       "\n",
       "    .dataframe tbody tr th {\n",
       "        vertical-align: top;\n",
       "    }\n",
       "\n",
       "    .dataframe thead th {\n",
       "        text-align: right;\n",
       "    }\n",
       "</style>\n",
       "<table border=\"1\" class=\"dataframe\">\n",
       "  <thead>\n",
       "    <tr style=\"text-align: right;\">\n",
       "      <th></th>\n",
       "      <th>id</th>\n",
       "      <th>url</th>\n",
       "      <th>title</th>\n",
       "      <th>text</th>\n",
       "      <th>timestamp</th>\n",
       "      <th>revid</th>\n",
       "    </tr>\n",
       "  </thead>\n",
       "  <tbody>\n",
       "    <tr>\n",
       "      <th>0</th>\n",
       "      <td>2</td>\n",
       "      <td>https://vi.wikipedia.org/wiki?curid=2</td>\n",
       "      <td>Trang Chính</td>\n",
       "      <td>Trang Chính __NOEDITSECTION__</td>\n",
       "      <td>2022-05-12T12:46:53Z</td>\n",
       "      <td>68591979</td>\n",
       "    </tr>\n",
       "    <tr>\n",
       "      <th>1</th>\n",
       "      <td>4</td>\n",
       "      <td>https://vi.wikipedia.org/wiki?curid=4</td>\n",
       "      <td>Internet Society</td>\n",
       "      <td>Internet Society Internet Society hay ISOC là ...</td>\n",
       "      <td>2022-01-20T07:59:10Z</td>\n",
       "      <td>67988747</td>\n",
       "    </tr>\n",
       "    <tr>\n",
       "      <th>2</th>\n",
       "      <td>13</td>\n",
       "      <td>https://vi.wikipedia.org/wiki?curid=13</td>\n",
       "      <td>Tiếng Việt</td>\n",
       "      <td>Tiếng Việt Tiếng Việt, cũng gọi là tiếng Việt ...</td>\n",
       "      <td>2022-05-29T03:42:42Z</td>\n",
       "      <td>68660631</td>\n",
       "    </tr>\n",
       "    <tr>\n",
       "      <th>3</th>\n",
       "      <td>24</td>\n",
       "      <td>https://vi.wikipedia.org/wiki?curid=24</td>\n",
       "      <td>Ohio</td>\n",
       "      <td>Ohio Ohio (viết tắt là OH, viết tắt cũ là O.) ...</td>\n",
       "      <td>2022-04-17T08:15:22Z</td>\n",
       "      <td>68482118</td>\n",
       "    </tr>\n",
       "    <tr>\n",
       "      <th>4</th>\n",
       "      <td>26</td>\n",
       "      <td>https://vi.wikipedia.org/wiki?curid=26</td>\n",
       "      <td>California</td>\n",
       "      <td>California California (phát âm như \"Ca-li-phót...</td>\n",
       "      <td>2022-06-16T15:27:07Z</td>\n",
       "      <td>68738039</td>\n",
       "    </tr>\n",
       "  </tbody>\n",
       "</table>\n",
       "</div>"
      ],
      "text/plain": [
       "   id                                     url             title  \\\n",
       "0   2   https://vi.wikipedia.org/wiki?curid=2       Trang Chính   \n",
       "1   4   https://vi.wikipedia.org/wiki?curid=4  Internet Society   \n",
       "2  13  https://vi.wikipedia.org/wiki?curid=13        Tiếng Việt   \n",
       "3  24  https://vi.wikipedia.org/wiki?curid=24              Ohio   \n",
       "4  26  https://vi.wikipedia.org/wiki?curid=26        California   \n",
       "\n",
       "                                                text             timestamp  \\\n",
       "0                     Trang Chính __NOEDITSECTION__   2022-05-12T12:46:53Z   \n",
       "1  Internet Society Internet Society hay ISOC là ...  2022-01-20T07:59:10Z   \n",
       "2  Tiếng Việt Tiếng Việt, cũng gọi là tiếng Việt ...  2022-05-29T03:42:42Z   \n",
       "3  Ohio Ohio (viết tắt là OH, viết tắt cũ là O.) ...  2022-04-17T08:15:22Z   \n",
       "4  California California (phát âm như \"Ca-li-phót...  2022-06-16T15:27:07Z   \n",
       "\n",
       "      revid  \n",
       "0  68591979  \n",
       "1  67988747  \n",
       "2  68660631  \n",
       "3  68482118  \n",
       "4  68738039  "
      ]
     },
     "execution_count": 8,
     "metadata": {},
     "output_type": "execute_result"
    }
   ],
   "source": [
    "df.head()"
   ]
  },
  {
   "cell_type": "code",
   "execution_count": 9,
   "metadata": {},
   "outputs": [],
   "source": [
    "from sklearn.feature_extraction.text import TfidfVectorizer"
   ]
  },
  {
   "cell_type": "code",
   "execution_count": 10,
   "metadata": {},
   "outputs": [],
   "source": [
    "corpus = df['text'].tolist()"
   ]
  },
  {
   "cell_type": "code",
   "execution_count": null,
   "metadata": {},
   "outputs": [],
   "source": [
    "# vectorizer = TfidfVectorizer()\n",
    "# X = vectorizer.fit_transform(corpus)\n",
    "# filename = 'tfidfVectorizer.pkl'\n",
    "# pickle.dump(vectorizer, open(filename, 'wb'))"
   ]
  },
  {
   "cell_type": "code",
   "execution_count": null,
   "metadata": {},
   "outputs": [],
   "source": [
    "# use this code to load\n",
    "vectorizer = pickle.load(open('tfidfVectorizer.pkl', 'rb'))\n",
    "X = vectorizer.transform(corpus)"
   ]
  },
  {
   "cell_type": "code",
   "execution_count": 12,
   "metadata": {},
   "outputs": [
    {
     "data": {
      "text/plain": [
       "array(['00', '000', '0000', ..., '𪤄葛鐄', '𪼀越南', '𬇕尾'], dtype=object)"
      ]
     },
     "execution_count": 12,
     "metadata": {},
     "output_type": "execute_result"
    }
   ],
   "source": [
    "vectorizer.get_feature_names_out()"
   ]
  },
  {
   "cell_type": "markdown",
   "metadata": {},
   "source": [
    "# test "
   ]
  },
  {
   "cell_type": "code",
   "execution_count": 84,
   "metadata": {},
   "outputs": [
    {
     "data": {
      "text/plain": [
       "array([1143961,  578863,  582928,   25801,   16864, 1244663, 1256162,\n",
       "         10774, 1233222,  460583], dtype=int64)"
      ]
     },
     "execution_count": 84,
     "metadata": {},
     "output_type": "execute_result"
    }
   ],
   "source": [
    "question = 'Ai là người phát minh ra máy bay?'\n",
    "q = vectorizer.transform([question])\n",
    "\n",
    "# get top 10 similar documents\n",
    "top_k = 10\n",
    "top_k_idx = X.dot(q.T).toarray().flatten().argsort()[-top_k:][::-1]\n",
    "top_k_idx"
   ]
  },
  {
   "cell_type": "code",
   "execution_count": 85,
   "metadata": {},
   "outputs": [
    {
     "data": {
      "text/html": [
       "<div>\n",
       "<style scoped>\n",
       "    .dataframe tbody tr th:only-of-type {\n",
       "        vertical-align: middle;\n",
       "    }\n",
       "\n",
       "    .dataframe tbody tr th {\n",
       "        vertical-align: top;\n",
       "    }\n",
       "\n",
       "    .dataframe thead th {\n",
       "        text-align: right;\n",
       "    }\n",
       "</style>\n",
       "<table border=\"1\" class=\"dataframe\">\n",
       "  <thead>\n",
       "    <tr style=\"text-align: right;\">\n",
       "      <th></th>\n",
       "      <th>id</th>\n",
       "      <th>url</th>\n",
       "      <th>title</th>\n",
       "      <th>text</th>\n",
       "      <th>timestamp</th>\n",
       "      <th>revid</th>\n",
       "    </tr>\n",
       "  </thead>\n",
       "  <tbody>\n",
       "    <tr>\n",
       "      <th>1143961</th>\n",
       "      <td>3523602</td>\n",
       "      <td>https://vi.wikipedia.org/wiki?curid=3523602</td>\n",
       "      <td>Máy bay dân dụng</td>\n",
       "      <td>Máy bay dân dụng Một máy bay dân dụng, máy bay...</td>\n",
       "      <td>2022-05-11T05:00:55Z</td>\n",
       "      <td>68587135</td>\n",
       "    </tr>\n",
       "    <tr>\n",
       "      <th>578863</th>\n",
       "      <td>1684926</td>\n",
       "      <td>https://vi.wikipedia.org/wiki?curid=1684926</td>\n",
       "      <td>Danh sách máy bay quân sự giữa hai cuộc chiến ...</td>\n",
       "      <td>Danh sách máy bay quân sự giữa hai cuộc chiến ...</td>\n",
       "      <td>2016-09-07T08:12:10Z</td>\n",
       "      <td>24183214</td>\n",
       "    </tr>\n",
       "    <tr>\n",
       "      <th>582928</th>\n",
       "      <td>1739768</td>\n",
       "      <td>https://vi.wikipedia.org/wiki?curid=1739768</td>\n",
       "      <td>Danh sách máy bay ném bom</td>\n",
       "      <td>Danh sách máy bay ném bom Danh sách máy bay né...</td>\n",
       "      <td>2021-10-19T06:38:50Z</td>\n",
       "      <td>66411836</td>\n",
       "    </tr>\n",
       "    <tr>\n",
       "      <th>25801</th>\n",
       "      <td>141312</td>\n",
       "      <td>https://vi.wikipedia.org/wiki?curid=141312</td>\n",
       "      <td>Máy bay quân sự</td>\n",
       "      <td>Máy bay quân sự Một máy bay quân sự là bất kỳ ...</td>\n",
       "      <td>2021-12-20T12:11:51Z</td>\n",
       "      <td>67692885</td>\n",
       "    </tr>\n",
       "    <tr>\n",
       "      <th>16864</th>\n",
       "      <td>88610</td>\n",
       "      <td>https://vi.wikipedia.org/wiki?curid=88610</td>\n",
       "      <td>Polikarpov</td>\n",
       "      <td>Polikarpov Polikarpov là một phòng thiết kế (O...</td>\n",
       "      <td>2022-03-11T06:44:10Z</td>\n",
       "      <td>68265694</td>\n",
       "    </tr>\n",
       "    <tr>\n",
       "      <th>1244663</th>\n",
       "      <td>19433483</td>\n",
       "      <td>https://vi.wikipedia.org/wiki?curid=19433483</td>\n",
       "      <td>Chuyến bay 66 của Carson Air</td>\n",
       "      <td>Chuyến bay 66 của Carson Air Carson Air Flight...</td>\n",
       "      <td>2021-12-26T17:26:15Z</td>\n",
       "      <td>67741329</td>\n",
       "    </tr>\n",
       "    <tr>\n",
       "      <th>1256162</th>\n",
       "      <td>19556717</td>\n",
       "      <td>https://vi.wikipedia.org/wiki?curid=19556717</td>\n",
       "      <td>Chuyến bay 328 của United Airlines</td>\n",
       "      <td>Chuyến bay 328 của United Airlines Chuyến bay ...</td>\n",
       "      <td>2022-02-08T00:38:56Z</td>\n",
       "      <td>68118518</td>\n",
       "    </tr>\n",
       "    <tr>\n",
       "      <th>10774</th>\n",
       "      <td>59155</td>\n",
       "      <td>https://vi.wikipedia.org/wiki?curid=59155</td>\n",
       "      <td>Máy bay cánh cố định</td>\n",
       "      <td>Máy bay cánh cố định Máy bay có cánh cố định l...</td>\n",
       "      <td>2021-10-17T10:19:10Z</td>\n",
       "      <td>66383065</td>\n",
       "    </tr>\n",
       "    <tr>\n",
       "      <th>1233222</th>\n",
       "      <td>17298068</td>\n",
       "      <td>https://vi.wikipedia.org/wiki?curid=17298068</td>\n",
       "      <td>Chế độ máy bay</td>\n",
       "      <td>Chế độ máy bay Chế độ máy bay có thể là: Chế đ...</td>\n",
       "      <td>2021-07-13T05:28:06Z</td>\n",
       "      <td>65200799</td>\n",
       "    </tr>\n",
       "    <tr>\n",
       "      <th>460583</th>\n",
       "      <td>1401009</td>\n",
       "      <td>https://vi.wikipedia.org/wiki?curid=1401009</td>\n",
       "      <td>Danh sách máy bay trong Chiến tranh thế giới t...</td>\n",
       "      <td>Danh sách máy bay trong Chiến tranh thế giới t...</td>\n",
       "      <td>2022-06-02T12:03:32Z</td>\n",
       "      <td>68676628</td>\n",
       "    </tr>\n",
       "  </tbody>\n",
       "</table>\n",
       "</div>"
      ],
      "text/plain": [
       "               id                                           url  \\\n",
       "1143961   3523602   https://vi.wikipedia.org/wiki?curid=3523602   \n",
       "578863    1684926   https://vi.wikipedia.org/wiki?curid=1684926   \n",
       "582928    1739768   https://vi.wikipedia.org/wiki?curid=1739768   \n",
       "25801      141312    https://vi.wikipedia.org/wiki?curid=141312   \n",
       "16864       88610     https://vi.wikipedia.org/wiki?curid=88610   \n",
       "1244663  19433483  https://vi.wikipedia.org/wiki?curid=19433483   \n",
       "1256162  19556717  https://vi.wikipedia.org/wiki?curid=19556717   \n",
       "10774       59155     https://vi.wikipedia.org/wiki?curid=59155   \n",
       "1233222  17298068  https://vi.wikipedia.org/wiki?curid=17298068   \n",
       "460583    1401009   https://vi.wikipedia.org/wiki?curid=1401009   \n",
       "\n",
       "                                                     title  \\\n",
       "1143961                                   Máy bay dân dụng   \n",
       "578863   Danh sách máy bay quân sự giữa hai cuộc chiến ...   \n",
       "582928                           Danh sách máy bay ném bom   \n",
       "25801                                      Máy bay quân sự   \n",
       "16864                                           Polikarpov   \n",
       "1244663                       Chuyến bay 66 của Carson Air   \n",
       "1256162                 Chuyến bay 328 của United Airlines   \n",
       "10774                                 Máy bay cánh cố định   \n",
       "1233222                                     Chế độ máy bay   \n",
       "460583   Danh sách máy bay trong Chiến tranh thế giới t...   \n",
       "\n",
       "                                                      text  \\\n",
       "1143961  Máy bay dân dụng Một máy bay dân dụng, máy bay...   \n",
       "578863   Danh sách máy bay quân sự giữa hai cuộc chiến ...   \n",
       "582928   Danh sách máy bay ném bom Danh sách máy bay né...   \n",
       "25801    Máy bay quân sự Một máy bay quân sự là bất kỳ ...   \n",
       "16864    Polikarpov Polikarpov là một phòng thiết kế (O...   \n",
       "1244663  Chuyến bay 66 của Carson Air Carson Air Flight...   \n",
       "1256162  Chuyến bay 328 của United Airlines Chuyến bay ...   \n",
       "10774    Máy bay cánh cố định Máy bay có cánh cố định l...   \n",
       "1233222  Chế độ máy bay Chế độ máy bay có thể là: Chế đ...   \n",
       "460583   Danh sách máy bay trong Chiến tranh thế giới t...   \n",
       "\n",
       "                    timestamp     revid  \n",
       "1143961  2022-05-11T05:00:55Z  68587135  \n",
       "578863   2016-09-07T08:12:10Z  24183214  \n",
       "582928   2021-10-19T06:38:50Z  66411836  \n",
       "25801    2021-12-20T12:11:51Z  67692885  \n",
       "16864    2022-03-11T06:44:10Z  68265694  \n",
       "1244663  2021-12-26T17:26:15Z  67741329  \n",
       "1256162  2022-02-08T00:38:56Z  68118518  \n",
       "10774    2021-10-17T10:19:10Z  66383065  \n",
       "1233222  2021-07-13T05:28:06Z  65200799  \n",
       "460583   2022-06-02T12:03:32Z  68676628  "
      ]
     },
     "execution_count": 85,
     "metadata": {},
     "output_type": "execute_result"
    }
   ],
   "source": [
    "df.iloc[top_k_idx]"
   ]
  },
  {
   "cell_type": "code",
   "execution_count": 81,
   "metadata": {},
   "outputs": [],
   "source": [
    "from transformers import pipeline\n",
    "qa = pipeline('question-answering', model='model_2\\saved',\n",
    "    device=0\n",
    ")"
   ]
  },
  {
   "cell_type": "code",
   "execution_count": 82,
   "metadata": {},
   "outputs": [],
   "source": [
    "import tensorflow as tf\n",
    "model_1 = tf.keras.models.load_model('model_1')\n",
    "LABEL={\n",
    "\t'wiki':0,\n",
    "\t'number':1,\n",
    "\t'text':2\n",
    "}"
   ]
  },
  {
   "cell_type": "code",
   "execution_count": 86,
   "metadata": {},
   "outputs": [
    {
     "name": "stdout",
     "output_type": "stream",
     "text": [
      "Ai là người phát minh ra máy bay?\n",
      "wiki\n",
      "Máy bay dân dụng\n",
      "{'score': 0.9873418211936951, 'start': 342, 'end': 363, 'answer': 'hai anh em nhà Wright'}\n",
      "----\n",
      "Danh sách máy bay quân sự giữa hai cuộc chiến tranh thế giới\n",
      "{'score': 5.980842904262929e-11, 'start': 5795, 'end': 5810, 'answer': 'Albatros Al 101'}\n",
      "----\n",
      "Danh sách máy bay ném bom\n",
      "{'score': 1.4204627518665802e-07, 'start': 95, 'end': 110, 'answer': 'Máy bay ném bom'}\n",
      "----\n",
      "Máy bay quân sự\n",
      "{'score': 6.571782007469551e-11, 'start': 0, 'end': 15, 'answer': 'Máy bay quân sự'}\n",
      "----\n",
      "Polikarpov\n",
      "{'score': 7.887290820463022e-09, 'start': 108, 'end': 138, 'answer': 'Nikolai Nikolaevich Polikarpov'}\n",
      "----\n",
      "Chuyến bay 66 của Carson Air\n",
      "{'score': 0.0010760389268398285, 'start': 1005, 'end': 1018, 'answer': 'Robert Brandt'}\n",
      "----\n",
      "Chuyến bay 328 của United Airlines\n",
      "{'score': 6.243306652914393e-13, 'start': 1095, 'end': 1109, 'answer': 'Boeing 777-200'}\n",
      "----\n",
      "Máy bay cánh cố định\n",
      "{'score': 2.0618230701322654e-13, 'start': 252, 'end': 272, 'answer': 'máy bay có cánh quay'}\n",
      "----\n",
      "Chế độ máy bay\n",
      "{'score': 7.293962661506295e-14, 'start': 0, 'end': 14, 'answer': 'Chế độ máy bay'}\n",
      "----\n",
      "Danh sách máy bay trong Chiến tranh thế giới thứ hai\n",
      "{'score': 4.338862602537574e-12, 'start': 2907, 'end': 2926, 'answer': 'Máy bay thử nghiệm.'}\n",
      "----\n"
     ]
    }
   ],
   "source": [
    "inputs = []\n",
    "for i in top_k_idx:\n",
    "    row = df.iloc[i]\n",
    "    context = row['text']\n",
    "    inputs += [{'question': question, 'context': context}]\n",
    "\n",
    "outputs = qa(inputs)\n",
    "print(question)\n",
    "type=model_1.predict([question],verbose=0).argmax()\n",
    "print(list(LABEL.keys())[type])\n",
    "for i,output in enumerate(outputs):\n",
    "    print(df.iloc[top_k_idx[i]].title)\n",
    "    print(output)\n",
    "    print('----')"
   ]
  },
  {
   "cell_type": "markdown",
   "metadata": {},
   "source": [
    "# inference"
   ]
  },
  {
   "cell_type": "code",
   "execution_count": 18,
   "metadata": {},
   "outputs": [],
   "source": [
    "with open('data/zac2022_testa_only_question.json',encoding='utf-8') as f:\n",
    "    data=json.load(f)\n",
    "    reference_df = pd.json_normalize(data,'data')"
   ]
  },
  {
   "cell_type": "code",
   "execution_count": 89,
   "metadata": {},
   "outputs": [
    {
     "name": "stderr",
     "output_type": "stream",
     "text": [
      "  0%|          | 2/600 [00:02<11:15,  1.13s/it]c:\\Users\\ngoph\\.conda\\envs\\research\\lib\\site-packages\\transformers\\pipelines\\base.py:1043: UserWarning: You seem to be using the pipelines sequentially on GPU. In order to maximize efficiency please use a dataset\n",
      "  warnings.warn(\n",
      "100%|██████████| 600/600 [08:19<00:00,  1.20it/s]\n"
     ]
    }
   ],
   "source": [
    "submission = []\n",
    "\n",
    "for row in tqdm(reference_df.iterrows(),total=len(reference_df)):\n",
    "    question = row[1]['question']\n",
    "    q = vectorizer.transform([question])\n",
    "    top_k = 3\n",
    "    top_k_idx = X.dot(q.T).toarray().flatten().argsort()[-top_k:][::-1]\n",
    "    result = []\n",
    "    for i in top_k_idx:\n",
    "        doc_row = df.iloc[i]\n",
    "        context = doc_row['text']\n",
    "        result.append((doc_row['title'], qa(question=question, context=context)))\n",
    "\n",
    "    result.sort(key=lambda x: x[1]['score'], reverse=True)\n",
    "    best_result = result[0]\n",
    "    type=model_1.predict([question],verbose=0).argmax()\n",
    "    if type==LABEL['wiki']:\n",
    "        answer='wiki/'+best_result[1]['answer'].replace(' ','_')\n",
    "    else:\n",
    "        answer=best_result[1]['answer']\n",
    "        \n",
    "    if best_result[1]['score']<1e-8:\n",
    "        answer=None\n",
    "\n",
    "    submission.append({\n",
    "        'id': row[1]['id'],\n",
    "        'question': question,\n",
    "        'answer': answer\n",
    "    })"
   ]
  },
  {
   "cell_type": "code",
   "execution_count": 1,
   "metadata": {},
   "outputs": [
    {
     "ename": "NameError",
     "evalue": "name 'pd' is not defined",
     "output_type": "error",
     "traceback": [
      "\u001b[1;31m---------------------------------------------------------------------------\u001b[0m",
      "\u001b[1;31mNameError\u001b[0m                                 Traceback (most recent call last)",
      "\u001b[1;32mc:\\Users\\ngoph\\Desktop\\zalo_ai\\e2eqa-train+public_test-v1\\Relevance Ranking.ipynb Cell 24\u001b[0m in \u001b[0;36m<cell line: 1>\u001b[1;34m()\u001b[0m\n\u001b[1;32m----> <a href='vscode-notebook-cell:/c%3A/Users/ngoph/Desktop/zalo_ai/e2eqa-train%2Bpublic_test-v1/Relevance%20Ranking.ipynb#X32sZmlsZQ%3D%3D?line=0'>1</a>\u001b[0m df_submission \u001b[39m=\u001b[39m pd\u001b[39m.\u001b[39mDataFrame(submission)\n",
      "\u001b[1;31mNameError\u001b[0m: name 'pd' is not defined"
     ]
    }
   ],
   "source": [
    "df_submission = pd.DataFrame(submission)"
   ]
  },
  {
   "cell_type": "code",
   "execution_count": 91,
   "metadata": {},
   "outputs": [],
   "source": [
    "json_data = df_submission.to_dict(orient='records')\n",
    "with open('submission.json', 'w', encoding='utf-8') as f:\n",
    "    json.dump({'data': json_data}, f, ensure_ascii=False, indent=2)"
   ]
  }
 ],
 "metadata": {
  "kernelspec": {
   "display_name": "Python 3.9.13 ('research')",
   "language": "python",
   "name": "python3"
  },
  "language_info": {
   "codemirror_mode": {
    "name": "ipython",
    "version": 3
   },
   "file_extension": ".py",
   "mimetype": "text/x-python",
   "name": "python",
   "nbconvert_exporter": "python",
   "pygments_lexer": "ipython3",
   "version": "3.9.13"
  },
  "orig_nbformat": 4,
  "vscode": {
   "interpreter": {
    "hash": "eb38fa78ee3775302a1338b080c54d2cfaf66812fbe51ea9112886fc85d2bb05"
   }
  }
 },
 "nbformat": 4,
 "nbformat_minor": 2
}
