{
 "cells": [
  {
   "cell_type": "markdown",
   "metadata": {},
   "source": [
    "# revelance ranking"
   ]
  },
  {
   "cell_type": "code",
   "execution_count": 1,
   "metadata": {},
   "outputs": [],
   "source": [
    "import torch\n",
    "import tensorflow as tf"
   ]
  },
  {
   "cell_type": "code",
   "execution_count": 2,
   "metadata": {},
   "outputs": [],
   "source": [
    "import pandas as pd\n",
    "from tqdm import tqdm\n",
    "import numpy as np\n",
    "import pickle\n",
    "from sentence_transformers import SentenceTransformer, util\n",
    "tqdm.pandas()\n",
    "from pyvi.ViTokenizer import tokenize"
   ]
  },
  {
   "cell_type": "code",
   "execution_count": 3,
   "metadata": {},
   "outputs": [
    {
     "name": "stdout",
     "output_type": "stream",
     "text": [
      "INFO: Pandarallel will run on 6 workers.\n",
      "INFO: Pandarallel will use standard multiprocessing data transfer (pipe) to transfer data between the main process and workers.\n",
      "\n",
      "WARNING: You are on Windows. If you detect any issue with pandarallel, be sure you checked out the Troubleshooting page:\n",
      "https://nalepae.github.io/pandarallel/troubleshooting/\n"
     ]
    }
   ],
   "source": [
    "from pandarallel import pandarallel\n",
    "pandarallel.initialize(progress_bar=True)"
   ]
  },
  {
   "cell_type": "code",
   "execution_count": 4,
   "metadata": {},
   "outputs": [
    {
     "data": {
      "application/vnd.jupyter.widget-view+json": {
       "model_id": "63348029826f4a63bc011c8988b3b252",
       "version_major": 2,
       "version_minor": 0
      },
      "text/plain": [
       "VBox(children=(HBox(children=(IntProgress(value=0, description='0.00%', max=212245), Label(value='0 / 212245')…"
      ]
     },
     "metadata": {},
     "output_type": "display_data"
    }
   ],
   "source": [
    "df = pd.read_csv('data/zac2022_train_merged_final_preprocessing.json',keep_default_na=False)\n",
    "df['title_tokenize'] = df['title'].parallel_apply(tokenize)\n",
    "def get_text(title):\n",
    "    return df[df['title_tokenize']==title]['text'].values[0]"
   ]
  },
  {
   "cell_type": "code",
   "execution_count": 5,
   "metadata": {},
   "outputs": [],
   "source": [
    "sentences = pickle.load(open('data_gen/sentences.pkl','rb'))\n",
    "corpus_embeddings = pickle.load(open('data_gen/corpus_embeddings.pkl','rb'))\n",
    "title_embeddings = pickle.load(open('data_gen/title_embeddings.pkl','rb'))\n",
    "titles = pickle.load(open('data_gen/titles.pkl','rb'))"
   ]
  },
  {
   "cell_type": "code",
   "execution_count": 6,
   "metadata": {},
   "outputs": [
    {
     "data": {
      "text/plain": [
       "(1273469, 1273469)"
      ]
     },
     "execution_count": 6,
     "metadata": {},
     "output_type": "execute_result"
    }
   ],
   "source": [
    "len(sentences), len(titles)"
   ]
  },
  {
   "cell_type": "code",
   "execution_count": 7,
   "metadata": {},
   "outputs": [
    {
     "data": {
      "text/plain": [
       "(torch.Size([1273469, 768]), torch.Size([1273469, 768]))"
      ]
     },
     "execution_count": 7,
     "metadata": {},
     "output_type": "execute_result"
    }
   ],
   "source": [
    "title_embeddings.shape , corpus_embeddings.shape"
   ]
  },
  {
   "cell_type": "code",
   "execution_count": 8,
   "metadata": {},
   "outputs": [
    {
     "name": "stderr",
     "output_type": "stream",
     "text": [
      "No sentence-transformers model found with name C:\\Users\\ngoph/.cache\\torch\\sentence_transformers\\VoVanPhuc_sup-SimCSE-VietNamese-phobert-base. Creating a new one with MEAN pooling.\n",
      "Some weights of the model checkpoint at C:\\Users\\ngoph/.cache\\torch\\sentence_transformers\\VoVanPhuc_sup-SimCSE-VietNamese-phobert-base were not used when initializing RobertaModel: ['mlp.dense.bias', 'mlp.dense.weight']\n",
      "- This IS expected if you are initializing RobertaModel from the checkpoint of a model trained on another task or with another architecture (e.g. initializing a BertForSequenceClassification model from a BertForPreTraining model).\n",
      "- This IS NOT expected if you are initializing RobertaModel from the checkpoint of a model that you expect to be exactly identical (initializing a BertForSequenceClassification model from a BertForSequenceClassification model).\n"
     ]
    }
   ],
   "source": [
    "sentence_model = SentenceTransformer('VoVanPhuc/sup-SimCSE-VietNamese-phobert-base')"
   ]
  },
  {
   "cell_type": "code",
   "execution_count": 9,
   "metadata": {},
   "outputs": [],
   "source": [
    "from transformers import pipeline\n",
    "qa = pipeline('question-answering', model='model_2\\checkpoint-28391',device=0)"
   ]
  },
  {
   "cell_type": "code",
   "execution_count": 10,
   "metadata": {},
   "outputs": [],
   "source": [
    "gpus = tf.config.experimental.list_physical_devices('GPU')\n",
    "if gpus:\n",
    "  try:\n",
    "    for gpu in gpus:\n",
    "      tf.config.experimental.set_memory_growth(gpu, True)\n",
    "  except RuntimeError as e:\n",
    "    print(e)"
   ]
  },
  {
   "cell_type": "code",
   "execution_count": 11,
   "metadata": {},
   "outputs": [],
   "source": [
    "model_1 = tf.keras.models.load_model('model_1')\n",
    "LABEL={\n",
    "\t'wiki':0,\n",
    "\t'number':1,\n",
    "\t'text':2\n",
    "}"
   ]
  },
  {
   "cell_type": "markdown",
   "metadata": {},
   "source": [
    "# inference"
   ]
  },
  {
   "cell_type": "code",
   "execution_count": 12,
   "metadata": {},
   "outputs": [],
   "source": [
    "import json\n",
    "import re"
   ]
  },
  {
   "cell_type": "code",
   "execution_count": 13,
   "metadata": {},
   "outputs": [],
   "source": [
    "with open('data/zac2022_testa_only_question.json',encoding='utf-8') as f:\n",
    "    data=json.load(f)\n",
    "    reference_df = pd.json_normalize(data,'data')"
   ]
  },
  {
   "cell_type": "code",
   "execution_count": 14,
   "metadata": {},
   "outputs": [
    {
     "name": "stdout",
     "output_type": "stream",
     "text": [
      "Khoa thi đầu tiên của Việt Nam được tổ chức dưới triều đại của vua nào\n",
      "Khoa thi đầu_tiên của Việt_Nam được tổ_chức dưới triều_đại của vua nào\n",
      "1/1 [==============================] - 4s 4s/step\n",
      "wiki\n",
      "Title:  Danh_sách Trạng nguyên Việt_Nam\n",
      "Answer:  dưới thời Lý\n",
      "Doc score:  0.703462541103363\n",
      "Answer score:  0.999681830406189\n",
      "Calc score: 2.702826201915741\n",
      "-----------------------\n",
      "Title:  Khoa_bảng Việt_Nam\n",
      "Answer:  Lý Cao Tông\n",
      "Doc score:  0.6932869553565979\n",
      "Answer score:  0.9999986886978149\n",
      "Calc score: 2.693284332752228\n",
      "-----------------------\n",
      "Title:  Thủ_khoa Nho_học Việt_Nam\n",
      "Answer:  Nguyễn Quan Quang\n",
      "Doc score:  0.6646273732185364\n",
      "Answer score:  0.9999996423721313\n",
      "Calc score: 2.664626657962799\n",
      "-----------------------\n",
      "Title:  Giáo_dục khoa cử Đại_Việt thời Lý\n",
      "Answer:  nhà Lý\n",
      "Doc score:  0.6499111652374268\n",
      "Answer score:  0.999976634979248\n",
      "Calc score: 2.649864435195923\n",
      "-----------------------\n",
      "Title:  Võ học Đàng_Ngoài thời Lê trung_hưng\n",
      "Answer:  Lê Dụ Tông\n",
      "Doc score:  0.6670783758163452\n",
      "Answer score:  0.9839467406272888\n",
      "Calc score: 2.634971857070923\n",
      "-----------------------\n",
      "Title:  Giáo_dục khoa cử thời Tây_Sơn\n",
      "Answer:  Lê – Trịnh\n",
      "Doc score:  0.6766021251678467\n",
      "Answer score:  2.7748994213538936e-08\n",
      "Calc score: 0.6766021806658351\n",
      "-----------------------\n",
      "Title:  Trạng_nguyên\n",
      "Answer:  Trần Thái Tông\n",
      "Doc score:  0.6724839210510254\n",
      "Answer score:  4.142984977306696e-08\n",
      "Calc score: 0.6724840039107249\n",
      "-----------------------\n",
      "Title:  Giáo_dục và khoa cử thời Trần\n",
      "Answer:  thời Trần\n",
      "Doc score:  0.6481316089630127\n",
      "Answer score:  0.0036116198170930147\n",
      "Calc score: 0.6553548485971987\n",
      "-----------------------\n",
      "Title:  Quốc_Tử_Giám ( Huế )\n",
      "Answer:  vua Gia Long\n",
      "Doc score:  0.6531256437301636\n",
      "Answer score:  2.6665662517189048e-05\n",
      "Calc score: 0.653178975055198\n",
      "-----------------------\n",
      "Title:  Võ_miếu ( Huế )\n",
      "Answer:  vua Minh Mạng\n",
      "Doc score:  0.6520812511444092\n",
      "Answer score:  2.6484498188289463e-12\n",
      "Calc score: 0.652081251149706\n",
      "-----------------------\n"
     ]
    }
   ],
   "source": [
    "random_question = reference_df['question'].sample(1).values[0]\n",
    "q_raw = random_question\n",
    "q = tokenize(q_raw)\n",
    "query_embedding = sentence_model.encode(q\n",
    "    ,convert_to_tensor=True\n",
    ")\n",
    "print(q_raw)\n",
    "print(q)\n",
    "q_type = model_1.predict([q_raw]).argmax()\n",
    "print(list(LABEL.keys())[q_type])\n",
    "hits = util.semantic_search(query_embedding, corpus_embeddings, top_k=10)[0]\n",
    "\n",
    "answers =[]\n",
    "for hit in hits:\n",
    "    corpus_id = hit['corpus_id']\n",
    "    doc_score = hit['score']\n",
    "\n",
    "    title = sentences[corpus_id][0]\n",
    "    text = get_text(title)\n",
    "    answer = qa(question=q_raw,context=text)\n",
    "    answer_score = answer['score']\n",
    "    answers.append((title,answer['answer'],doc_score,answer_score))\n",
    "\n",
    "sorted_answers = sorted(answers,key=lambda x:x[2]+x[3]*2,reverse=True)\n",
    "\n",
    "for title,answer,doc_score,answer_score in sorted_answers:\n",
    "    print('Title: ',title)\n",
    "    print('Answer: ',answer)\n",
    "    print('Doc score: ',doc_score)\n",
    "    print('Answer score: ',answer_score)\n",
    "    print('Calc score:',doc_score+answer_score*2)\n",
    "    print('-----------------------')"
   ]
  },
  {
   "cell_type": "code",
   "execution_count": 15,
   "metadata": {},
   "outputs": [],
   "source": [
    "def date_format(answer):\n",
    "    if re.search(r'ngày \\d{1,2} tháng \\d{1,2} năm \\d{4}',answer):\n",
    "        answer = re.search(r'ngày \\d{1,2} tháng \\d{1,2} năm \\d{4}',answer).group()\n",
    "    # ngay xx thang xx\n",
    "    elif re.search(r'ngày \\d{1,2} tháng \\d{1,2}',answer):\n",
    "        answer = re.search(r'ngày \\d{1,2} tháng \\d{1,2}',answer).group()\n",
    "    # thang xx nam xxx\n",
    "    elif re.search(r'tháng \\d{1,2} năm \\d{4}',answer):\n",
    "        answer = re.search(r'tháng \\d{1,2} năm \\d{4}',answer).group()\n",
    "    # nam xxxx\n",
    "    elif re.search(r'năm \\d{4}',answer):\n",
    "        answer = re.search(r'năm \\d{4}',answer).group()\n",
    "\n",
    "    # 1/1/2021  dd{token}mm{token}yyyy\n",
    "    elif re.search(r'\\d{1,2}[ /|-]\\d{1,2}[ /|-]\\d{4}',answer):\n",
    "        answer = re.search(r'\\d{1,2}[ /|-]\\d{1,2}[ /|-]\\d{4}',answer).group()\n",
    "        token = re.search(r'[ /|-]',answer).group()\n",
    "        answer = answer.split(token)\n",
    "        answer = 'ngày '+answer[0]+' tháng '+answer[1]+' năm '+answer[2]\n",
    "    # 1/1       dd{token}mm\n",
    "    elif re.search(r'\\d{1,2}[ /|-]\\d{1,2}',answer):\n",
    "        answer = re.search(r'\\d{1,2}[ /|-]\\d{1,2}',answer).group()\n",
    "        token = re.search(r'[ /|-]',answer).group()\n",
    "        answer = answer.split(token)\n",
    "        answer = 'ngày '+answer[0]+' tháng '+answer[1]\n",
    "    # 1/2021    mm{token}yyyy\n",
    "    elif re.search(r'\\d{1,2}[ /|-]\\d{4}',answer):\n",
    "        answer = re.search(r'\\d{1,2}[ /|-]\\d{4}',answer).group()\n",
    "        token = re.search(r'[ /|-]',answer).group()\n",
    "        answer = answer.split(token)\n",
    "        answer = 'tháng '+answer[0]+' năm '+answer[1]\n",
    "    return answer"
   ]
  },
  {
   "cell_type": "code",
   "execution_count": 16,
   "metadata": {},
   "outputs": [
    {
     "data": {
      "text/plain": [
       "'ngày 3 tháng 10 năm 2021'"
      ]
     },
     "execution_count": 16,
     "metadata": {},
     "output_type": "execute_result"
    }
   ],
   "source": [
    "answer = 'asd á ngày 13 tháng 9 năm 1943 abc d'\n",
    "answer = '3 10 2021'\n",
    "date_format(answer)"
   ]
  },
  {
   "cell_type": "code",
   "execution_count": 17,
   "metadata": {},
   "outputs": [],
   "source": [
    "def wiki_format(answer):\n",
    "    title_embedding = sentence_model.encode( tokenize(answer)  ,convert_to_tensor=True)\n",
    "    hits = util.semantic_search(title_embedding, title_embeddings, top_k=10)[0]\n",
    "    best = hits[0]\n",
    "    best_title = titles[best['corpus_id']]\n",
    "    answer = 'wiki/'+best_title.replace(' ','_')\n",
    "    return answer"
   ]
  },
  {
   "cell_type": "code",
   "execution_count": 18,
   "metadata": {},
   "outputs": [
    {
     "data": {
      "text/plain": [
       "'wiki/Hồ_Chí_Minh'"
      ]
     },
     "execution_count": 18,
     "metadata": {},
     "output_type": "execute_result"
    }
   ],
   "source": [
    "wiki_format('Hồ Chí Minh')"
   ]
  },
  {
   "cell_type": "code",
   "execution_count": 19,
   "metadata": {},
   "outputs": [
    {
     "name": "stderr",
     "output_type": "stream",
     "text": [
      "  0%|          | 0/600 [00:00<?, ?it/s]d:\\Software\\Anaconda\\envs\\research\\lib\\site-packages\\transformers\\pipelines\\base.py:1043: UserWarning: You seem to be using the pipelines sequentially on GPU. In order to maximize efficiency please use a dataset\n",
      "  warnings.warn(\n",
      "100%|██████████| 600/600 [20:44<00:00,  2.07s/it]\n"
     ]
    }
   ],
   "source": [
    "top_k = 10\n",
    "submission = []\n",
    "\n",
    "for row in tqdm(reference_df.iterrows(),total=len(reference_df)):\n",
    "    question = row[1]['question']\n",
    "    q = tokenize(question)\n",
    "    query_embedding = sentence_model.encode(q,convert_to_tensor=True)\n",
    "    hits = util.semantic_search(query_embedding, corpus_embeddings, top_k=10)[0]\n",
    "\n",
    "    answers =[]\n",
    "    for hit in hits:\n",
    "        corpus_id = hit['corpus_id']\n",
    "        doc_score = hit['score']\n",
    "        title = sentences[corpus_id][0]\n",
    "        text = get_text(title)\n",
    "        answer = qa(question=q,context=text)\n",
    "        answer_score = answer['score']\n",
    "        answers.append((title,answer['answer'],doc_score,answer_score))\n",
    "    sorted_answers = sorted(answers,key=lambda x:x[2]+x[3]*2,reverse=True)\n",
    "    best_result = sorted_answers[0]\n",
    "    answer = best_result[1]\n",
    "\n",
    "    type=model_1.predict([question],verbose=0).argmax()\n",
    "    if type==LABEL['wiki']:\n",
    "        answer = wiki_format(answer)\n",
    "    if type == LABEL['number']:\n",
    "        answer = re.sub(r'\\D', '', answer)\n",
    "    if type == LABEL['text']:\n",
    "        answer = answer.lower()\n",
    "        answer = date_format(answer)\n",
    "    submission.append({\n",
    "        'id': row[1]['id'],\n",
    "        'question': question,\n",
    "        'answer': answer,\n",
    "        'raw_answer': best_result[1],\n",
    "        'type': type\n",
    "    })"
   ]
  },
  {
   "cell_type": "code",
   "execution_count": 24,
   "metadata": {},
   "outputs": [],
   "source": [
    "df_submission = pd.DataFrame(submission)"
   ]
  },
  {
   "cell_type": "code",
   "execution_count": 25,
   "metadata": {},
   "outputs": [
    {
     "data": {
      "text/html": [
       "<div>\n",
       "<style scoped>\n",
       "    .dataframe tbody tr th:only-of-type {\n",
       "        vertical-align: middle;\n",
       "    }\n",
       "\n",
       "    .dataframe tbody tr th {\n",
       "        vertical-align: top;\n",
       "    }\n",
       "\n",
       "    .dataframe thead th {\n",
       "        text-align: right;\n",
       "    }\n",
       "</style>\n",
       "<table border=\"1\" class=\"dataframe\">\n",
       "  <thead>\n",
       "    <tr style=\"text-align: right;\">\n",
       "      <th></th>\n",
       "      <th>id</th>\n",
       "      <th>question</th>\n",
       "      <th>answer</th>\n",
       "      <th>raw_answer</th>\n",
       "      <th>type</th>\n",
       "    </tr>\n",
       "  </thead>\n",
       "  <tbody>\n",
       "    <tr>\n",
       "      <th>0</th>\n",
       "      <td>testa_1</td>\n",
       "      <td>Đạo diễn phim Titanic là ai</td>\n",
       "      <td>wiki/James_Cameron</td>\n",
       "      <td>James Cameron</td>\n",
       "      <td>0</td>\n",
       "    </tr>\n",
       "    <tr>\n",
       "      <th>1</th>\n",
       "      <td>testa_2</td>\n",
       "      <td>Tổng thống Hoa Kỳ thứ 45 là ai</td>\n",
       "      <td>wiki/Joe_Biden</td>\n",
       "      <td>Joe Biden</td>\n",
       "      <td>0</td>\n",
       "    </tr>\n",
       "    <tr>\n",
       "      <th>2</th>\n",
       "      <td>testa_3</td>\n",
       "      <td>Hiện nay ai là tổng bí thư nước Việt Nam</td>\n",
       "      <td>wiki/Nguyễn_Phú_Trọng</td>\n",
       "      <td>Nguyễn Phú Trọng</td>\n",
       "      <td>0</td>\n",
       "    </tr>\n",
       "    <tr>\n",
       "      <th>3</th>\n",
       "      <td>testa_4</td>\n",
       "      <td>đâu là bản hiến pháp lâu đời nhất thế giới</td>\n",
       "      <td>wiki/Phiến_đá_Palermo</td>\n",
       "      <td>Phiến đá Palermo</td>\n",
       "      <td>0</td>\n",
       "    </tr>\n",
       "    <tr>\n",
       "      <th>4</th>\n",
       "      <td>testa_5</td>\n",
       "      <td>Tổ chức thống nhất châu Phi được thành lập ở đâu</td>\n",
       "      <td>wiki/Addis_Ababa</td>\n",
       "      <td>tại Addis Ababa</td>\n",
       "      <td>0</td>\n",
       "    </tr>\n",
       "    <tr>\n",
       "      <th>...</th>\n",
       "      <td>...</td>\n",
       "      <td>...</td>\n",
       "      <td>...</td>\n",
       "      <td>...</td>\n",
       "      <td>...</td>\n",
       "    </tr>\n",
       "    <tr>\n",
       "      <th>595</th>\n",
       "      <td>testa_596</td>\n",
       "      <td>Tổng thống thứ 100 của nước Mỹ là ai</td>\n",
       "      <td>wiki/Thập_niên_100</td>\n",
       "      <td>Thập niên 100 Thập niên 100 hay thập kỷ 100</td>\n",
       "      <td>0</td>\n",
       "    </tr>\n",
       "    <tr>\n",
       "      <th>596</th>\n",
       "      <td>testa_597</td>\n",
       "      <td>Tỉnh nào ở Việt Nam giáp với nước Nga</td>\n",
       "      <td>wiki/Sverdlovsk_(_huyện_)</td>\n",
       "      <td>Phía bắc giáp tỉnh Sverdlovsk</td>\n",
       "      <td>0</td>\n",
       "    </tr>\n",
       "    <tr>\n",
       "      <th>597</th>\n",
       "      <td>testa_598</td>\n",
       "      <td>người việt nam đầu tiên đạt Quả bóng vàng châu...</td>\n",
       "      <td>wiki/George_Weah</td>\n",
       "      <td>George Weah</td>\n",
       "      <td>0</td>\n",
       "    </tr>\n",
       "    <tr>\n",
       "      <th>598</th>\n",
       "      <td>testa_599</td>\n",
       "      <td>nguyên tố hoá học nào nhẹ hơn hidro</td>\n",
       "      <td>wiki/Đồng_vị_của_urani</td>\n",
       "      <td>cacbon</td>\n",
       "      <td>0</td>\n",
       "    </tr>\n",
       "    <tr>\n",
       "      <th>599</th>\n",
       "      <td>testa_600</td>\n",
       "      <td>triều đại nào tiếp nối nhà Nguyễn trong lịch s...</td>\n",
       "      <td>wiki/Chiêm_Thành</td>\n",
       "      <td>Chiêm Thành</td>\n",
       "      <td>0</td>\n",
       "    </tr>\n",
       "  </tbody>\n",
       "</table>\n",
       "<p>600 rows × 5 columns</p>\n",
       "</div>"
      ],
      "text/plain": [
       "            id                                           question  \\\n",
       "0      testa_1                        Đạo diễn phim Titanic là ai   \n",
       "1      testa_2                     Tổng thống Hoa Kỳ thứ 45 là ai   \n",
       "2      testa_3           Hiện nay ai là tổng bí thư nước Việt Nam   \n",
       "3      testa_4         đâu là bản hiến pháp lâu đời nhất thế giới   \n",
       "4      testa_5   Tổ chức thống nhất châu Phi được thành lập ở đâu   \n",
       "..         ...                                                ...   \n",
       "595  testa_596               Tổng thống thứ 100 của nước Mỹ là ai   \n",
       "596  testa_597              Tỉnh nào ở Việt Nam giáp với nước Nga   \n",
       "597  testa_598  người việt nam đầu tiên đạt Quả bóng vàng châu...   \n",
       "598  testa_599                nguyên tố hoá học nào nhẹ hơn hidro   \n",
       "599  testa_600  triều đại nào tiếp nối nhà Nguyễn trong lịch s...   \n",
       "\n",
       "                        answer                                   raw_answer  \\\n",
       "0           wiki/James_Cameron                                James Cameron   \n",
       "1               wiki/Joe_Biden                                    Joe Biden   \n",
       "2        wiki/Nguyễn_Phú_Trọng                             Nguyễn Phú Trọng   \n",
       "3        wiki/Phiến_đá_Palermo                             Phiến đá Palermo   \n",
       "4             wiki/Addis_Ababa                              tại Addis Ababa   \n",
       "..                         ...                                          ...   \n",
       "595         wiki/Thập_niên_100  Thập niên 100 Thập niên 100 hay thập kỷ 100   \n",
       "596  wiki/Sverdlovsk_(_huyện_)                Phía bắc giáp tỉnh Sverdlovsk   \n",
       "597           wiki/George_Weah                                  George Weah   \n",
       "598     wiki/Đồng_vị_của_urani                                       cacbon   \n",
       "599           wiki/Chiêm_Thành                                  Chiêm Thành   \n",
       "\n",
       "     type  \n",
       "0       0  \n",
       "1       0  \n",
       "2       0  \n",
       "3       0  \n",
       "4       0  \n",
       "..    ...  \n",
       "595     0  \n",
       "596     0  \n",
       "597     0  \n",
       "598     0  \n",
       "599     0  \n",
       "\n",
       "[600 rows x 5 columns]"
      ]
     },
     "execution_count": 25,
     "metadata": {},
     "output_type": "execute_result"
    }
   ],
   "source": [
    "df_submission"
   ]
  },
  {
   "cell_type": "code",
   "execution_count": 26,
   "metadata": {},
   "outputs": [],
   "source": [
    "from datetime import datetime\n",
    "date = datetime.now().strftime(\"%d_%m_%Y\")"
   ]
  },
  {
   "cell_type": "code",
   "execution_count": 29,
   "metadata": {},
   "outputs": [],
   "source": [
    "import os \n",
    "os.makedirs('submissions',exist_ok=True)\n",
    "os.makedirs('submissions/'+date,exist_ok=True)"
   ]
  },
  {
   "cell_type": "code",
   "execution_count": 30,
   "metadata": {},
   "outputs": [],
   "source": [
    "json_data = df_submission.to_dict(orient='records')\n",
    "with open(f'submissions/{date}/submission_raw.json', 'w', encoding='utf-8') as f:\n",
    "    json.dump({'data': json_data}, f, ensure_ascii=False, indent=2)"
   ]
  },
  {
   "cell_type": "code",
   "execution_count": 31,
   "metadata": {},
   "outputs": [],
   "source": [
    "df_submission.drop(['raw_answer','type'],axis=1,inplace=True)"
   ]
  },
  {
   "cell_type": "code",
   "execution_count": 32,
   "metadata": {},
   "outputs": [],
   "source": [
    "json_data = df_submission.to_dict(orient='records')\n",
    "with open(f'submissions/{date}/submission.json', 'w', encoding='utf-8') as f:\n",
    "    json.dump({'data': json_data}, f, ensure_ascii=False, indent=2)"
   ]
  }
 ],
 "metadata": {
  "kernelspec": {
   "display_name": "Python 3.10.6 ('research')",
   "language": "python",
   "name": "python3"
  },
  "language_info": {
   "codemirror_mode": {
    "name": "ipython",
    "version": 3
   },
   "file_extension": ".py",
   "mimetype": "text/x-python",
   "name": "python",
   "nbconvert_exporter": "python",
   "pygments_lexer": "ipython3",
   "version": "3.10.6"
  },
  "orig_nbformat": 4,
  "vscode": {
   "interpreter": {
    "hash": "a9b65729feb538e68f44c9456207842829c75f4513a5296979fcc831c3d07148"
   }
  }
 },
 "nbformat": 4,
 "nbformat_minor": 2
}
