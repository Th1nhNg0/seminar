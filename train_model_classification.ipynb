{
 "cells": [
  {
   "cell_type": "code",
   "execution_count": 1,
   "metadata": {},
   "outputs": [],
   "source": [
    "import pandas as pd\n",
    "import json\n",
    "import numpy as np\n",
    "from pyvi.ViTokenizer import tokenize"
   ]
  },
  {
   "cell_type": "markdown",
   "metadata": {},
   "source": [
    "# make data"
   ]
  },
  {
   "cell_type": "code",
   "execution_count": 2,
   "metadata": {},
   "outputs": [],
   "source": [
    "with open('data/zac2022_train_merged_final.json',encoding='utf-8') as f:\n",
    "    data=json.load(f)\n",
    "    df = pd.json_normalize(data,'data')"
   ]
  },
  {
   "cell_type": "code",
   "execution_count": 7,
   "metadata": {},
   "outputs": [
    {
     "data": {
      "text/plain": [
       "3498"
      ]
     },
     "execution_count": 7,
     "metadata": {},
     "output_type": "execute_result"
    }
   ],
   "source": [
    "len(df[df['category']=='PARTIAL_ANNOTATION'])"
   ]
  },
  {
   "cell_type": "code",
   "execution_count": 3,
   "metadata": {},
   "outputs": [
    {
     "data": {
      "text/html": [
       "<div>\n",
       "<style scoped>\n",
       "    .dataframe tbody tr th:only-of-type {\n",
       "        vertical-align: middle;\n",
       "    }\n",
       "\n",
       "    .dataframe tbody tr th {\n",
       "        vertical-align: top;\n",
       "    }\n",
       "\n",
       "    .dataframe thead th {\n",
       "        text-align: right;\n",
       "    }\n",
       "</style>\n",
       "<table border=\"1\" class=\"dataframe\">\n",
       "  <thead>\n",
       "    <tr style=\"text-align: right;\">\n",
       "      <th></th>\n",
       "      <th>id</th>\n",
       "      <th>question</th>\n",
       "      <th>title</th>\n",
       "      <th>text</th>\n",
       "      <th>category</th>\n",
       "      <th>is_long_answer</th>\n",
       "      <th>short_candidate_start</th>\n",
       "      <th>short_candidate</th>\n",
       "      <th>answer</th>\n",
       "    </tr>\n",
       "  </thead>\n",
       "  <tbody>\n",
       "    <tr>\n",
       "      <th>0</th>\n",
       "      <td>718d41cd997b2b44b0685ac54aa55bd8</td>\n",
       "      <td>Thủ tướng Trung Quốc là gì</td>\n",
       "      <td>Trung Quốc</td>\n",
       "      <td>Thủ tướng Trung Quốc là nhân vật lãnh đạo chín...</td>\n",
       "      <td>PARTIAL_ANNOTATION</td>\n",
       "      <td>True</td>\n",
       "      <td>NaN</td>\n",
       "      <td>NaN</td>\n",
       "      <td>NaN</td>\n",
       "    </tr>\n",
       "    <tr>\n",
       "      <th>1</th>\n",
       "      <td>c926e7b0717202618a10dd907d4b4c39</td>\n",
       "      <td>Đất nước nào không có quân đội</td>\n",
       "      <td></td>\n",
       "      <td>có 23 quốc gia không có lực lượng quân đội, ba...</td>\n",
       "      <td>FULL_ANNOTATION</td>\n",
       "      <td>True</td>\n",
       "      <td>53.0</td>\n",
       "      <td>Costa Rica, Iceland, Panama, Micronesia, Quần ...</td>\n",
       "      <td>wiki/Danh_sách_quốc_gia_không_có_lực_lượng_vũ_...</td>\n",
       "    </tr>\n",
       "    <tr>\n",
       "      <th>2</th>\n",
       "      <td>d38ef5bf1fb82b410026ed82c8a44cae</td>\n",
       "      <td>Pháp tấn công xâm lược Việt Nam vào ngày tháng...</td>\n",
       "      <td>Raymondienne</td>\n",
       "      <td>Raymondienne (hay Raymonde Dien) sinh ngày 13 ...</td>\n",
       "      <td>FALSE_LONG_ANSWER</td>\n",
       "      <td>False</td>\n",
       "      <td>NaN</td>\n",
       "      <td>NaN</td>\n",
       "      <td>NaN</td>\n",
       "    </tr>\n",
       "    <tr>\n",
       "      <th>3</th>\n",
       "      <td>b6b5589a98fdccd208dc752bac853993</td>\n",
       "      <td>Cờ vua còn có tên gọi nào khác</td>\n",
       "      <td>Cúp cờ vua thế giới</td>\n",
       "      <td>Cúp cờ vua thế giới là tên gọi một số giải đấu...</td>\n",
       "      <td>FALSE_LONG_ANSWER</td>\n",
       "      <td>False</td>\n",
       "      <td>NaN</td>\n",
       "      <td>NaN</td>\n",
       "      <td>NaN</td>\n",
       "    </tr>\n",
       "    <tr>\n",
       "      <th>4</th>\n",
       "      <td>82396a18fa9812bfec4d3ecb7ae60905</td>\n",
       "      <td>Núi nào cao nhất châu âu</td>\n",
       "      <td>Shkhara</td>\n",
       "      <td>Đỉnh núi nằm ở phần trung tâm của dãy núi Đại ...</td>\n",
       "      <td>FULL_ANNOTATION</td>\n",
       "      <td>True</td>\n",
       "      <td>73.0</td>\n",
       "      <td>núi Elbrus</td>\n",
       "      <td>wiki/Elbrus</td>\n",
       "    </tr>\n",
       "  </tbody>\n",
       "</table>\n",
       "</div>"
      ],
      "text/plain": [
       "                                 id  \\\n",
       "0  718d41cd997b2b44b0685ac54aa55bd8   \n",
       "1  c926e7b0717202618a10dd907d4b4c39   \n",
       "2  d38ef5bf1fb82b410026ed82c8a44cae   \n",
       "3  b6b5589a98fdccd208dc752bac853993   \n",
       "4  82396a18fa9812bfec4d3ecb7ae60905   \n",
       "\n",
       "                                            question                title  \\\n",
       "0                         Thủ tướng Trung Quốc là gì           Trung Quốc   \n",
       "1                     Đất nước nào không có quân đội                        \n",
       "2  Pháp tấn công xâm lược Việt Nam vào ngày tháng...         Raymondienne   \n",
       "3                     Cờ vua còn có tên gọi nào khác  Cúp cờ vua thế giới   \n",
       "4                           Núi nào cao nhất châu âu              Shkhara   \n",
       "\n",
       "                                                text            category  \\\n",
       "0  Thủ tướng Trung Quốc là nhân vật lãnh đạo chín...  PARTIAL_ANNOTATION   \n",
       "1  có 23 quốc gia không có lực lượng quân đội, ba...     FULL_ANNOTATION   \n",
       "2  Raymondienne (hay Raymonde Dien) sinh ngày 13 ...   FALSE_LONG_ANSWER   \n",
       "3  Cúp cờ vua thế giới là tên gọi một số giải đấu...   FALSE_LONG_ANSWER   \n",
       "4  Đỉnh núi nằm ở phần trung tâm của dãy núi Đại ...     FULL_ANNOTATION   \n",
       "\n",
       "   is_long_answer  short_candidate_start  \\\n",
       "0            True                    NaN   \n",
       "1            True                   53.0   \n",
       "2           False                    NaN   \n",
       "3           False                    NaN   \n",
       "4            True                   73.0   \n",
       "\n",
       "                                     short_candidate  \\\n",
       "0                                                NaN   \n",
       "1  Costa Rica, Iceland, Panama, Micronesia, Quần ...   \n",
       "2                                                NaN   \n",
       "3                                                NaN   \n",
       "4                                         núi Elbrus   \n",
       "\n",
       "                                              answer  \n",
       "0                                                NaN  \n",
       "1  wiki/Danh_sách_quốc_gia_không_có_lực_lượng_vũ_...  \n",
       "2                                                NaN  \n",
       "3                                                NaN  \n",
       "4                                        wiki/Elbrus  "
      ]
     },
     "execution_count": 3,
     "metadata": {},
     "output_type": "execute_result"
    }
   ],
   "source": [
    "df.head()"
   ]
  },
  {
   "cell_type": "code",
   "execution_count": 4,
   "metadata": {},
   "outputs": [],
   "source": [
    "import re\n",
    "\n",
    "def checkdate(date):\n",
    "    # reg1 = ngày .. tháng .. năm ..\n",
    "    # reg2 = tháng .. năm ..\n",
    "    # reg3 = năm ..\n",
    "    # reg4 = ngày .. tháng ..\n",
    "    # check date by reg1, reg2, reg3, reg4\n",
    "    reg1 = r'ngày\\s\\d{1,2}\\stháng\\s\\d{1,2}\\snăm\\s\\d{4}'\n",
    "    reg2 = r'tháng\\s\\d{1,2}\\snăm\\s\\d{4}'\n",
    "    reg3 = r'năm\\s\\d{4}'\n",
    "    reg4 = r'ngày\\s\\d{1,2}\\stháng\\s\\d{1,2}'\n",
    "    if re.match(reg1, date) or re.match(reg2, date) or re.match(reg3, date) or re.match(reg4, date):\n",
    "        return True\n",
    "    return False\n",
    "\n",
    "def appy_func(x):\n",
    "    if x.startswith('wiki/'):\n",
    "        return 'wiki'\n",
    "    if x.isdigit():\n",
    "        return 'number'\n",
    "    return 'text'\n",
    "\n",
    "full_df = df.copy()\n",
    "# full_df = df[df['category']=='FULL_ANNOTATION']\n",
    "\n",
    "# loop through all row\n",
    "# create new empty column\n",
    "full_df['train_label'] = ''\n",
    "\n",
    "\n",
    "date_keyword = [\n",
    "    'ngày nào',\n",
    "    'tháng nào',\n",
    "    'năm nào',\n",
    "    'thế nào',\n",
    "    'khi nào',\n",
    "    'lúc nào'\n",
    "]\n",
    "for index, row in full_df.iterrows():\n",
    "    for date in date_keyword:\n",
    "        if date in row['question'].lower():\n",
    "            full_df.at[index, 'train_label'] = 'text'\n",
    "            break\n",
    "\n",
    "    if 'bao nhiêu' in row['question'].lower() and 'năm bao nhiêu' not in row['question'].lower():\n",
    "        full_df.loc[index, 'train_label'] = 'number'\n",
    "\n",
    "    if row['category']=='FULL_ANNOTATION':\n",
    "        full_df.loc[index, 'train_label'] = appy_func(row['answer'])\n",
    "\n",
    "        \n",
    "full_df = full_df[full_df['train_label']!='']"
   ]
  },
  {
   "cell_type": "code",
   "execution_count": 5,
   "metadata": {},
   "outputs": [],
   "source": [
    "full_df['question'] = full_df['question'].apply(lambda x: tokenize(x))"
   ]
  },
  {
   "cell_type": "code",
   "execution_count": 6,
   "metadata": {},
   "outputs": [
    {
     "name": "stdout",
     "output_type": "stream",
     "text": [
      "bao nhiêu 2228\n"
     ]
    }
   ],
   "source": [
    "print('bao nhiêu', len(df[df['question'].str.lower().str.contains('bao nhiêu')]))"
   ]
  },
  {
   "cell_type": "code",
   "execution_count": 7,
   "metadata": {},
   "outputs": [
    {
     "name": "stdout",
     "output_type": "stream",
     "text": [
      "ngày nào 158\n",
      "tháng nào 7\n",
      "năm nào 1463\n",
      "thế nào 57\n",
      "khi nào 137\n",
      "lúc nào 3\n"
     ]
    }
   ],
   "source": [
    "for keyword in date_keyword:\n",
    "    print(keyword, len(df[df['question'].str.lower().str.contains(keyword)]))"
   ]
  },
  {
   "cell_type": "code",
   "execution_count": 8,
   "metadata": {},
   "outputs": [
    {
     "data": {
      "text/plain": [
       "wiki      4608\n",
       "number    2010\n",
       "text      1885\n",
       "Name: train_label, dtype: int64"
      ]
     },
     "execution_count": 8,
     "metadata": {},
     "output_type": "execute_result"
    }
   ],
   "source": [
    "full_df['train_label'].value_counts()"
   ]
  },
  {
   "cell_type": "markdown",
   "metadata": {},
   "source": [
    "# train bruh bruhh"
   ]
  },
  {
   "cell_type": "code",
   "execution_count": 13,
   "metadata": {},
   "outputs": [],
   "source": [
    "import tensorflow as tf\n",
    "import string\n",
    "import scipy\n",
    "from tensorflow.keras import layers\n",
    "from tensorflow.keras import losses\n",
    "from sklearn.model_selection import train_test_split\n",
    "import numpy as np\n",
    "import matplotlib.pyplot as plt"
   ]
  },
  {
   "cell_type": "code",
   "execution_count": 14,
   "metadata": {},
   "outputs": [
    {
     "name": "stderr",
     "output_type": "stream",
     "text": [
      "C:\\Users\\ngoph\\AppData\\Local\\Temp\\ipykernel_6132\\2716060377.py:21: SettingWithCopyWarning: \n",
      "A value is trying to be set on a copy of a slice from a DataFrame.\n",
      "Try using .loc[row_indexer,col_indexer] = value instead\n",
      "\n",
      "See the caveats in the documentation: https://pandas.pydata.org/pandas-docs/stable/user_guide/indexing.html#returning-a-view-versus-a-copy\n",
      "  train_df['train_label'] = train_df['train_label'].apply(lambda x: LABEL[x])\n"
     ]
    },
    {
     "data": {
      "text/html": [
       "<div>\n",
       "<style scoped>\n",
       "    .dataframe tbody tr th:only-of-type {\n",
       "        vertical-align: middle;\n",
       "    }\n",
       "\n",
       "    .dataframe tbody tr th {\n",
       "        vertical-align: top;\n",
       "    }\n",
       "\n",
       "    .dataframe thead th {\n",
       "        text-align: right;\n",
       "    }\n",
       "</style>\n",
       "<table border=\"1\" class=\"dataframe\">\n",
       "  <thead>\n",
       "    <tr style=\"text-align: right;\">\n",
       "      <th></th>\n",
       "      <th>question</th>\n",
       "      <th>train_label</th>\n",
       "    </tr>\n",
       "  </thead>\n",
       "  <tbody>\n",
       "    <tr>\n",
       "      <th>1</th>\n",
       "      <td>Đất_nước nào không có quân_đội</td>\n",
       "      <td>0</td>\n",
       "    </tr>\n",
       "    <tr>\n",
       "      <th>2</th>\n",
       "      <td>Pháp tấn_công xâm_lược Việt_Nam vào ngày_tháng...</td>\n",
       "      <td>2</td>\n",
       "    </tr>\n",
       "    <tr>\n",
       "      <th>4</th>\n",
       "      <td>Núi nào cao nhất châu âu</td>\n",
       "      <td>0</td>\n",
       "    </tr>\n",
       "    <tr>\n",
       "      <th>8</th>\n",
       "      <td>Hà_Nội đã trải qua bao_nhiêu lần đổi tên</td>\n",
       "      <td>1</td>\n",
       "    </tr>\n",
       "    <tr>\n",
       "      <th>9</th>\n",
       "      <td>Thành_phố nào là thủ_phủ của Ai_Cập trong đế_q...</td>\n",
       "      <td>0</td>\n",
       "    </tr>\n",
       "  </tbody>\n",
       "</table>\n",
       "</div>"
      ],
      "text/plain": [
       "                                            question  train_label\n",
       "1                     Đất_nước nào không có quân_đội            0\n",
       "2  Pháp tấn_công xâm_lược Việt_Nam vào ngày_tháng...            2\n",
       "4                           Núi nào cao nhất châu âu            0\n",
       "8           Hà_Nội đã trải qua bao_nhiêu lần đổi tên            1\n",
       "9  Thành_phố nào là thủ_phủ của Ai_Cập trong đế_q...            0"
      ]
     },
     "execution_count": 14,
     "metadata": {},
     "output_type": "execute_result"
    }
   ],
   "source": [
    "train_df = full_df[['question','train_label']]\n",
    "# question\n",
    "s1 = u'ÀÁÂÃÈÉÊÌÍÒÓÔÕÙÚÝàáâãèéêìíòóôõùúýĂăĐđĨĩŨũƠơƯưẠạẢảẤấẦầẨẩẪẫẬậẮắẰằẲẳẴẵẶặẸẹẺẻẼẽẾếỀềỂểỄễỆệỈỉỊịỌọỎỏỐốỒồỔổỖỗỘộỚớỜờỞởỠỡỢợỤụỦủỨứỪừỬửỮữỰựỲỳỴỵỶỷỸỹ'\n",
    "s0 = u'AAAAEEEIIOOOOUUYaaaaeeeiioooouuyAaDdIiUuOoUuAaAaAaAaAaAaAaAaAaAaAaAaEeEeEeEeEeEeEeEeIiIiOoOoOoOoOoOoOoOoOoOoOoOoUuUuUuUuUuUuUuYyYyYyYy'\n",
    "def remove_accents(input_str):\n",
    "\ts = ''\n",
    "\tfor c in input_str:\n",
    "\t\tif c in s1:\n",
    "\t\t\ts += s0[s1.index(c)]\n",
    "\t\telse:\n",
    "\t\t\ts += c\n",
    "\treturn s\n",
    "# train_df['question'] = train_df['question'].apply(remove_accents)\n",
    "\n",
    "# label\n",
    "LABEL={\n",
    "\t'wiki':0,\n",
    "\t'number':1,\n",
    "\t'text':2\n",
    "}\n",
    "train_df['train_label'] = train_df['train_label'].apply(lambda x: LABEL[x])\n",
    "train_df.head()"
   ]
  },
  {
   "cell_type": "code",
   "execution_count": 15,
   "metadata": {},
   "outputs": [],
   "source": [
    "train_dataset, test_dataset = train_test_split(train_df, test_size=0.15, random_state=42,\n",
    "                                                  stratify=train_df['train_label'])\n",
    "\n",
    "# convert to tensorflow dataset\n",
    "train_dataset = tf.data.Dataset.from_tensor_slices((train_dataset['question'].values, train_dataset['train_label'].values))\n",
    "test_dataset = tf.data.Dataset.from_tensor_slices((test_dataset['question'].values, test_dataset['train_label'].values))"
   ]
  },
  {
   "cell_type": "code",
   "execution_count": 16,
   "metadata": {},
   "outputs": [
    {
     "data": {
      "text/plain": [
       "(TensorSpec(shape=(), dtype=tf.string, name=None),\n",
       " TensorSpec(shape=(), dtype=tf.int64, name=None))"
      ]
     },
     "execution_count": 16,
     "metadata": {},
     "output_type": "execute_result"
    }
   ],
   "source": [
    "train_dataset.element_spec"
   ]
  },
  {
   "cell_type": "code",
   "execution_count": 17,
   "metadata": {},
   "outputs": [],
   "source": [
    "BUFFER_SIZE = 100\n",
    "BATCH_SIZE = 64\n",
    "train_dataset = train_dataset.shuffle(BUFFER_SIZE).batch(BATCH_SIZE).prefetch(tf.data.AUTOTUNE)\n",
    "test_dataset = test_dataset.batch(BATCH_SIZE).prefetch(tf.data.AUTOTUNE)"
   ]
  },
  {
   "cell_type": "code",
   "execution_count": 18,
   "metadata": {},
   "outputs": [
    {
     "name": "stdout",
     "output_type": "stream",
     "text": [
      "text:  [b'Quang_Trung_sinh v\\xc3\\xa0o n\\xc4\\x83m n\\xc3\\xa0o'\n",
      " b'kinh \\xc4\\x91\\xc3\\xb4 \\xc4\\x91\\xe1\\xba\\xa7u_ti\\xc3\\xaan c\\xe1\\xbb\\xa7a nh\\xc3\\xa0_n\\xc6\\xb0\\xe1\\xbb\\x9bc phong_ki\\xe1\\xba\\xbfn vi\\xe1\\xbb\\x87t nam l\\xc3\\xa0'\n",
      " b'th\\xc3\\xa0nh_ph\\xe1\\xbb\\x91 n\\xc3\\xa0o l\\xc3\\xa0 th\\xe1\\xbb\\xa7_\\xc4\\x91\\xc3\\xb4 c\\xe1\\xbb\\xa7a philippines']\n",
      "label:  [2 0 0]\n"
     ]
    }
   ],
   "source": [
    "for example, label in train_dataset.take(1):\n",
    "  print('text: ', example.numpy()[:3])\n",
    "  print('label: ', label.numpy()[:3])"
   ]
  },
  {
   "cell_type": "code",
   "execution_count": 19,
   "metadata": {},
   "outputs": [],
   "source": [
    "VOCAB_SIZE = 10000\n",
    "encoder = tf.keras.layers.TextVectorization(\n",
    "    max_tokens=VOCAB_SIZE)\n",
    "encoder.adapt(train_dataset.map(lambda text, label: text))"
   ]
  },
  {
   "cell_type": "code",
   "execution_count": 20,
   "metadata": {},
   "outputs": [
    {
     "data": {
      "text/plain": [
       "array(['', '[UNK]', 'nào', 'là', 'của', 'baonhiêu', 'năm', 'có', 'ở',\n",
       "       'được', 'việtnam', 'vào', 'nước', 'tỉnh', 'ai', 'nhất', 'thànhphố',\n",
       "       'vua', 'người', 'thếgiới'], dtype='<U20')"
      ]
     },
     "execution_count": 20,
     "metadata": {},
     "output_type": "execute_result"
    }
   ],
   "source": [
    "vocab = np.array(encoder.get_vocabulary())\n",
    "vocab[:20]"
   ]
  },
  {
   "cell_type": "code",
   "execution_count": 21,
   "metadata": {},
   "outputs": [
    {
     "data": {
      "text/plain": [
       "array([[1978,   11,    6,    2,    0,    0,    0,    0,    0,    0,    0,\n",
       "           0,    0,    0,    0,    0,    0,    0],\n",
       "       [ 280,  398,   20,    4,  237,  356,   64,   60,    3,    0,    0,\n",
       "           0,    0,    0,    0,    0,    0,    0],\n",
       "       [  16,    2,    3,   39,    4,  732,    0,    0,    0,    0,    0,\n",
       "           0,    0,    0,    0,    0,    0,    0]], dtype=int64)"
      ]
     },
     "execution_count": 21,
     "metadata": {},
     "output_type": "execute_result"
    }
   ],
   "source": [
    "encoded_example = encoder(example)[:3].numpy()\n",
    "encoded_example"
   ]
  },
  {
   "cell_type": "code",
   "execution_count": 22,
   "metadata": {},
   "outputs": [
    {
     "name": "stdout",
     "output_type": "stream",
     "text": [
      "Original:  Quang_Trung_sinh vào năm nào\n",
      "Round-trip:  quangtrungsinh vào năm nào              \n",
      "\n",
      "Original:  kinh đô đầu_tiên của nhà_nước phong_kiến việt nam là\n",
      "Round-trip:  kinh đô đầutiên của nhànước phongkiến việt nam là         \n",
      "\n",
      "Original:  thành_phố nào là thủ_đô của philippines\n",
      "Round-trip:  thànhphố nào là thủđô của philippines            \n",
      "\n"
     ]
    }
   ],
   "source": [
    "for n in range(3):\n",
    "  print(\"Original: \", example[n].numpy().decode('utf-8'))\n",
    "  print(\"Round-trip: \", \" \".join(vocab[encoded_example[n]]))\n",
    "  print()"
   ]
  },
  {
   "cell_type": "code",
   "execution_count": 23,
   "metadata": {},
   "outputs": [
    {
     "name": "stdout",
     "output_type": "stream",
     "text": [
      "Model: \"sequential\"\n",
      "_________________________________________________________________\n",
      " Layer (type)                Output Shape              Param #   \n",
      "=================================================================\n",
      " text_vectorization (TextVec  (None, None)             0         \n",
      " torization)                                                     \n",
      "                                                                 \n",
      " embedding (Embedding)       (None, None, 128)         596608    \n",
      "                                                                 \n",
      " bidirectional (Bidirectiona  (None, None, 256)        263168    \n",
      " l)                                                              \n",
      "                                                                 \n",
      " bidirectional_1 (Bidirectio  (None, 128)              164352    \n",
      " nal)                                                            \n",
      "                                                                 \n",
      " dense (Dense)               (None, 64)                8256      \n",
      "                                                                 \n",
      " dropout (Dropout)           (None, 64)                0         \n",
      "                                                                 \n",
      " dense_1 (Dense)             (None, 32)                2080      \n",
      "                                                                 \n",
      " dense_2 (Dense)             (None, 3)                 99        \n",
      "                                                                 \n",
      "=================================================================\n",
      "Total params: 1,034,563\n",
      "Trainable params: 1,034,563\n",
      "Non-trainable params: 0\n",
      "_________________________________________________________________\n"
     ]
    }
   ],
   "source": [
    "model = tf.keras.Sequential([\n",
    "    encoder,\n",
    "    tf.keras.layers.Embedding(len(encoder.get_vocabulary()), 128, mask_zero=True),\n",
    "    tf.keras.layers.Bidirectional(tf.keras.layers.LSTM(128,  return_sequences=True)),\n",
    "    tf.keras.layers.Bidirectional(tf.keras.layers.LSTM(64)),\n",
    "    tf.keras.layers.Dense(64, activation='relu'),\n",
    "    tf.keras.layers.Dropout(0.5),\n",
    "    tf.keras.layers.Dense(32, activation='relu'),\n",
    "    # tf.keras.layers.Dense(32, activation='relu'),\n",
    "    tf.keras.layers.Dense(3, activation='softmax')\n",
    "])\n",
    "model.summary()"
   ]
  },
  {
   "cell_type": "code",
   "execution_count": 24,
   "metadata": {},
   "outputs": [],
   "source": [
    "label_list = list(LABEL.keys())"
   ]
  },
  {
   "cell_type": "code",
   "execution_count": 25,
   "metadata": {},
   "outputs": [
    {
     "name": "stdout",
     "output_type": "stream",
     "text": [
      "1/1 [==============================] - 4s 4s/step\n",
      "[0.3325852  0.33361453 0.3338003 ] 2 text\n",
      "[0.332298   0.33518657 0.3325154 ] 1 number\n",
      "[0.3309813  0.33572137 0.3332973 ] 1 number\n",
      "[0.3331195  0.33445036 0.33243012] 1 number\n",
      "[0.3328399  0.33307898 0.33408114] 2 text\n"
     ]
    }
   ],
   "source": [
    "sample_text = ['Ai là người đầu tiên đặt chân lên mặt trăng',\n",
    "              'Pháp tấn công xâm lược Việt Nam khi nào',\n",
    "              'Quốc kỳ Việt Nam có bao nhiêu màu',\n",
    "              'Có bao nhiêu tỉnh thành owr Việt Nam',\n",
    "              'Thành phố nào là thủ phủ của Ai Cập trong đế quốc La Mã']\n",
    "\n",
    "predictions = model.predict(np.array(sample_text))\n",
    "for pred in predictions:\n",
    "  print(pred,np.argmax(pred), label_list[np.argmax(pred)])"
   ]
  },
  {
   "cell_type": "code",
   "execution_count": 26,
   "metadata": {},
   "outputs": [],
   "source": [
    "model.compile(loss=tf.keras.losses.SparseCategoricalCrossentropy(),\n",
    "                optimizer=tf.keras.optimizers.Adam(1e-4),       \n",
    "                metrics=['accuracy'])"
   ]
  },
  {
   "cell_type": "code",
   "execution_count": 27,
   "metadata": {},
   "outputs": [],
   "source": [
    "early_stopping = tf.keras.callbacks.EarlyStopping(\n",
    "    monitor='loss',\n",
    "    patience=3,\n",
    "    restore_best_weights=True)"
   ]
  },
  {
   "cell_type": "code",
   "execution_count": 28,
   "metadata": {},
   "outputs": [
    {
     "name": "stdout",
     "output_type": "stream",
     "text": [
      "Epoch 1/50\n",
      "113/113 [==============================] - 17s 79ms/step - loss: 0.9960 - accuracy: 0.5601 - val_loss: 0.6739 - val_accuracy: 0.6732\n",
      "Epoch 2/50\n",
      "113/113 [==============================] - 6s 50ms/step - loss: 0.3282 - accuracy: 0.9350 - val_loss: 0.1183 - val_accuracy: 0.9749\n",
      "Epoch 3/50\n",
      "113/113 [==============================] - 6s 52ms/step - loss: 0.0947 - accuracy: 0.9856 - val_loss: 0.0869 - val_accuracy: 0.9820\n",
      "Epoch 4/50\n",
      "113/113 [==============================] - 6s 51ms/step - loss: 0.0634 - accuracy: 0.9905 - val_loss: 0.0811 - val_accuracy: 0.9828\n",
      "Epoch 5/50\n",
      "113/113 [==============================] - 6s 54ms/step - loss: 0.0510 - accuracy: 0.9916 - val_loss: 0.0745 - val_accuracy: 0.9828\n",
      "Epoch 6/50\n",
      "113/113 [==============================] - 6s 51ms/step - loss: 0.0376 - accuracy: 0.9932 - val_loss: 0.0713 - val_accuracy: 0.9835\n",
      "Epoch 7/50\n",
      "113/113 [==============================] - 6s 55ms/step - loss: 0.0368 - accuracy: 0.9936 - val_loss: 0.0674 - val_accuracy: 0.9843\n",
      "Epoch 8/50\n",
      "113/113 [==============================] - 6s 51ms/step - loss: 0.0312 - accuracy: 0.9939 - val_loss: 0.0675 - val_accuracy: 0.9843\n",
      "Epoch 9/50\n",
      "113/113 [==============================] - 6s 55ms/step - loss: 0.0279 - accuracy: 0.9950 - val_loss: 0.0662 - val_accuracy: 0.9835\n",
      "Epoch 10/50\n",
      "113/113 [==============================] - 6s 50ms/step - loss: 0.0262 - accuracy: 0.9954 - val_loss: 0.0667 - val_accuracy: 0.9835\n",
      "Epoch 11/50\n",
      "113/113 [==============================] - 6s 56ms/step - loss: 0.0241 - accuracy: 0.9953 - val_loss: 0.0725 - val_accuracy: 0.9851\n",
      "Epoch 12/50\n",
      "113/113 [==============================] - 6s 51ms/step - loss: 0.0218 - accuracy: 0.9954 - val_loss: 0.0771 - val_accuracy: 0.9843\n",
      "Epoch 13/50\n",
      "113/113 [==============================] - 7s 61ms/step - loss: 0.0193 - accuracy: 0.9950 - val_loss: 0.0807 - val_accuracy: 0.9835\n",
      "Epoch 14/50\n",
      "113/113 [==============================] - 6s 52ms/step - loss: 0.0188 - accuracy: 0.9956 - val_loss: 0.0806 - val_accuracy: 0.9843\n",
      "Epoch 15/50\n",
      "113/113 [==============================] - 7s 58ms/step - loss: 0.0168 - accuracy: 0.9953 - val_loss: 0.0932 - val_accuracy: 0.9851\n",
      "Epoch 16/50\n",
      "113/113 [==============================] - 6s 57ms/step - loss: 0.0190 - accuracy: 0.9950 - val_loss: 0.0931 - val_accuracy: 0.9851\n",
      "Epoch 17/50\n",
      "113/113 [==============================] - 7s 59ms/step - loss: 0.0134 - accuracy: 0.9960 - val_loss: 0.0985 - val_accuracy: 0.9843\n",
      "Epoch 18/50\n",
      "113/113 [==============================] - 6s 53ms/step - loss: 0.0123 - accuracy: 0.9958 - val_loss: 0.1097 - val_accuracy: 0.9835\n",
      "Epoch 19/50\n",
      "113/113 [==============================] - 6s 56ms/step - loss: 0.0121 - accuracy: 0.9957 - val_loss: 0.1264 - val_accuracy: 0.9820\n",
      "Epoch 20/50\n",
      "113/113 [==============================] - 6s 56ms/step - loss: 0.0110 - accuracy: 0.9961 - val_loss: 0.1215 - val_accuracy: 0.9835\n",
      "Epoch 21/50\n",
      "113/113 [==============================] - 6s 56ms/step - loss: 0.0105 - accuracy: 0.9964 - val_loss: 0.1225 - val_accuracy: 0.9835\n",
      "Epoch 22/50\n",
      "113/113 [==============================] - 6s 55ms/step - loss: 0.0107 - accuracy: 0.9964 - val_loss: 0.1277 - val_accuracy: 0.9828\n",
      "Epoch 23/50\n",
      "113/113 [==============================] - 7s 58ms/step - loss: 0.0099 - accuracy: 0.9957 - val_loss: 0.1284 - val_accuracy: 0.9828\n",
      "Epoch 24/50\n",
      "113/113 [==============================] - 7s 58ms/step - loss: 0.0090 - accuracy: 0.9963 - val_loss: 0.1328 - val_accuracy: 0.9820\n",
      "Epoch 25/50\n",
      "113/113 [==============================] - 6s 57ms/step - loss: 0.0088 - accuracy: 0.9958 - val_loss: 0.1253 - val_accuracy: 0.9820\n",
      "Epoch 26/50\n",
      "113/113 [==============================] - 7s 59ms/step - loss: 0.0086 - accuracy: 0.9965 - val_loss: 0.1282 - val_accuracy: 0.9828\n",
      "Epoch 27/50\n",
      "113/113 [==============================] - 6s 57ms/step - loss: 0.0083 - accuracy: 0.9963 - val_loss: 0.1356 - val_accuracy: 0.9828\n",
      "Epoch 28/50\n",
      "113/113 [==============================] - 6s 56ms/step - loss: 0.0083 - accuracy: 0.9958 - val_loss: 0.1271 - val_accuracy: 0.9835\n",
      "Epoch 29/50\n",
      "113/113 [==============================] - 6s 56ms/step - loss: 0.0086 - accuracy: 0.9963 - val_loss: 0.1365 - val_accuracy: 0.9828\n",
      "Epoch 30/50\n",
      "113/113 [==============================] - 6s 55ms/step - loss: 0.0085 - accuracy: 0.9963 - val_loss: 0.1241 - val_accuracy: 0.9828\n",
      "Epoch 31/50\n",
      "113/113 [==============================] - 6s 58ms/step - loss: 0.0083 - accuracy: 0.9961 - val_loss: 0.1451 - val_accuracy: 0.9820\n"
     ]
    }
   ],
   "source": [
    "history = model.fit(train_dataset, epochs=50,\n",
    "                    validation_data=test_dataset,\n",
    "                    callbacks=[early_stopping])"
   ]
  },
  {
   "cell_type": "code",
   "execution_count": 29,
   "metadata": {},
   "outputs": [
    {
     "data": {
      "image/png": "[encoded data removed]",
      "text/plain": [
       "<Figure size 800x400 with 2 Axes>"
      ]
     },
     "metadata": {},
     "output_type": "display_data"
    }
   ],
   "source": [
    "plt.figure(figsize=(8, 4))\n",
    "plt.subplot(1, 2, 1)\n",
    "plt.plot(history.history['accuracy'], label='Training Accuracy')\n",
    "plt.plot(history.history['val_accuracy'], label='Validation Accuracy')\n",
    "plt.legend(loc='lower right')\n",
    "plt.ylabel('Accuracy')\n",
    "plt.ylim([min(plt.ylim()),1])\n",
    "plt.title('Training and Validation Accuracy')\n",
    "\n",
    "plt.subplot(1, 2, 2)\n",
    "plt.plot(history.history['loss'], label='Training Loss')\n",
    "plt.plot(history.history['val_loss'], label='Validation Loss')\n",
    "plt.legend(loc='upper right')\n",
    "plt.ylabel('Cross Entropy')\n",
    "plt.ylim([0,1.0])\n",
    "plt.title('Training and Validation Loss')\n",
    "plt.xlabel('epoch')\n",
    "plt.show()"
   ]
  },
  {
   "cell_type": "code",
   "execution_count": 30,
   "metadata": {},
   "outputs": [
    {
     "name": "stdout",
     "output_type": "stream",
     "text": [
      "20/20 [==============================] - 0s 14ms/step - loss: 0.1271 - accuracy: 0.9835\n",
      "Loss:  0.12711258232593536\n",
      "Accuracy:  0.9835423231124878\n"
     ]
    }
   ],
   "source": [
    "loss, accuracy = model.evaluate(test_dataset)\n",
    "print('Loss: ', loss)\n",
    "print('Accuracy: ', accuracy)"
   ]
  },
  {
   "cell_type": "code",
   "execution_count": 31,
   "metadata": {},
   "outputs": [
    {
     "name": "stdout",
     "output_type": "stream",
     "text": [
      "20/20 [==============================] - 3s 12ms/step\n"
     ]
    }
   ],
   "source": [
    "# classfication report\n",
    "y_pred = model.predict(test_dataset)"
   ]
  },
  {
   "cell_type": "code",
   "execution_count": 35,
   "metadata": {},
   "outputs": [
    {
     "name": "stdout",
     "output_type": "stream",
     "text": [
      "1/1 [==============================] - 0s 45ms/step\n",
      "Ai là người đầu tiên đặt chân lên mặt trăng -> wiki 1.0\n",
      "Thời đại Hồng Bàng còn có tên gọi khác là gì -> wiki 1.0\n",
      "Thành phố nào là thủ phủ của Ai Cập trong đế quốc La Mã -> wiki 1.0\n",
      "Vật lý nghiên cứu vấn đề gì -> wiki 1.0\n",
      "Có bao nhiêu tỉnh thành ở Việt Nam -> wiki 0.9999988\n",
      "Quốc kỳ Việt Nam có bao nhiêu màu -> wiki 0.9999964\n",
      "Hà Nội có bao nhiêu đơn vị hành chính -> wiki 1.0\n",
      "Đinh Đức Thiện mất ngày nào -> text 0.9999845\n",
      "Ngày quốc thế phụ nữ có từ khi nào -> text 0.9999993\n",
      "Google thành lập khi nào -> text 0.9999156\n",
      "Google phát hành cổ phiếu lần đầu vào năm bao nhiêu -> wiki 0.9956495\n",
      "Pháp tấn công xâm lược Việt Nam khi nào -> wiki 0.99843055\n",
      "năm nào -> text 0.84807473\n",
      "ngày nào -> text 0.8547516\n",
      "tháng nào -> text 0.78428495\n",
      "có mấy -> number 0.61811286\n",
      "có bao nhiêu -> number 0.88028747\n",
      "Ai là người tìm ra châu phi -> wiki 1.0\n",
      "Có bao nhiêu nước không có vua -> number 0.99999774\n",
      "Songoku là nhân vật ở phim nào -> wiki 1.0\n",
      "Anya sinh năm mấy -> text 0.96794003\n",
      "Anya tóc màu gì -> wiki 0.99569416\n",
      "Anya có mấy thú cưng -> number 0.6090437\n",
      "Anya có mấy skill -> number 0.7803692\n",
      "Tây Du Ký phiên bản Trương Kỷ Trung khởi quay năm nào -> wiki 0.99899477\n"
     ]
    }
   ],
   "source": [
    "sample_text = [\n",
    "    'Ai là người đầu tiên đặt chân lên mặt trăng',\n",
    "    'Thời đại Hồng Bàng còn có tên gọi khác là gì',\n",
    "    'Thành phố nào là thủ phủ của Ai Cập trong đế quốc La Mã',\n",
    "    'Vật lý nghiên cứu vấn đề gì',\n",
    "    'Có bao nhiêu tỉnh thành ở Việt Nam',\n",
    "    'Quốc kỳ Việt Nam có bao nhiêu màu',\n",
    "    'Hà Nội có bao nhiêu đơn vị hành chính',\n",
    "    'Đinh Đức Thiện mất ngày nào',\n",
    "    'Ngày quốc thế phụ nữ có từ khi nào',\n",
    "    'Google thành lập khi nào',\n",
    "    'Google phát hành cổ phiếu lần đầu vào năm bao nhiêu',\n",
    "    'Pháp tấn công xâm lược Việt Nam khi nào',\n",
    "    'năm nào',\n",
    "    'ngày nào',\n",
    "    'tháng nào',\n",
    "    'có mấy',\n",
    "    'có bao nhiêu',\n",
    "    'Ai là người tìm ra châu phi',\n",
    "    'Có bao nhiêu nước không có vua',\n",
    "    'Songoku là nhân vật ở phim nào',\n",
    "    'Anya sinh năm mấy',\n",
    "    'Anya tóc màu gì',\n",
    "    'Anya có mấy thú cưng',\n",
    "    'Anya có mấy skill',\n",
    "    'Tây Du Ký phiên bản Trương Kỷ Trung khởi quay năm nào'\n",
    "]\n",
    "\n",
    "predictions = model.predict(np.array(sample_text))\n",
    "for i, pred in enumerate(predictions):\n",
    "    print(sample_text[i], '->', label_list[np.argmax(pred)],max(pred))\n"
   ]
  },
  {
   "cell_type": "code",
   "execution_count": 33,
   "metadata": {},
   "outputs": [
    {
     "name": "stdout",
     "output_type": "stream",
     "text": [
      "20/20 [==============================] - 0s 11ms/step\n",
      "              precision    recall  f1-score   support\n",
      "\n",
      "        wiki       0.99      1.00      0.99       691\n",
      "      number       0.98      0.97      0.98       302\n",
      "        text       0.96      0.97      0.96       283\n",
      "\n",
      "    accuracy                           0.98      1276\n",
      "   macro avg       0.98      0.98      0.98      1276\n",
      "weighted avg       0.98      0.98      0.98      1276\n",
      "\n"
     ]
    }
   ],
   "source": [
    "# classficaiton report\n",
    "from sklearn.metrics import classification_report\n",
    "y_pred = model.predict(test_dataset)\n",
    "y_pred = np.argmax(y_pred, axis=1)\n",
    "test_label = np.concatenate([y for x, y in test_dataset], axis=0)\n",
    "print(classification_report(test_label, y_pred, target_names=label_list))"
   ]
  },
  {
   "cell_type": "code",
   "execution_count": 34,
   "metadata": {},
   "outputs": [
    {
     "name": "stderr",
     "output_type": "stream",
     "text": [
      "WARNING:absl:Found untraced functions such as lstm_cell_1_layer_call_fn, lstm_cell_1_layer_call_and_return_conditional_losses, lstm_cell_2_layer_call_fn, lstm_cell_2_layer_call_and_return_conditional_losses, lstm_cell_4_layer_call_fn while saving (showing 5 of 8). These functions will not be directly callable after loading.\n"
     ]
    },
    {
     "name": "stdout",
     "output_type": "stream",
     "text": [
      "INFO:tensorflow:Assets written to: model_1\\assets\n"
     ]
    },
    {
     "name": "stderr",
     "output_type": "stream",
     "text": [
      "INFO:tensorflow:Assets written to: model_1\\assets\n"
     ]
    }
   ],
   "source": [
    "model.save('model_1')"
   ]
  }
 ],
 "metadata": {
  "kernelspec": {
   "display_name": "Python 3.10.6 ('rs')",
   "language": "python",
   "name": "python3"
  },
  "language_info": {
   "codemirror_mode": {
    "name": "ipython",
    "version": 3
   },
   "file_extension": ".py",
   "mimetype": "text/x-python",
   "name": "python",
   "nbconvert_exporter": "python",
   "pygments_lexer": "ipython3",
   "version": "3.10.6"
  },
  "orig_nbformat": 4,
  "vscode": {
   "interpreter": {
    "hash": "ba141c8d811672bca916348b96b465f0d8c36918c76b97082af4ef2ad5ae2a45"
   }
  }
 },
 "nbformat": 4,
 "nbformat_minor": 2
}
