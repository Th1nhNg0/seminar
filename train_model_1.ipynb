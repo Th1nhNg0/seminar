{
 "cells": [
  {
   "cell_type": "code",
   "execution_count": 2,
   "metadata": {},
   "outputs": [],
   "source": [
    "import pandas as pd\n",
    "import json\n",
    "import numpy as np"
   ]
  },
  {
   "cell_type": "markdown",
   "metadata": {},
   "source": [
    "# make data"
   ]
  },
  {
   "cell_type": "code",
   "execution_count": 3,
   "metadata": {},
   "outputs": [],
   "source": [
    "with open('data/zac2022_train_merged_final.json',encoding='utf-8') as f:\n",
    "    data=json.load(f)\n",
    "    df = pd.json_normalize(data,'data')"
   ]
  },
  {
   "cell_type": "code",
   "execution_count": 4,
   "metadata": {},
   "outputs": [
    {
     "data": {
      "text/html": [
       "<div>\n",
       "<style scoped>\n",
       "    .dataframe tbody tr th:only-of-type {\n",
       "        vertical-align: middle;\n",
       "    }\n",
       "\n",
       "    .dataframe tbody tr th {\n",
       "        vertical-align: top;\n",
       "    }\n",
       "\n",
       "    .dataframe thead th {\n",
       "        text-align: right;\n",
       "    }\n",
       "</style>\n",
       "<table border=\"1\" class=\"dataframe\">\n",
       "  <thead>\n",
       "    <tr style=\"text-align: right;\">\n",
       "      <th></th>\n",
       "      <th>id</th>\n",
       "      <th>question</th>\n",
       "      <th>title</th>\n",
       "      <th>text</th>\n",
       "      <th>category</th>\n",
       "      <th>is_long_answer</th>\n",
       "      <th>short_candidate_start</th>\n",
       "      <th>short_candidate</th>\n",
       "      <th>answer</th>\n",
       "    </tr>\n",
       "  </thead>\n",
       "  <tbody>\n",
       "    <tr>\n",
       "      <th>0</th>\n",
       "      <td>718d41cd997b2b44b0685ac54aa55bd8</td>\n",
       "      <td>Thủ tướng Trung Quốc là gì</td>\n",
       "      <td>Trung Quốc</td>\n",
       "      <td>Thủ tướng Trung Quốc là nhân vật lãnh đạo chín...</td>\n",
       "      <td>PARTIAL_ANNOTATION</td>\n",
       "      <td>True</td>\n",
       "      <td>NaN</td>\n",
       "      <td>NaN</td>\n",
       "      <td>NaN</td>\n",
       "    </tr>\n",
       "    <tr>\n",
       "      <th>1</th>\n",
       "      <td>c926e7b0717202618a10dd907d4b4c39</td>\n",
       "      <td>Đất nước nào không có quân đội</td>\n",
       "      <td></td>\n",
       "      <td>có 23 quốc gia không có lực lượng quân đội, ba...</td>\n",
       "      <td>FULL_ANNOTATION</td>\n",
       "      <td>True</td>\n",
       "      <td>53.0</td>\n",
       "      <td>Costa Rica, Iceland, Panama, Micronesia, Quần ...</td>\n",
       "      <td>wiki/Danh_sách_quốc_gia_không_có_lực_lượng_vũ_...</td>\n",
       "    </tr>\n",
       "    <tr>\n",
       "      <th>2</th>\n",
       "      <td>d38ef5bf1fb82b410026ed82c8a44cae</td>\n",
       "      <td>Pháp tấn công xâm lược Việt Nam vào ngày tháng...</td>\n",
       "      <td>Raymondienne</td>\n",
       "      <td>Raymondienne (hay Raymonde Dien) sinh ngày 13 ...</td>\n",
       "      <td>FALSE_LONG_ANSWER</td>\n",
       "      <td>False</td>\n",
       "      <td>NaN</td>\n",
       "      <td>NaN</td>\n",
       "      <td>NaN</td>\n",
       "    </tr>\n",
       "    <tr>\n",
       "      <th>3</th>\n",
       "      <td>b6b5589a98fdccd208dc752bac853993</td>\n",
       "      <td>Cờ vua còn có tên gọi nào khác</td>\n",
       "      <td>Cúp cờ vua thế giới</td>\n",
       "      <td>Cúp cờ vua thế giới là tên gọi một số giải đấu...</td>\n",
       "      <td>FALSE_LONG_ANSWER</td>\n",
       "      <td>False</td>\n",
       "      <td>NaN</td>\n",
       "      <td>NaN</td>\n",
       "      <td>NaN</td>\n",
       "    </tr>\n",
       "    <tr>\n",
       "      <th>4</th>\n",
       "      <td>82396a18fa9812bfec4d3ecb7ae60905</td>\n",
       "      <td>Núi nào cao nhất châu âu</td>\n",
       "      <td>Shkhara</td>\n",
       "      <td>Đỉnh núi nằm ở phần trung tâm của dãy núi Đại ...</td>\n",
       "      <td>FULL_ANNOTATION</td>\n",
       "      <td>True</td>\n",
       "      <td>73.0</td>\n",
       "      <td>núi Elbrus</td>\n",
       "      <td>wiki/Elbrus</td>\n",
       "    </tr>\n",
       "  </tbody>\n",
       "</table>\n",
       "</div>"
      ],
      "text/plain": [
       "                                 id  \\\n",
       "0  718d41cd997b2b44b0685ac54aa55bd8   \n",
       "1  c926e7b0717202618a10dd907d4b4c39   \n",
       "2  d38ef5bf1fb82b410026ed82c8a44cae   \n",
       "3  b6b5589a98fdccd208dc752bac853993   \n",
       "4  82396a18fa9812bfec4d3ecb7ae60905   \n",
       "\n",
       "                                            question                title  \\\n",
       "0                         Thủ tướng Trung Quốc là gì           Trung Quốc   \n",
       "1                     Đất nước nào không có quân đội                        \n",
       "2  Pháp tấn công xâm lược Việt Nam vào ngày tháng...         Raymondienne   \n",
       "3                     Cờ vua còn có tên gọi nào khác  Cúp cờ vua thế giới   \n",
       "4                           Núi nào cao nhất châu âu              Shkhara   \n",
       "\n",
       "                                                text            category  \\\n",
       "0  Thủ tướng Trung Quốc là nhân vật lãnh đạo chín...  PARTIAL_ANNOTATION   \n",
       "1  có 23 quốc gia không có lực lượng quân đội, ba...     FULL_ANNOTATION   \n",
       "2  Raymondienne (hay Raymonde Dien) sinh ngày 13 ...   FALSE_LONG_ANSWER   \n",
       "3  Cúp cờ vua thế giới là tên gọi một số giải đấu...   FALSE_LONG_ANSWER   \n",
       "4  Đỉnh núi nằm ở phần trung tâm của dãy núi Đại ...     FULL_ANNOTATION   \n",
       "\n",
       "   is_long_answer  short_candidate_start  \\\n",
       "0            True                    NaN   \n",
       "1            True                   53.0   \n",
       "2           False                    NaN   \n",
       "3           False                    NaN   \n",
       "4            True                   73.0   \n",
       "\n",
       "                                     short_candidate  \\\n",
       "0                                                NaN   \n",
       "1  Costa Rica, Iceland, Panama, Micronesia, Quần ...   \n",
       "2                                                NaN   \n",
       "3                                                NaN   \n",
       "4                                         núi Elbrus   \n",
       "\n",
       "                                              answer  \n",
       "0                                                NaN  \n",
       "1  wiki/Danh_sách_quốc_gia_không_có_lực_lượng_vũ_...  \n",
       "2                                                NaN  \n",
       "3                                                NaN  \n",
       "4                                        wiki/Elbrus  "
      ]
     },
     "execution_count": 4,
     "metadata": {},
     "output_type": "execute_result"
    }
   ],
   "source": [
    "df.head()"
   ]
  },
  {
   "cell_type": "code",
   "execution_count": 5,
   "metadata": {},
   "outputs": [
    {
     "data": {
      "text/plain": [
       "['a lô', 'a ha', 'ai', 'ai ai', 'ai nấy']"
      ]
     },
     "execution_count": 5,
     "metadata": {},
     "output_type": "execute_result"
    }
   ],
   "source": [
    "text_file = open(\"vietnamese-stopwords.txt\", \"r\")\n",
    "stopwords = text_file.read().split('\\n')\n",
    "stopwords[:5]"
   ]
  },
  {
   "cell_type": "code",
   "execution_count": 6,
   "metadata": {},
   "outputs": [],
   "source": [
    "import re\n",
    "\n",
    "def checkdate(date):\n",
    "    # reg1 = ngày .. tháng .. năm ..\n",
    "    # reg2 = tháng .. năm ..\n",
    "    # reg3 = năm ..\n",
    "    # reg4 = ngày .. tháng ..\n",
    "    # check date by reg1, reg2, reg3, reg4\n",
    "    reg1 = r'ngày\\s\\d{1,2}\\stháng\\s\\d{1,2}\\snăm\\s\\d{4}'\n",
    "    reg2 = r'tháng\\s\\d{1,2}\\snăm\\s\\d{4}'\n",
    "    reg3 = r'năm\\s\\d{4}'\n",
    "    reg4 = r'ngày\\s\\d{1,2}\\stháng\\s\\d{1,2}'\n",
    "    if re.match(reg1, date) or re.match(reg2, date) or re.match(reg3, date) or re.match(reg4, date):\n",
    "        return True\n",
    "    return False\n",
    "\n",
    "def appy_func(x):\n",
    "    if x.startswith('wiki/'):\n",
    "        return 'wiki'\n",
    "    if x.isdigit():\n",
    "        return 'number'\n",
    "    return 'text'\n",
    "\n",
    "full_df = df.copy()\n",
    "# full_df = df[df['category']=='FULL_ANNOTATION']\n",
    "\n",
    "# loop through all row\n",
    "# create new empty column\n",
    "full_df['train_label'] = ''\n",
    "\n",
    "\n",
    "date_keyword = [\n",
    "    'ngày nào',\n",
    "    'tháng nào',\n",
    "    'năm nào',\n",
    "    'thế nào',\n",
    "    'khi nào',\n",
    "    'lúc nào'\n",
    "]\n",
    "for index, row in full_df.iterrows():\n",
    "    for date in date_keyword:\n",
    "        if date in row['question'].lower():\n",
    "            full_df.at[index, 'train_label'] = 'text'\n",
    "            break\n",
    "\n",
    "    if 'bao nhiêu' in row['question'].lower() and 'năm bao nhiêu' not in row['question'].lower():\n",
    "        full_df.loc[index, 'train_label'] = 'number'\n",
    "\n",
    "    if row['category']=='FULL_ANNOTATION':\n",
    "        full_df.loc[index, 'train_label'] = appy_func(row['answer'])\n",
    "full_df = full_df[full_df['train_label']!='']\n",
    "# full_df['train_label'] = full_df['answer'].apply(appy_func)"
   ]
  },
  {
   "cell_type": "code",
   "execution_count": 6,
   "metadata": {},
   "outputs": [
    {
     "name": "stdout",
     "output_type": "stream",
     "text": [
      "bao nhiêu 2228\n"
     ]
    }
   ],
   "source": [
    "print('bao nhiêu', len(df[df['question'].str.lower().str.contains('bao nhiêu')]))"
   ]
  },
  {
   "cell_type": "code",
   "execution_count": 7,
   "metadata": {},
   "outputs": [
    {
     "name": "stdout",
     "output_type": "stream",
     "text": [
      "ngày nào 158\n",
      "tháng nào 7\n",
      "năm nào 1463\n",
      "thế nào 57\n",
      "khi nào 137\n",
      "lúc nào 3\n"
     ]
    }
   ],
   "source": [
    "for keyword in date_keyword:\n",
    "    print(keyword, len(df[df['question'].str.lower().str.contains(keyword)]))"
   ]
  },
  {
   "cell_type": "code",
   "execution_count": 8,
   "metadata": {},
   "outputs": [
    {
     "data": {
      "text/plain": [
       "wiki      4608\n",
       "number    2010\n",
       "text      1885\n",
       "Name: train_label, dtype: int64"
      ]
     },
     "execution_count": 8,
     "metadata": {},
     "output_type": "execute_result"
    }
   ],
   "source": [
    "full_df['train_label'].value_counts()"
   ]
  },
  {
   "cell_type": "markdown",
   "metadata": {},
   "source": [
    "# train bruh bruhh"
   ]
  },
  {
   "cell_type": "code",
   "execution_count": 9,
   "metadata": {},
   "outputs": [],
   "source": [
    "import tensorflow as tf\n",
    "import string\n",
    "import scipy\n",
    "from tensorflow.keras import layers\n",
    "from tensorflow.keras import losses\n",
    "from sklearn.model_selection import train_test_split\n",
    "import numpy as np\n",
    "import matplotlib.pyplot as plt"
   ]
  },
  {
   "cell_type": "code",
   "execution_count": 10,
   "metadata": {},
   "outputs": [
    {
     "name": "stderr",
     "output_type": "stream",
     "text": [
      "C:\\Users\\ngoph\\AppData\\Local\\Temp\\ipykernel_10520\\2716060377.py:21: SettingWithCopyWarning: \n",
      "A value is trying to be set on a copy of a slice from a DataFrame.\n",
      "Try using .loc[row_indexer,col_indexer] = value instead\n",
      "\n",
      "See the caveats in the documentation: https://pandas.pydata.org/pandas-docs/stable/user_guide/indexing.html#returning-a-view-versus-a-copy\n",
      "  train_df['train_label'] = train_df['train_label'].apply(lambda x: LABEL[x])\n"
     ]
    },
    {
     "data": {
      "text/html": [
       "<div>\n",
       "<style scoped>\n",
       "    .dataframe tbody tr th:only-of-type {\n",
       "        vertical-align: middle;\n",
       "    }\n",
       "\n",
       "    .dataframe tbody tr th {\n",
       "        vertical-align: top;\n",
       "    }\n",
       "\n",
       "    .dataframe thead th {\n",
       "        text-align: right;\n",
       "    }\n",
       "</style>\n",
       "<table border=\"1\" class=\"dataframe\">\n",
       "  <thead>\n",
       "    <tr style=\"text-align: right;\">\n",
       "      <th></th>\n",
       "      <th>question</th>\n",
       "      <th>train_label</th>\n",
       "    </tr>\n",
       "  </thead>\n",
       "  <tbody>\n",
       "    <tr>\n",
       "      <th>1</th>\n",
       "      <td>Đất nước nào không có quân đội</td>\n",
       "      <td>0</td>\n",
       "    </tr>\n",
       "    <tr>\n",
       "      <th>2</th>\n",
       "      <td>Pháp tấn công xâm lược Việt Nam vào ngày tháng...</td>\n",
       "      <td>2</td>\n",
       "    </tr>\n",
       "    <tr>\n",
       "      <th>4</th>\n",
       "      <td>Núi nào cao nhất châu âu</td>\n",
       "      <td>0</td>\n",
       "    </tr>\n",
       "    <tr>\n",
       "      <th>8</th>\n",
       "      <td>Hà Nội đã trải qua bao nhiêu lần đổi tên</td>\n",
       "      <td>1</td>\n",
       "    </tr>\n",
       "    <tr>\n",
       "      <th>9</th>\n",
       "      <td>Thành phố nào là thủ phủ của Ai Cập trong đế q...</td>\n",
       "      <td>0</td>\n",
       "    </tr>\n",
       "  </tbody>\n",
       "</table>\n",
       "</div>"
      ],
      "text/plain": [
       "                                            question  train_label\n",
       "1                     Đất nước nào không có quân đội            0\n",
       "2  Pháp tấn công xâm lược Việt Nam vào ngày tháng...            2\n",
       "4                           Núi nào cao nhất châu âu            0\n",
       "8           Hà Nội đã trải qua bao nhiêu lần đổi tên            1\n",
       "9  Thành phố nào là thủ phủ của Ai Cập trong đế q...            0"
      ]
     },
     "execution_count": 10,
     "metadata": {},
     "output_type": "execute_result"
    }
   ],
   "source": [
    "train_df = full_df[['question','train_label']]\n",
    "# question\n",
    "s1 = u'ÀÁÂÃÈÉÊÌÍÒÓÔÕÙÚÝàáâãèéêìíòóôõùúýĂăĐđĨĩŨũƠơƯưẠạẢảẤấẦầẨẩẪẫẬậẮắẰằẲẳẴẵẶặẸẹẺẻẼẽẾếỀềỂểỄễỆệỈỉỊịỌọỎỏỐốỒồỔổỖỗỘộỚớỜờỞởỠỡỢợỤụỦủỨứỪừỬửỮữỰựỲỳỴỵỶỷỸỹ'\n",
    "s0 = u'AAAAEEEIIOOOOUUYaaaaeeeiioooouuyAaDdIiUuOoUuAaAaAaAaAaAaAaAaAaAaAaAaEeEeEeEeEeEeEeEeIiIiOoOoOoOoOoOoOoOoOoOoOoOoUuUuUuUuUuUuUuYyYyYyYy'\n",
    "def remove_accents(input_str):\n",
    "\ts = ''\n",
    "\tfor c in input_str:\n",
    "\t\tif c in s1:\n",
    "\t\t\ts += s0[s1.index(c)]\n",
    "\t\telse:\n",
    "\t\t\ts += c\n",
    "\treturn s\n",
    "# train_df['question'] = train_df['question'].apply(remove_accents)\n",
    "\n",
    "# label\n",
    "LABEL={\n",
    "\t'wiki':0,\n",
    "\t'number':1,\n",
    "\t'text':2\n",
    "}\n",
    "train_df['train_label'] = train_df['train_label'].apply(lambda x: LABEL[x])\n",
    "train_df.head()"
   ]
  },
  {
   "cell_type": "code",
   "execution_count": 11,
   "metadata": {},
   "outputs": [],
   "source": [
    "train_dataset, test_dataset = train_test_split(train_df, test_size=0.15, random_state=42,\n",
    "                                                  stratify=train_df['train_label'])\n",
    "\n",
    "# convert to tensorflow dataset\n",
    "train_dataset = tf.data.Dataset.from_tensor_slices((train_dataset['question'].values, train_dataset['train_label'].values))\n",
    "test_dataset = tf.data.Dataset.from_tensor_slices((test_dataset['question'].values, test_dataset['train_label'].values))"
   ]
  },
  {
   "cell_type": "code",
   "execution_count": 12,
   "metadata": {},
   "outputs": [
    {
     "data": {
      "text/plain": [
       "(TensorSpec(shape=(), dtype=tf.string, name=None),\n",
       " TensorSpec(shape=(), dtype=tf.int64, name=None))"
      ]
     },
     "execution_count": 12,
     "metadata": {},
     "output_type": "execute_result"
    }
   ],
   "source": [
    "train_dataset.element_spec"
   ]
  },
  {
   "cell_type": "code",
   "execution_count": 13,
   "metadata": {},
   "outputs": [],
   "source": [
    "BUFFER_SIZE = 100\n",
    "BATCH_SIZE = 64\n",
    "train_dataset = train_dataset.shuffle(BUFFER_SIZE).batch(BATCH_SIZE).prefetch(tf.data.AUTOTUNE)\n",
    "test_dataset = test_dataset.batch(BATCH_SIZE).prefetch(tf.data.AUTOTUNE)"
   ]
  },
  {
   "cell_type": "code",
   "execution_count": 14,
   "metadata": {},
   "outputs": [
    {
     "name": "stdout",
     "output_type": "stream",
     "text": [
      "text:  [b'V\\xe1\\xbb\\x8b vua n\\xc3\\xa0o n\\xc6\\xb0\\xe1\\xbb\\x9bc ta l\\xe1\\xba\\xa5y ni\\xc3\\xaan hi\\xe1\\xbb\\x87u c\\xc3\\xb3 \\xc3\\xbd ngh\\xc4\\xa9a l\\xc3\\xa0 \\xc3\\xa1nh s\\xc3\\xa1ng \\xe1\\xbb\\x9f trung t\\xc3\\xa2m?'\n",
      " b'Th\\xc3\\xa0nh ph\\xe1\\xbb\\x91 n\\xc3\\xa0o \\xc4\\x91\\xc3\\xb4ng d\\xc3\\xa2n nh\\xe1\\xba\\xa5t Vi\\xe1\\xbb\\x87t Nam'\n",
      " b't\\xe1\\xbb\\x89nh n\\xc3\\xa0o hi\\xe1\\xbb\\x87n nay t\\xe1\\xbb\\xabng l\\xc3\\xa0 kinh \\xc4\\x91\\xc3\\xb4 c\\xe1\\xbb\\xa7a nh\\xc3\\xa0 n\\xc6\\xb0\\xe1\\xbb\\x9bc v\\xc4\\x83n lang']\n",
      "label:  [0 0 0]\n"
     ]
    }
   ],
   "source": [
    "for example, label in train_dataset.take(1):\n",
    "  print('text: ', example.numpy()[:3])\n",
    "  print('label: ', label.numpy()[:3])"
   ]
  },
  {
   "cell_type": "code",
   "execution_count": 15,
   "metadata": {},
   "outputs": [],
   "source": [
    "VOCAB_SIZE = 10000\n",
    "encoder = tf.keras.layers.TextVectorization(\n",
    "    max_tokens=VOCAB_SIZE)\n",
    "encoder.adapt(train_dataset.map(lambda text, label: text))"
   ]
  },
  {
   "cell_type": "code",
   "execution_count": 16,
   "metadata": {},
   "outputs": [
    {
     "data": {
      "text/plain": [
       "array(['', '[UNK]', 'nào', 'là', 'của', 'bao', 'nhiêu', 'năm', 'có',\n",
       "       'nam', 'việt', 'ở', 'thành', 'được', 'nước', 'vào', 'quốc', 'tỉnh',\n",
       "       'nhất', 'ai'], dtype='<U14')"
      ]
     },
     "execution_count": 16,
     "metadata": {},
     "output_type": "execute_result"
    }
   ],
   "source": [
    "vocab = np.array(encoder.get_vocabulary())\n",
    "vocab[:20]"
   ]
  },
  {
   "cell_type": "code",
   "execution_count": 17,
   "metadata": {},
   "outputs": [
    {
     "data": {
      "text/plain": [
       "array([[  56,   28,    2,   14,   46,  367,  428,  189,    8,  816,  177,\n",
       "           3, 1306,  190,   11,   49,  356],\n",
       "       [  12,   21,    2,  188,   32,   18,   10,    9,    0,    0,    0,\n",
       "           0,    0,    0,    0,    0,    0],\n",
       "       [  17,    2,   24,   36,   89,    3,  130,   43,    4,   35,   14,\n",
       "          88,  884,    0,    0,    0,    0]], dtype=int64)"
      ]
     },
     "execution_count": 17,
     "metadata": {},
     "output_type": "execute_result"
    }
   ],
   "source": [
    "encoded_example = encoder(example)[:3].numpy()\n",
    "encoded_example"
   ]
  },
  {
   "cell_type": "code",
   "execution_count": 18,
   "metadata": {},
   "outputs": [
    {
     "name": "stdout",
     "output_type": "stream",
     "text": [
      "Original:  Vị vua nào nước ta lấy niên hiệu có ý nghĩa là ánh sáng ở trung tâm?\n",
      "Round-trip:  vị vua nào nước ta lấy niên hiệu có ý nghĩa là ánh sáng ở trung tâm\n",
      "\n",
      "Original:  Thành phố nào đông dân nhất Việt Nam\n",
      "Round-trip:  thành phố nào đông dân nhất việt nam         \n",
      "\n",
      "Original:  tỉnh nào hiện nay từng là kinh đô của nhà nước văn lang\n",
      "Round-trip:  tỉnh nào hiện nay từng là kinh đô của nhà nước văn lang    \n",
      "\n"
     ]
    }
   ],
   "source": [
    "for n in range(3):\n",
    "  print(\"Original: \", example[n].numpy().decode('utf-8'))\n",
    "  print(\"Round-trip: \", \" \".join(vocab[encoded_example[n]]))\n",
    "  print()"
   ]
  },
  {
   "cell_type": "code",
   "execution_count": 19,
   "metadata": {},
   "outputs": [
    {
     "name": "stdout",
     "output_type": "stream",
     "text": [
      "Model: \"sequential\"\n",
      "_________________________________________________________________\n",
      " Layer (type)                Output Shape              Param #   \n",
      "=================================================================\n",
      " text_vectorization (TextVec  (None, None)             0         \n",
      " torization)                                                     \n",
      "                                                                 \n",
      " embedding (Embedding)       (None, None, 128)         370048    \n",
      "                                                                 \n",
      " bidirectional (Bidirectiona  (None, None, 256)        263168    \n",
      " l)                                                              \n",
      "                                                                 \n",
      " bidirectional_1 (Bidirectio  (None, 128)              164352    \n",
      " nal)                                                            \n",
      "                                                                 \n",
      " dense (Dense)               (None, 64)                8256      \n",
      "                                                                 \n",
      " dropout (Dropout)           (None, 64)                0         \n",
      "                                                                 \n",
      " dense_1 (Dense)             (None, 32)                2080      \n",
      "                                                                 \n",
      " dense_2 (Dense)             (None, 3)                 99        \n",
      "                                                                 \n",
      "=================================================================\n",
      "Total params: 808,003\n",
      "Trainable params: 808,003\n",
      "Non-trainable params: 0\n",
      "_________________________________________________________________\n"
     ]
    }
   ],
   "source": [
    "model = tf.keras.Sequential([\n",
    "    encoder,\n",
    "    tf.keras.layers.Embedding(len(encoder.get_vocabulary()), 128, mask_zero=True),\n",
    "    tf.keras.layers.Bidirectional(tf.keras.layers.LSTM(128,  return_sequences=True)),\n",
    "    tf.keras.layers.Bidirectional(tf.keras.layers.LSTM(64)),\n",
    "    tf.keras.layers.Dense(64, activation='relu'),\n",
    "    tf.keras.layers.Dropout(0.5),\n",
    "    tf.keras.layers.Dense(32, activation='relu'),\n",
    "    # tf.keras.layers.Dense(32, activation='relu'),\n",
    "    tf.keras.layers.Dense(3, activation='softmax')\n",
    "])\n",
    "model.summary()"
   ]
  },
  {
   "cell_type": "code",
   "execution_count": 20,
   "metadata": {},
   "outputs": [],
   "source": [
    "label_list = list(LABEL.keys())"
   ]
  },
  {
   "cell_type": "code",
   "execution_count": 21,
   "metadata": {},
   "outputs": [
    {
     "name": "stdout",
     "output_type": "stream",
     "text": [
      "1/1 [==============================] - 5s 5s/step\n",
      "[0.33459845 0.33322304 0.33217844] 0 wiki\n",
      "[0.33398518 0.3349008  0.33111396] 1 number\n",
      "[0.33316368 0.33337575 0.33346057] 2 text\n",
      "[0.33285755 0.33403617 0.33310625] 1 number\n",
      "[0.33363396 0.33424118 0.33212486] 1 number\n"
     ]
    }
   ],
   "source": [
    "sample_text = ['Ai là người đầu tiên đặt chân lên mặt trăng',\n",
    "              'Pháp tấn công xâm lược Việt Nam khi nào',\n",
    "              'Quốc kỳ Việt Nam có bao nhiêu màu',\n",
    "              'Có bao nhiêu tỉnh thành owr Việt Nam',\n",
    "              'Thành phố nào là thủ phủ của Ai Cập trong đế quốc La Mã']\n",
    "\n",
    "predictions = model.predict(np.array(sample_text))\n",
    "for pred in predictions:\n",
    "  print(pred,np.argmax(pred), label_list[np.argmax(pred)])"
   ]
  },
  {
   "cell_type": "code",
   "execution_count": 22,
   "metadata": {},
   "outputs": [],
   "source": [
    "model.compile(loss=tf.keras.losses.SparseCategoricalCrossentropy(),\n",
    "                optimizer=tf.keras.optimizers.Adam(1e-4),       \n",
    "                metrics=['accuracy'])"
   ]
  },
  {
   "cell_type": "code",
   "execution_count": 23,
   "metadata": {},
   "outputs": [],
   "source": [
    "early_stopping = tf.keras.callbacks.EarlyStopping(\n",
    "    monitor='loss',\n",
    "    patience=3,\n",
    "    restore_best_weights=True)"
   ]
  },
  {
   "cell_type": "code",
   "execution_count": 24,
   "metadata": {},
   "outputs": [
    {
     "name": "stdout",
     "output_type": "stream",
     "text": [
      "Epoch 1/50\n",
      "113/113 [==============================] - 15s 47ms/step - loss: 0.9747 - accuracy: 0.5698 - val_loss: 0.6082 - val_accuracy: 0.7382\n",
      "Epoch 2/50\n",
      "113/113 [==============================] - 2s 21ms/step - loss: 0.2872 - accuracy: 0.9287 - val_loss: 0.1406 - val_accuracy: 0.9781\n",
      "Epoch 3/50\n",
      "113/113 [==============================] - 2s 21ms/step - loss: 0.1086 - accuracy: 0.9841 - val_loss: 0.1168 - val_accuracy: 0.9804\n",
      "Epoch 4/50\n",
      "113/113 [==============================] - 2s 20ms/step - loss: 0.0818 - accuracy: 0.9887 - val_loss: 0.1082 - val_accuracy: 0.9804\n",
      "Epoch 5/50\n",
      "113/113 [==============================] - 2s 21ms/step - loss: 0.0676 - accuracy: 0.9905 - val_loss: 0.0986 - val_accuracy: 0.9796\n",
      "Epoch 6/50\n",
      "113/113 [==============================] - 2s 21ms/step - loss: 0.0516 - accuracy: 0.9920 - val_loss: 0.0936 - val_accuracy: 0.9820\n",
      "Epoch 7/50\n",
      "113/113 [==============================] - 2s 20ms/step - loss: 0.0461 - accuracy: 0.9924 - val_loss: 0.0890 - val_accuracy: 0.9835\n",
      "Epoch 8/50\n",
      "113/113 [==============================] - 2s 20ms/step - loss: 0.0432 - accuracy: 0.9927 - val_loss: 0.0873 - val_accuracy: 0.9812\n",
      "Epoch 9/50\n",
      "113/113 [==============================] - 2s 20ms/step - loss: 0.0387 - accuracy: 0.9934 - val_loss: 0.0863 - val_accuracy: 0.9828\n",
      "Epoch 10/50\n",
      "113/113 [==============================] - 2s 20ms/step - loss: 0.0356 - accuracy: 0.9936 - val_loss: 0.0837 - val_accuracy: 0.9843\n",
      "Epoch 11/50\n",
      "113/113 [==============================] - 2s 20ms/step - loss: 0.0326 - accuracy: 0.9932 - val_loss: 0.0833 - val_accuracy: 0.9843\n",
      "Epoch 12/50\n",
      "113/113 [==============================] - 2s 20ms/step - loss: 0.0299 - accuracy: 0.9935 - val_loss: 0.0872 - val_accuracy: 0.9828\n",
      "Epoch 13/50\n",
      "113/113 [==============================] - 2s 20ms/step - loss: 0.0259 - accuracy: 0.9936 - val_loss: 0.0891 - val_accuracy: 0.9828\n",
      "Epoch 14/50\n",
      "113/113 [==============================] - 2s 20ms/step - loss: 0.0263 - accuracy: 0.9941 - val_loss: 0.0959 - val_accuracy: 0.9843\n",
      "Epoch 15/50\n",
      "113/113 [==============================] - 3s 22ms/step - loss: 0.0264 - accuracy: 0.9932 - val_loss: 0.1264 - val_accuracy: 0.9773\n",
      "Epoch 16/50\n",
      "113/113 [==============================] - 2s 21ms/step - loss: 0.0237 - accuracy: 0.9939 - val_loss: 0.1062 - val_accuracy: 0.9788\n",
      "Epoch 17/50\n",
      "113/113 [==============================] - 2s 21ms/step - loss: 0.0216 - accuracy: 0.9942 - val_loss: 0.1010 - val_accuracy: 0.9828\n",
      "Epoch 18/50\n",
      "113/113 [==============================] - 2s 21ms/step - loss: 0.0182 - accuracy: 0.9947 - val_loss: 0.1028 - val_accuracy: 0.9828\n",
      "Epoch 19/50\n",
      "113/113 [==============================] - 2s 20ms/step - loss: 0.0176 - accuracy: 0.9947 - val_loss: 0.1152 - val_accuracy: 0.9828\n",
      "Epoch 20/50\n",
      "113/113 [==============================] - 2s 20ms/step - loss: 0.0155 - accuracy: 0.9953 - val_loss: 0.1188 - val_accuracy: 0.9820\n",
      "Epoch 21/50\n",
      "113/113 [==============================] - 2s 21ms/step - loss: 0.0205 - accuracy: 0.9943 - val_loss: 0.1091 - val_accuracy: 0.9828\n",
      "Epoch 22/50\n",
      "113/113 [==============================] - 2s 21ms/step - loss: 0.0162 - accuracy: 0.9947 - val_loss: 0.1164 - val_accuracy: 0.9835\n",
      "Epoch 23/50\n",
      "113/113 [==============================] - 2s 21ms/step - loss: 0.0137 - accuracy: 0.9956 - val_loss: 0.1220 - val_accuracy: 0.9828\n",
      "Epoch 24/50\n",
      "113/113 [==============================] - 2s 21ms/step - loss: 0.0129 - accuracy: 0.9956 - val_loss: 0.1280 - val_accuracy: 0.9828\n",
      "Epoch 25/50\n",
      "113/113 [==============================] - 2s 20ms/step - loss: 0.0128 - accuracy: 0.9953 - val_loss: 0.1325 - val_accuracy: 0.9828\n",
      "Epoch 26/50\n",
      "113/113 [==============================] - 2s 20ms/step - loss: 0.0131 - accuracy: 0.9954 - val_loss: 0.1353 - val_accuracy: 0.9828\n",
      "Epoch 27/50\n",
      "113/113 [==============================] - 2s 20ms/step - loss: 0.0128 - accuracy: 0.9952 - val_loss: 0.1280 - val_accuracy: 0.9820\n",
      "Epoch 28/50\n",
      "113/113 [==============================] - 2s 20ms/step - loss: 0.0121 - accuracy: 0.9956 - val_loss: 0.1398 - val_accuracy: 0.9828\n",
      "Epoch 29/50\n",
      "113/113 [==============================] - 2s 20ms/step - loss: 0.0128 - accuracy: 0.9954 - val_loss: 0.1433 - val_accuracy: 0.9820\n",
      "Epoch 30/50\n",
      "113/113 [==============================] - 2s 20ms/step - loss: 0.0161 - accuracy: 0.9954 - val_loss: 0.1443 - val_accuracy: 0.9820\n",
      "Epoch 31/50\n",
      "113/113 [==============================] - 2s 20ms/step - loss: 0.0131 - accuracy: 0.9952 - val_loss: 0.1460 - val_accuracy: 0.9828\n"
     ]
    }
   ],
   "source": [
    "history = model.fit(train_dataset, epochs=50,\n",
    "                    validation_data=test_dataset,\n",
    "                    callbacks=[early_stopping])"
   ]
  },
  {
   "cell_type": "code",
   "execution_count": 25,
   "metadata": {},
   "outputs": [
    {
     "data": {
      "image/png": "[encoded data removed]",
      "text/plain": [
       "<Figure size 800x400 with 2 Axes>"
      ]
     },
     "metadata": {},
     "output_type": "display_data"
    }
   ],
   "source": [
    "plt.figure(figsize=(8, 4))\n",
    "plt.subplot(1, 2, 1)\n",
    "plt.plot(history.history['accuracy'], label='Training Accuracy')\n",
    "plt.plot(history.history['val_accuracy'], label='Validation Accuracy')\n",
    "plt.legend(loc='lower right')\n",
    "plt.ylabel('Accuracy')\n",
    "plt.ylim([min(plt.ylim()),1])\n",
    "plt.title('Training and Validation Accuracy')\n",
    "\n",
    "plt.subplot(1, 2, 2)\n",
    "plt.plot(history.history['loss'], label='Training Loss')\n",
    "plt.plot(history.history['val_loss'], label='Validation Loss')\n",
    "plt.legend(loc='upper right')\n",
    "plt.ylabel('Cross Entropy')\n",
    "plt.ylim([0,1.0])\n",
    "plt.title('Training and Validation Loss')\n",
    "plt.xlabel('epoch')\n",
    "plt.show()"
   ]
  },
  {
   "cell_type": "code",
   "execution_count": 26,
   "metadata": {},
   "outputs": [
    {
     "name": "stdout",
     "output_type": "stream",
     "text": [
      "20/20 [==============================] - 0s 8ms/step - loss: 0.1398 - accuracy: 0.9828\n",
      "Loss:  0.13983359932899475\n",
      "Accuracy:  0.982758641242981\n"
     ]
    }
   ],
   "source": [
    "loss, accuracy = model.evaluate(test_dataset)\n",
    "print('Loss: ', loss)\n",
    "print('Accuracy: ', accuracy)"
   ]
  },
  {
   "cell_type": "code",
   "execution_count": 27,
   "metadata": {},
   "outputs": [
    {
     "name": "stdout",
     "output_type": "stream",
     "text": [
      "20/20 [==============================] - 3s 12ms/step\n"
     ]
    }
   ],
   "source": [
    "# classfication report\n",
    "y_pred = model.predict(test_dataset)"
   ]
  },
  {
   "cell_type": "code",
   "execution_count": 32,
   "metadata": {},
   "outputs": [
    {
     "name": "stdout",
     "output_type": "stream",
     "text": [
      "1/1 [==============================] - 0s 50ms/step\n",
      "Ai là người đầu tiên đặt chân lên mặt trăng -> wiki 0.9999999\n",
      "Thời đại Hồng Bàng còn có tên gọi khác là gì -> wiki 0.99999964\n",
      "Thành phố nào là thủ phủ của Ai Cập trong đế quốc La Mã -> wiki 1.0\n",
      "Vật lý nghiên cứu vấn đề gì -> wiki 0.9999553\n",
      "Có bao nhiêu tỉnh thành ở Việt Nam -> number 0.9999876\n",
      "Quốc kỳ Việt Nam có bao nhiêu màu -> number 0.99996245\n",
      "Hà Nội có bao nhiêu đơn vị hành chính -> number 0.99998116\n",
      "Đinh Đức Thiện mất ngày nào -> text 0.99963176\n",
      "Ngày quốc thế phụ nữ có từ khi nào -> text 0.996689\n",
      "Google thành lập khi nào -> text 0.9982864\n",
      "Google phát hành cổ phiếu lần đầu vào năm bao nhiêu -> number 0.9940398\n",
      "Pháp tấn công xâm lược Việt Nam khi nào -> text 0.9998318\n",
      "năm nào -> text 0.7395279\n",
      "ngày nào -> text 0.7543165\n",
      "tháng nào -> text 0.7140073\n",
      "Ai là người tìm ra châu phi -> wiki 0.9999989\n",
      "Có bao nhiêu nước không có vua -> number 0.99992347\n",
      "Songoku là nhân vật ở phim nào -> wiki 0.99192554\n",
      "Anya sinh năm mấy -> text 0.86550397\n",
      "Anya tóc màu gì -> wiki 0.931722\n",
      "Anya có mấy thú cưng -> number 0.48219335\n",
      "Anya có mấy skill -> number 0.39814278\n",
      "Tây Du Ký phiên bản Trương Kỷ Trung khởi quay năm nào -> text 0.9999794\n"
     ]
    }
   ],
   "source": [
    "sample_text = [\n",
    "    'Ai là người đầu tiên đặt chân lên mặt trăng',\n",
    "    'Thời đại Hồng Bàng còn có tên gọi khác là gì',\n",
    "    'Thành phố nào là thủ phủ của Ai Cập trong đế quốc La Mã',\n",
    "    'Vật lý nghiên cứu vấn đề gì',\n",
    "    'Có bao nhiêu tỉnh thành ở Việt Nam',\n",
    "    'Quốc kỳ Việt Nam có bao nhiêu màu',\n",
    "    'Hà Nội có bao nhiêu đơn vị hành chính',\n",
    "    'Đinh Đức Thiện mất ngày nào',\n",
    "    'Ngày quốc thế phụ nữ có từ khi nào',\n",
    "    'Google thành lập khi nào',\n",
    "    'Google phát hành cổ phiếu lần đầu vào năm bao nhiêu',\n",
    "    'Pháp tấn công xâm lược Việt Nam khi nào',\n",
    "    'năm nào',\n",
    "    'ngày nào',\n",
    "    'tháng nào',\n",
    "    'Ai là người tìm ra châu phi',\n",
    "    'Có bao nhiêu nước không có vua',\n",
    "    'Songoku là nhân vật ở phim nào',\n",
    "    'Anya sinh năm mấy',\n",
    "    'Anya tóc màu gì',\n",
    "    'Anya có mấy thú cưng',\n",
    "    'Anya có mấy skill',\n",
    "    'Tây Du Ký phiên bản Trương Kỷ Trung khởi quay năm nào'\n",
    "]\n",
    "\n",
    "predictions = model.predict(np.array(sample_text))\n",
    "for i, pred in enumerate(predictions):\n",
    "    print(sample_text[i], '->', label_list[np.argmax(pred)],max(pred))\n"
   ]
  },
  {
   "cell_type": "code",
   "execution_count": 29,
   "metadata": {},
   "outputs": [
    {
     "name": "stdout",
     "output_type": "stream",
     "text": [
      "20/20 [==============================] - 0s 14ms/step\n",
      "              precision    recall  f1-score   support\n",
      "\n",
      "        wiki       1.00      0.99      0.99       691\n",
      "      number       0.97      0.97      0.97       302\n",
      "        text       0.96      0.97      0.96       283\n",
      "\n",
      "    accuracy                           0.98      1276\n",
      "   macro avg       0.98      0.98      0.98      1276\n",
      "weighted avg       0.98      0.98      0.98      1276\n",
      "\n"
     ]
    }
   ],
   "source": [
    "# classficaiton report\n",
    "from sklearn.metrics import classification_report\n",
    "y_pred = model.predict(test_dataset)\n",
    "y_pred = np.argmax(y_pred, axis=1)\n",
    "test_label = np.concatenate([y for x, y in test_dataset], axis=0)\n",
    "print(classification_report(test_label, y_pred, target_names=label_list))"
   ]
  },
  {
   "cell_type": "code",
   "execution_count": 30,
   "metadata": {},
   "outputs": [
    {
     "name": "stderr",
     "output_type": "stream",
     "text": [
      "WARNING:absl:Found untraced functions such as lstm_cell_1_layer_call_fn, lstm_cell_1_layer_call_and_return_conditional_losses, lstm_cell_2_layer_call_fn, lstm_cell_2_layer_call_and_return_conditional_losses, lstm_cell_4_layer_call_fn while saving (showing 5 of 8). These functions will not be directly callable after loading.\n"
     ]
    },
    {
     "name": "stdout",
     "output_type": "stream",
     "text": [
      "INFO:tensorflow:Assets written to: model_1\\assets\n"
     ]
    },
    {
     "name": "stderr",
     "output_type": "stream",
     "text": [
      "INFO:tensorflow:Assets written to: model_1\\assets\n"
     ]
    }
   ],
   "source": [
    "model.save('model_1')"
   ]
  }
 ],
 "metadata": {
  "kernelspec": {
   "display_name": "Python 3.10.8 64-bit",
   "language": "python",
   "name": "python3"
  },
  "language_info": {
   "codemirror_mode": {
    "name": "ipython",
    "version": 3
   },
   "file_extension": ".py",
   "mimetype": "text/x-python",
   "name": "python",
   "nbconvert_exporter": "python",
   "pygments_lexer": "ipython3",
   "version": "3.10.8"
  },
  "orig_nbformat": 4,
  "vscode": {
   "interpreter": {
    "hash": "369f2c481f4da34e4445cda3fffd2e751bd1c4d706f27375911949ba6bb62e1c"
   }
  }
 },
 "nbformat": 4,
 "nbformat_minor": 2
}
