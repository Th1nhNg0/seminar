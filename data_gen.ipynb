{
 "cells": [
  {
   "cell_type": "code",
   "execution_count": 1,
   "metadata": {},
   "outputs": [],
   "source": [
    "import pandas as pd\n",
    "import pickle\n",
    "import json"
   ]
  },
  {
   "cell_type": "code",
   "execution_count": 2,
   "metadata": {},
   "outputs": [
    {
     "name": "stdout",
     "output_type": "stream",
     "text": [
      "INFO: Pandarallel will run on 6 workers.\n",
      "INFO: Pandarallel will use standard multiprocessing data transfer (pipe) to transfer data between the main process and workers.\n",
      "\n",
      "WARNING: You are on Windows. If you detect any issue with pandarallel, be sure you checked out the Troubleshooting page:\n",
      "https://nalepae.github.io/pandarallel/troubleshooting/\n"
     ]
    }
   ],
   "source": [
    "from pandarallel import pandarallel\n",
    "pandarallel.initialize(progress_bar=True)"
   ]
  },
  {
   "cell_type": "code",
   "execution_count": 16,
   "metadata": {},
   "outputs": [],
   "source": [
    "def normalize_text(text):\n",
    "    from bs4 import BeautifulSoup\n",
    "    import re\n",
    "    def strip_html_tags(text):\n",
    "        soup = BeautifulSoup(text, \"html.parser\")\n",
    "        stripped_text = soup.get_text(separator=\" \")\n",
    "        return stripped_text\n",
    "    text = strip_html_tags(text)\n",
    "    # remove 'BULLET::::-'\n",
    "    text = re.sub(r'BULLET::::-', ' ', text)\n",
    "    # remove = if more than 1\n",
    "    text = re.sub(r'={2,}', ' ', text)\n",
    "    # emove duplicate spaces\n",
    "    text = re.sub(r'  +', ' ', text)\n",
    "    # remove duplicate newline characters if more than 2\n",
    "    text = re.sub(r'\\n+', '. ', text)\n",
    "\n",
    "    # tokenize_text = tokenize(text)\n",
    "    return text"
   ]
  },
  {
   "cell_type": "code",
   "execution_count": 17,
   "metadata": {},
   "outputs": [],
   "source": [
    "df = pd.read_json('C:/Users/ngoph/Desktop/zalo_ai/wikipedia_20220620_cleaned/wikipedia_20220620_cleaned.jsonl', lines=True)"
   ]
  },
  {
   "cell_type": "code",
   "execution_count": null,
   "metadata": {},
   "outputs": [],
   "source": [
    "# df = df.sample(frac=1).reset_index(drop=True)"
   ]
  },
  {
   "cell_type": "code",
   "execution_count": 18,
   "metadata": {},
   "outputs": [
    {
     "data": {
      "application/vnd.jupyter.widget-view+json": {
       "model_id": "2f9118464be542f4b7f9b16e567f56ec",
       "version_major": 2,
       "version_minor": 0
      },
      "text/plain": [
       "VBox(children=(HBox(children=(IntProgress(value=0, description='0.00%', max=212245), Label(value='0 / 212245')…"
      ]
     },
     "metadata": {},
     "output_type": "display_data"
    }
   ],
   "source": [
    "df['text'] = df['text'].parallel_apply(normalize_text)"
   ]
  },
  {
   "cell_type": "code",
   "execution_count": 19,
   "metadata": {},
   "outputs": [
    {
     "data": {
      "text/html": [
       "<div>\n",
       "<style scoped>\n",
       "    .dataframe tbody tr th:only-of-type {\n",
       "        vertical-align: middle;\n",
       "    }\n",
       "\n",
       "    .dataframe tbody tr th {\n",
       "        vertical-align: top;\n",
       "    }\n",
       "\n",
       "    .dataframe thead th {\n",
       "        text-align: right;\n",
       "    }\n",
       "</style>\n",
       "<table border=\"1\" class=\"dataframe\">\n",
       "  <thead>\n",
       "    <tr style=\"text-align: right;\">\n",
       "      <th></th>\n",
       "      <th>id</th>\n",
       "      <th>url</th>\n",
       "      <th>title</th>\n",
       "      <th>text</th>\n",
       "      <th>timestamp</th>\n",
       "      <th>revid</th>\n",
       "    </tr>\n",
       "  </thead>\n",
       "  <tbody>\n",
       "    <tr>\n",
       "      <th>0</th>\n",
       "      <td>2</td>\n",
       "      <td>https://vi.wikipedia.org/wiki?curid=2</td>\n",
       "      <td>Trang Chính</td>\n",
       "      <td>Trang Chính.  __NOEDITSECTION__.</td>\n",
       "      <td>2022-05-12 12:46:53+00:00</td>\n",
       "      <td>68591979</td>\n",
       "    </tr>\n",
       "    <tr>\n",
       "      <th>1</th>\n",
       "      <td>4</td>\n",
       "      <td>https://vi.wikipedia.org/wiki?curid=4</td>\n",
       "      <td>Internet Society</td>\n",
       "      <td>Internet Society. Internet Society hay ISOC là...</td>\n",
       "      <td>2022-01-20 07:59:10+00:00</td>\n",
       "      <td>67988747</td>\n",
       "    </tr>\n",
       "    <tr>\n",
       "      <th>2</th>\n",
       "      <td>13</td>\n",
       "      <td>https://vi.wikipedia.org/wiki?curid=13</td>\n",
       "      <td>Tiếng Việt</td>\n",
       "      <td>Tiếng Việt. Tiếng Việt, cũng gọi là tiếng Việt...</td>\n",
       "      <td>2022-05-29 03:42:42+00:00</td>\n",
       "      <td>68660631</td>\n",
       "    </tr>\n",
       "    <tr>\n",
       "      <th>3</th>\n",
       "      <td>24</td>\n",
       "      <td>https://vi.wikipedia.org/wiki?curid=24</td>\n",
       "      <td>Ohio</td>\n",
       "      <td>Ohio. Ohio (viết tắt là OH, viết tắt cũ là O.)...</td>\n",
       "      <td>2022-04-17 08:15:22+00:00</td>\n",
       "      <td>68482118</td>\n",
       "    </tr>\n",
       "    <tr>\n",
       "      <th>4</th>\n",
       "      <td>26</td>\n",
       "      <td>https://vi.wikipedia.org/wiki?curid=26</td>\n",
       "      <td>California</td>\n",
       "      <td>California. California (phát âm như \"Ca-li-phó...</td>\n",
       "      <td>2022-06-16 15:27:07+00:00</td>\n",
       "      <td>68738039</td>\n",
       "    </tr>\n",
       "  </tbody>\n",
       "</table>\n",
       "</div>"
      ],
      "text/plain": [
       "   id                                     url             title  \\\n",
       "0   2   https://vi.wikipedia.org/wiki?curid=2       Trang Chính   \n",
       "1   4   https://vi.wikipedia.org/wiki?curid=4  Internet Society   \n",
       "2  13  https://vi.wikipedia.org/wiki?curid=13        Tiếng Việt   \n",
       "3  24  https://vi.wikipedia.org/wiki?curid=24              Ohio   \n",
       "4  26  https://vi.wikipedia.org/wiki?curid=26        California   \n",
       "\n",
       "                                                text  \\\n",
       "0                  Trang Chính.  __NOEDITSECTION__.    \n",
       "1  Internet Society. Internet Society hay ISOC là...   \n",
       "2  Tiếng Việt. Tiếng Việt, cũng gọi là tiếng Việt...   \n",
       "3  Ohio. Ohio (viết tắt là OH, viết tắt cũ là O.)...   \n",
       "4  California. California (phát âm như \"Ca-li-phó...   \n",
       "\n",
       "                  timestamp     revid  \n",
       "0 2022-05-12 12:46:53+00:00  68591979  \n",
       "1 2022-01-20 07:59:10+00:00  67988747  \n",
       "2 2022-05-29 03:42:42+00:00  68660631  \n",
       "3 2022-04-17 08:15:22+00:00  68482118  \n",
       "4 2022-06-16 15:27:07+00:00  68738039  "
      ]
     },
     "execution_count": 19,
     "metadata": {},
     "output_type": "execute_result"
    }
   ],
   "source": [
    "df.head(5)"
   ]
  },
  {
   "cell_type": "code",
   "execution_count": 20,
   "metadata": {},
   "outputs": [],
   "source": [
    "df.to_json('data_gen/wikipedia_20220620_cleaned_parsed.jsonl', orient='records', lines=True)"
   ]
  },
  {
   "cell_type": "markdown",
   "metadata": {},
   "source": [
    "# Title matching"
   ]
  },
  {
   "cell_type": "code",
   "execution_count": 3,
   "metadata": {},
   "outputs": [],
   "source": [
    "import transformers\n",
    "from sentence_transformers import SentenceTransformer, util\n",
    "import torch\n",
    "transformers.logging.set_verbosity_error()"
   ]
  },
  {
   "cell_type": "code",
   "execution_count": null,
   "metadata": {},
   "outputs": [],
   "source": [
    "model = SentenceTransformer('VoVanPhuc/sup-SimCSE-VietNamese-phobert-base',device='cuda')"
   ]
  },
  {
   "cell_type": "code",
   "execution_count": 4,
   "metadata": {},
   "outputs": [],
   "source": [
    "df = pd.read_json('data_gen/wikipedia_20220620_cleaned_parsed.jsonl', orient='records', lines=True)"
   ]
  },
  {
   "cell_type": "code",
   "execution_count": null,
   "metadata": {},
   "outputs": [],
   "source": [
    "titles = df['title'].tolist()\n",
    "titles[:5]"
   ]
  },
  {
   "cell_type": "code",
   "execution_count": null,
   "metadata": {},
   "outputs": [],
   "source": [
    "# pickle.dump(titles, open('data_gen/titles.pkl', 'wb'))"
   ]
  },
  {
   "cell_type": "code",
   "execution_count": null,
   "metadata": {},
   "outputs": [],
   "source": [
    "title_embeddings = model.encode(titles,convert_to_tensor=True,show_progress_bar=True,device='cuda')"
   ]
  },
  {
   "cell_type": "code",
   "execution_count": null,
   "metadata": {},
   "outputs": [],
   "source": [
    "# pickle.dump(title_embeddings, open('data_gen/title_embeddings.pkl', 'wb'))"
   ]
  },
  {
   "cell_type": "code",
   "execution_count": null,
   "metadata": {},
   "outputs": [],
   "source": [
    "# title_embeddings = pickle.load(open('data_gen/title_embeddings.pkl', 'rb'))"
   ]
  },
  {
   "cell_type": "code",
   "execution_count": null,
   "metadata": {},
   "outputs": [],
   "source": [
    "q_raw = '''huyện Tuy An'''\n",
    "query_embedding = model.encode(q_raw,convert_to_tensor=True,)\n",
    "print(q_raw)\n",
    "hits = util.semantic_search(query_embedding, title_embeddings, top_k=20)[0]\n",
    "\n",
    "answers =[]\n",
    "for hit in hits:\n",
    "    corpus_id = hit['corpus_id']\n",
    "    doc_score = hit['score']\n",
    "    title = titles[corpus_id]\n",
    "    print(f'{title} - {doc_score}')"
   ]
  },
  {
   "cell_type": "markdown",
   "metadata": {},
   "source": [
    "# Document Retriever"
   ]
  },
  {
   "cell_type": "code",
   "execution_count": 6,
   "metadata": {},
   "outputs": [],
   "source": [
    "sentences = df['text'].tolist()"
   ]
  },
  {
   "cell_type": "code",
   "execution_count": 7,
   "metadata": {},
   "outputs": [
    {
     "data": {
      "text/plain": [
       "1273469"
      ]
     },
     "execution_count": 7,
     "metadata": {},
     "output_type": "execute_result"
    }
   ],
   "source": [
    "len(sentences)"
   ]
  },
  {
   "cell_type": "code",
   "execution_count": 25,
   "metadata": {},
   "outputs": [],
   "source": [
    "# pickle.dump(sentences,open('data_gen/sentences.pkl','wb'))"
   ]
  },
  {
   "cell_type": "code",
   "execution_count": null,
   "metadata": {},
   "outputs": [],
   "source": [
    "# sentences = pickle.load(open('data_gen/sentences.pkl','rb'))"
   ]
  },
  {
   "cell_type": "code",
   "execution_count": 8,
   "metadata": {},
   "outputs": [
    {
     "data": {
      "application/vnd.jupyter.widget-view+json": {
       "model_id": "44f0c4b27f314e63a5510331f71e0061",
       "version_major": 2,
       "version_minor": 0
      },
      "text/plain": [
       "Batches:   0%|          | 0/39796 [00:00<?, ?it/s]"
      ]
     },
     "metadata": {},
     "output_type": "display_data"
    }
   ],
   "source": [
    "corpus_embeddings = model.encode(sentences,convert_to_tensor=True,show_progress_bar=True,device='cuda')"
   ]
  },
  {
   "cell_type": "code",
   "execution_count": 9,
   "metadata": {},
   "outputs": [],
   "source": [
    "# save sentences\n",
    "pickle.dump(corpus_embeddings,open('data_gen/corpus_embeddings.pkl','wb'))"
   ]
  },
  {
   "cell_type": "code",
   "execution_count": null,
   "metadata": {},
   "outputs": [],
   "source": [
    "# corpus_embeddings = pickle.load(open('data_gen/corpus_embeddings.pkl','rb'))"
   ]
  },
  {
   "cell_type": "code",
   "execution_count": 10,
   "metadata": {},
   "outputs": [
    {
     "data": {
      "text/plain": [
       "torch.Size([1273469, 384])"
      ]
     },
     "execution_count": 10,
     "metadata": {},
     "output_type": "execute_result"
    }
   ],
   "source": [
    "corpus_embeddings.shape"
   ]
  },
  {
   "cell_type": "code",
   "execution_count": 11,
   "metadata": {},
   "outputs": [],
   "source": [
    "with open('data/zac2022_train_merged_final.json',encoding='utf-8') as f:\n",
    "    data=json.load(f)\n",
    "    ddf = pd.json_normalize(data,'data')"
   ]
  },
  {
   "cell_type": "code",
   "execution_count": 12,
   "metadata": {},
   "outputs": [],
   "source": [
    "ddf=ddf[ddf['title']!='']\n",
    "ddf=ddf[ddf['category']=='FULL_ANNOTATION']"
   ]
  },
  {
   "cell_type": "code",
   "execution_count": 16,
   "metadata": {},
   "outputs": [
    {
     "name": "stdout",
     "output_type": "stream",
     "text": [
      "Hiện nay ai là tổng bí thư nước Việt Nam\n",
      "Hoàng Quốc Việt - 0.8278920650482178\n",
      "Trần Vỹ (Việt Nam) - 0.8139057755470276\n",
      "Nguyễn Quốc Cường - 0.8063709735870361\n",
      "Nguyễn Lương Bằng - 0.800048828125\n",
      "Nguyễn Quốc Dũng (nhà ngoại giao) - 0.7996822595596313\n",
      "Khi đồng minh tháo chạy - 0.7978119850158691\n",
      "Lê Đức Thọ (định hướng) - 0.7977200150489807\n",
      "Võ Trọng Việt - 0.7966132164001465\n",
      "Đệ Nhất Cộng hòa (Việt Nam Cộng hòa) - 0.7951737642288208\n",
      "Nguyễn Quốc Cường (Nam Định) - 0.7941082715988159\n",
      "Trần Quốc Hương - 0.7938316464424133\n",
      "Nguyễn Đình Bin - 0.7923785448074341\n",
      "Đinh Đồng Phụng Việt - 0.7912381291389465\n",
      "Danh sách báo viết tại Việt Nam - 0.7910690307617188\n",
      "Đỗ Văn Chiến - 0.7906888723373413\n",
      "Nghiêm Kế Tổ - 0.7892177700996399\n",
      "Vũ Ngọc Nhạ - 0.7890058159828186\n",
      "Nguyễn Tân Cương - 0.7874261736869812\n",
      "Nguyễn Văn Vịnh (định hướng) - 0.7862651944160461\n",
      "Trần Minh Thư - 0.78569096326828\n",
      "Nguyễn Bắc Son - 0.7851567268371582\n",
      "Nguyễn Chánh (Bình Định) - 0.7848030924797058\n",
      "Lương Cường - 0.7845540046691895\n",
      "Nguyễn Văn Được - 0.7834023833274841\n",
      "Phan Thái Ất - 0.7833027839660645\n",
      "Nguyễn Hữu Thọ - 0.7827907204627991\n",
      "Nguyễn Hải Hưng - 0.7823434472084045\n",
      "Lê Lương Minh - 0.782163143157959\n",
      "Đinh Văn Đệ - 0.7819621562957764\n",
      "Trần Quang Minh - 0.7818406820297241\n",
      "Nguyễn Chí Vịnh - 0.7815579771995544\n",
      "Chủ tịch nước Việt Nam (định hướng) - 0.7815549373626709\n"
     ]
    }
   ],
   "source": [
    "example = ddf.sample(1).iloc[0]\n",
    "q_raw = 'Hiện nay ai là tổng bí thư nước Việt Nam'\n",
    "query_embedding = model.encode(q_raw,convert_to_tensor=True,)\n",
    "hits = util.semantic_search(query_embedding, corpus_embeddings, top_k=32)[0]\n",
    "print(q_raw)\n",
    "for hit in hits:\n",
    "    corpus_id = hit['corpus_id']\n",
    "    doc_score = hit['score']\n",
    "    title = df.iloc[corpus_id]['title']\n",
    "    print(f'{title} - {doc_score}')"
   ]
  }
 ],
 "metadata": {
  "kernelspec": {
   "display_name": "Python 3.10.6 ('rs')",
   "language": "python",
   "name": "python3"
  },
  "language_info": {
   "codemirror_mode": {
    "name": "ipython",
    "version": 3
   },
   "file_extension": ".py",
   "mimetype": "text/x-python",
   "name": "python",
   "nbconvert_exporter": "python",
   "pygments_lexer": "ipython3",
   "version": "3.10.6"
  },
  "vscode": {
   "interpreter": {
    "hash": "ba141c8d811672bca916348b96b465f0d8c36918c76b97082af4ef2ad5ae2a45"
   }
  }
 },
 "nbformat": 4,
 "nbformat_minor": 2
}
