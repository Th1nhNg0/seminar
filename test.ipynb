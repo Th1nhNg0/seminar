{
 "cells": [
  {
   "cell_type": "code",
   "execution_count": 2,
   "metadata": {},
   "outputs": [],
   "source": [
    "import pandas as pd\n",
    "from tqdm import tqdm\n",
    "import pickle"
   ]
  },
  {
   "cell_type": "code",
   "execution_count": 56,
   "metadata": {},
   "outputs": [],
   "source": [
    "df = pd.read_csv('data/zac2022_train_merged_final_preprocessing.json',keep_default_na=False)"
   ]
  },
  {
   "cell_type": "code",
   "execution_count": null,
   "metadata": {
    "scrolled": true
   },
   "outputs": [],
   "source": [
    "df.head(5)"
   ]
  },
  {
   "cell_type": "code",
   "execution_count": 60,
   "metadata": {},
   "outputs": [
    {
     "name": "stdout",
     "output_type": "stream",
     "text": [
      "INFO: Pandarallel will run on 6 workers.\n",
      "INFO: Pandarallel will use standard multiprocessing data transfer (pipe) to transfer data between the main process and workers.\n",
      "\n",
      "WARNING: You are on Windows. If you detect any issue with pandarallel, be sure you checked out the Troubleshooting page:\n",
      "https://nalepae.github.io/pandarallel/troubleshooting/\n"
     ]
    }
   ],
   "source": [
    "from pandarallel import pandarallel\n",
    "\n",
    "pandarallel.initialize(progress_bar=True)"
   ]
  },
  {
   "cell_type": "code",
   "execution_count": null,
   "metadata": {},
   "outputs": [],
   "source": [
    "def new_sentences(row):\n",
    "    from pyvi.ViTokenizer import tokenize\n",
    "    title=row['title']\n",
    "    text=row['text']\n",
    "    return [tokenize(title),tokenize(text)]"
   ]
  },
  {
   "cell_type": "code",
   "execution_count": null,
   "metadata": {},
   "outputs": [],
   "source": [
    "# shuffle df\n",
    "df = df.sample(frac=1).reset_index(drop=True)\n",
    "len(df)"
   ]
  },
  {
   "cell_type": "code",
   "execution_count": null,
   "metadata": {},
   "outputs": [],
   "source": [
    "dff = df.parallel_apply(new_sentences,axis=1)"
   ]
  },
  {
   "cell_type": "code",
   "execution_count": null,
   "metadata": {},
   "outputs": [],
   "source": [
    "sentences = dff.values.tolist()\n",
    "len(sentences)"
   ]
  },
  {
   "cell_type": "code",
   "execution_count": null,
   "metadata": {},
   "outputs": [],
   "source": [
    "# pickle.dump(sentences,open('data_gen/sentences.pkl','wb'))"
   ]
  },
  {
   "cell_type": "code",
   "execution_count": 3,
   "metadata": {},
   "outputs": [],
   "source": [
    "sentences = pickle.load(open('data_gen/sentences.pkl','rb'))"
   ]
  },
  {
   "cell_type": "code",
   "execution_count": null,
   "metadata": {},
   "outputs": [],
   "source": [
    "# sentences = []\n",
    "# for i in tqdm(range(len(df))):\n",
    "#     title = tokenize(df.iloc[i]['title'])\n",
    "#     text = tokenize(df.iloc[i]['text'])\n",
    "#     sentences.append( [title,text])"
   ]
  },
  {
   "cell_type": "code",
   "execution_count": 6,
   "metadata": {},
   "outputs": [],
   "source": [
    "from sentence_transformers import SentenceTransformer, util\n",
    "import torch"
   ]
  },
  {
   "cell_type": "code",
   "execution_count": 7,
   "metadata": {},
   "outputs": [
    {
     "name": "stdout",
     "output_type": "stream",
     "text": [
      "True\n"
     ]
    }
   ],
   "source": [
    "print(torch.cuda.is_available())"
   ]
  },
  {
   "cell_type": "code",
   "execution_count": 8,
   "metadata": {},
   "outputs": [
    {
     "name": "stderr",
     "output_type": "stream",
     "text": [
      "No sentence-transformers model found with name C:\\Users\\ngoph/.cache\\torch\\sentence_transformers\\VoVanPhuc_sup-SimCSE-VietNamese-phobert-base. Creating a new one with MEAN pooling.\n",
      "Some weights of the model checkpoint at C:\\Users\\ngoph/.cache\\torch\\sentence_transformers\\VoVanPhuc_sup-SimCSE-VietNamese-phobert-base were not used when initializing RobertaModel: ['mlp.dense.weight', 'mlp.dense.bias']\n",
      "- This IS expected if you are initializing RobertaModel from the checkpoint of a model trained on another task or with another architecture (e.g. initializing a BertForSequenceClassification model from a BertForPreTraining model).\n",
      "- This IS NOT expected if you are initializing RobertaModel from the checkpoint of a model that you expect to be exactly identical (initializing a BertForSequenceClassification model from a BertForSequenceClassification model).\n"
     ]
    }
   ],
   "source": [
    "model = SentenceTransformer('VoVanPhuc/sup-SimCSE-VietNamese-phobert-base',device='cuda')"
   ]
  },
  {
   "cell_type": "code",
   "execution_count": null,
   "metadata": {},
   "outputs": [],
   "source": [
    "model.device"
   ]
  },
  {
   "cell_type": "code",
   "execution_count": 5,
   "metadata": {},
   "outputs": [],
   "source": [
    "import transformers\n",
    "transformers.logging.set_verbosity_error()"
   ]
  },
  {
   "cell_type": "code",
   "execution_count": null,
   "metadata": {},
   "outputs": [],
   "source": [
    "corpus_embeddings = model.encode(sentences,convert_to_tensor=True,show_progress_bar=True,device='cuda')"
   ]
  },
  {
   "cell_type": "code",
   "execution_count": null,
   "metadata": {},
   "outputs": [],
   "source": [
    "# save corpus_embeddings\n",
    "# pickle.dump(corpus_embeddings,open('data_gen/corpus_embeddings.pkl','wb'))"
   ]
  },
  {
   "cell_type": "code",
   "execution_count": 9,
   "metadata": {},
   "outputs": [],
   "source": [
    "corpus_embeddings = pickle.load(open('data_gen/corpus_embeddings.pkl','rb'))"
   ]
  },
  {
   "cell_type": "code",
   "execution_count": 7,
   "metadata": {},
   "outputs": [
    {
     "data": {
      "text/plain": [
       "torch.Size([1273469, 768])"
      ]
     },
     "execution_count": 7,
     "metadata": {},
     "output_type": "execute_result"
    }
   ],
   "source": [
    "corpus_embeddings.shape"
   ]
  },
  {
   "cell_type": "code",
   "execution_count": 10,
   "metadata": {},
   "outputs": [],
   "source": [
    "from pyvi.ViTokenizer import tokenize"
   ]
  },
  {
   "cell_type": "code",
   "execution_count": 12,
   "metadata": {},
   "outputs": [],
   "source": [
    "from transformers import pipeline\n",
    "qa = pipeline('question-answering', model='model_2\\checkpoint-28391',device=0,)"
   ]
  },
  {
   "cell_type": "code",
   "execution_count": 61,
   "metadata": {},
   "outputs": [
    {
     "data": {
      "application/vnd.jupyter.widget-view+json": {
       "model_id": "4fa1ab2930c14cddbc74e0c1502658d3",
       "version_major": 2,
       "version_minor": 0
      },
      "text/plain": [
       "VBox(children=(HBox(children=(IntProgress(value=0, description='0.00%', max=212245), Label(value='0 / 212245')…"
      ]
     },
     "metadata": {},
     "output_type": "display_data"
    }
   ],
   "source": [
    "df['title_tokenize'] = df['title'].parallel_apply(tokenize)"
   ]
  },
  {
   "cell_type": "code",
   "execution_count": 62,
   "metadata": {},
   "outputs": [
    {
     "data": {
      "text/html": [
       "<div>\n",
       "<style scoped>\n",
       "    .dataframe tbody tr th:only-of-type {\n",
       "        vertical-align: middle;\n",
       "    }\n",
       "\n",
       "    .dataframe tbody tr th {\n",
       "        vertical-align: top;\n",
       "    }\n",
       "\n",
       "    .dataframe thead th {\n",
       "        text-align: right;\n",
       "    }\n",
       "</style>\n",
       "<table border=\"1\" class=\"dataframe\">\n",
       "  <thead>\n",
       "    <tr style=\"text-align: right;\">\n",
       "      <th></th>\n",
       "      <th>Unnamed: 0</th>\n",
       "      <th>id</th>\n",
       "      <th>url</th>\n",
       "      <th>title</th>\n",
       "      <th>text</th>\n",
       "      <th>timestamp</th>\n",
       "      <th>revid</th>\n",
       "      <th>title_tokenize</th>\n",
       "    </tr>\n",
       "  </thead>\n",
       "  <tbody>\n",
       "    <tr>\n",
       "      <th>0</th>\n",
       "      <td>0</td>\n",
       "      <td>2</td>\n",
       "      <td>https://vi.wikipedia.org/wiki?curid=2</td>\n",
       "      <td>Trang Chính</td>\n",
       "      <td>Trang Chính __NOEDITSECTION__</td>\n",
       "      <td>2022-05-12T12:46:53Z</td>\n",
       "      <td>68591979</td>\n",
       "      <td>Trang_Chính</td>\n",
       "    </tr>\n",
       "    <tr>\n",
       "      <th>1</th>\n",
       "      <td>1</td>\n",
       "      <td>4</td>\n",
       "      <td>https://vi.wikipedia.org/wiki?curid=4</td>\n",
       "      <td>Internet Society</td>\n",
       "      <td>Internet Society Internet Society hay ISOC là ...</td>\n",
       "      <td>2022-01-20T07:59:10Z</td>\n",
       "      <td>67988747</td>\n",
       "      <td>Internet_Society</td>\n",
       "    </tr>\n",
       "    <tr>\n",
       "      <th>2</th>\n",
       "      <td>2</td>\n",
       "      <td>13</td>\n",
       "      <td>https://vi.wikipedia.org/wiki?curid=13</td>\n",
       "      <td>Tiếng Việt</td>\n",
       "      <td>Tiếng Việt Tiếng Việt, cũng gọi là tiếng Việt ...</td>\n",
       "      <td>2022-05-29T03:42:42Z</td>\n",
       "      <td>68660631</td>\n",
       "      <td>Tiếng Việt</td>\n",
       "    </tr>\n",
       "    <tr>\n",
       "      <th>3</th>\n",
       "      <td>3</td>\n",
       "      <td>24</td>\n",
       "      <td>https://vi.wikipedia.org/wiki?curid=24</td>\n",
       "      <td>Ohio</td>\n",
       "      <td>Ohio Ohio (viết tắt là OH, viết tắt cũ là O.) ...</td>\n",
       "      <td>2022-04-17T08:15:22Z</td>\n",
       "      <td>68482118</td>\n",
       "      <td>Ohio</td>\n",
       "    </tr>\n",
       "    <tr>\n",
       "      <th>4</th>\n",
       "      <td>4</td>\n",
       "      <td>26</td>\n",
       "      <td>https://vi.wikipedia.org/wiki?curid=26</td>\n",
       "      <td>California</td>\n",
       "      <td>California California (phát âm như \"Ca-li-phót...</td>\n",
       "      <td>2022-06-16T15:27:07Z</td>\n",
       "      <td>68738039</td>\n",
       "      <td>California</td>\n",
       "    </tr>\n",
       "  </tbody>\n",
       "</table>\n",
       "</div>"
      ],
      "text/plain": [
       "   Unnamed: 0  id                                     url             title  \\\n",
       "0           0   2   https://vi.wikipedia.org/wiki?curid=2       Trang Chính   \n",
       "1           1   4   https://vi.wikipedia.org/wiki?curid=4  Internet Society   \n",
       "2           2  13  https://vi.wikipedia.org/wiki?curid=13        Tiếng Việt   \n",
       "3           3  24  https://vi.wikipedia.org/wiki?curid=24              Ohio   \n",
       "4           4  26  https://vi.wikipedia.org/wiki?curid=26        California   \n",
       "\n",
       "                                                text             timestamp  \\\n",
       "0                     Trang Chính __NOEDITSECTION__   2022-05-12T12:46:53Z   \n",
       "1  Internet Society Internet Society hay ISOC là ...  2022-01-20T07:59:10Z   \n",
       "2  Tiếng Việt Tiếng Việt, cũng gọi là tiếng Việt ...  2022-05-29T03:42:42Z   \n",
       "3  Ohio Ohio (viết tắt là OH, viết tắt cũ là O.) ...  2022-04-17T08:15:22Z   \n",
       "4  California California (phát âm như \"Ca-li-phót...  2022-06-16T15:27:07Z   \n",
       "\n",
       "      revid    title_tokenize  \n",
       "0  68591979       Trang_Chính  \n",
       "1  67988747  Internet_Society  \n",
       "2  68660631        Tiếng Việt  \n",
       "3  68482118              Ohio  \n",
       "4  68738039        California  "
      ]
     },
     "execution_count": 62,
     "metadata": {},
     "output_type": "execute_result"
    }
   ],
   "source": [
    "df.head()"
   ]
  },
  {
   "cell_type": "code",
   "execution_count": 63,
   "metadata": {},
   "outputs": [],
   "source": [
    "def get_text(title):\n",
    "    return df[df['title_tokenize']==title]['text'].values[0]"
   ]
  },
  {
   "cell_type": "code",
   "execution_count": 83,
   "metadata": {},
   "outputs": [
    {
     "name": "stdout",
     "output_type": "stream",
     "text": [
      "Campuchia theo thể chế chính trị nào\n",
      "Campuchia theo thể_chế chính_trị nào\n",
      "Title:  Danh_sách chính_đảng Campuchia\n",
      "Answer:  Đảng phái chính trị\n",
      "Doc score:  0.7399005889892578\n",
      "Answer score:  5.7283246966416676e-21\n",
      "Calc score: 0.7399005889892578\n",
      "-----------------------\n",
      "Title:  Nhà_nước Campuchia\n",
      "Answer:  Khmer Đỏ\n",
      "Doc score:  0.7305138111114502\n",
      "Answer score:  1.1103767611050832e-15\n",
      "Calc score: 0.7305138111114524\n",
      "-----------------------\n",
      "Title:  Campuchia\n",
      "Answer:  đền Angkor Wat\n",
      "Doc score:  0.7113679647445679\n",
      "Answer score:  0.0019612330943346024\n",
      "Calc score: 0.7152904309332371\n",
      "-----------------------\n",
      "Title:  Đảng Trung_lập Khmer\n",
      "Answer:  do Bou Hel và Ty Chhin thành lập vào năm 1993\n",
      "Doc score:  0.7064779996871948\n",
      "Answer score:  1.1868192952609599e-21\n",
      "Calc score: 0.7064779996871948\n",
      "-----------------------\n",
      "Title:  Liên_minh Dân_chủ Campuchia\n",
      "Answer:  Liên minh Dân chủ Campuchia Liên minh Dân chủ Campuchia\n",
      "Doc score:  0.7007787823677063\n",
      "Answer score:  1.3291574600931416e-13\n",
      "Calc score: 0.7007787823679721\n",
      "-----------------------\n",
      "Title:  Đảo_chính Campuchia 1970\n",
      "Answer:  Đảo chính Campuchia 1970 Đảo chính Campuchia 1970\n",
      "Doc score:  0.6924558281898499\n",
      "Answer score:  7.710502558354989e-19\n",
      "Calc score: 0.6924558281898499\n",
      "-----------------------\n",
      "Title:  Nghị_viện Campuchia\n",
      "Answer:  Nghị viện Campuchia\n",
      "Doc score:  0.6899452805519104\n",
      "Answer score:  1.0815891380110178e-20\n",
      "Calc score: 0.6899452805519104\n",
      "-----------------------\n",
      "Title:  Xung_đột Campuchia ( 1997 )\n",
      "Answer:  Khmer Đỏ\n",
      "Doc score:  0.6888119578361511\n",
      "Answer score:  1.453790089089377e-19\n",
      "Calc score: 0.6888119578361511\n",
      "-----------------------\n",
      "Title:  Đảng Nhân_quyền ( Campuchia )\n",
      "Answer:  vùng nông thôn\n",
      "Doc score:  0.6860648989677429\n",
      "Answer score:  6.216200103231348e-21\n",
      "Calc score: 0.6860648989677429\n",
      "-----------------------\n",
      "Title:  Quốc_ca Cộng_hòa Nhân_dân Campuchia\n",
      "Answer:  Khmer Đỏ\n",
      "Doc score:  0.6788438558578491\n",
      "Answer score:  8.559323282019912e-21\n",
      "Calc score: 0.6788438558578491\n",
      "-----------------------\n"
     ]
    }
   ],
   "source": [
    "q_raw = '''Campuchia theo thể chế chính trị nào'''\n",
    "q = tokenize(q_raw)\n",
    "query_embedding = model.encode(q,convert_to_tensor=True,)\n",
    "print(q_raw)\n",
    "print(q)\n",
    "hits = util.semantic_search(query_embedding, corpus_embeddings, top_k=10)[0]\n",
    "\n",
    "answers =[]\n",
    "for hit in hits:\n",
    "    corpus_id = hit['corpus_id']\n",
    "    doc_score = hit['score']\n",
    "\n",
    "    title = sentences[corpus_id][0]\n",
    "    text = get_text(title)\n",
    "    answer = qa(question=q_raw,context=text)\n",
    "    answer_score = answer['score']\n",
    "    answers.append((title,answer['answer'],doc_score,answer_score))\n",
    "\n",
    "sorted_answers = sorted(answers,key=lambda x:x[2]+x[3]*2,reverse=True)\n",
    "\n",
    "for title,answer,doc_score,answer_score in sorted_answers:\n",
    "    print('Title: ',title)\n",
    "    print('Answer: ',answer)\n",
    "    print('Doc score: ',doc_score)\n",
    "    print('Answer score: ',answer_score)\n",
    "    print('Calc score:',doc_score+answer_score*2)\n",
    "    print('-----------------------')"
   ]
  }
 ],
 "metadata": {
  "kernelspec": {
   "display_name": "Python 3.10.6 ('research')",
   "language": "python",
   "name": "python3"
  },
  "language_info": {
   "codemirror_mode": {
    "name": "ipython",
    "version": 3
   },
   "file_extension": ".py",
   "mimetype": "text/x-python",
   "name": "python",
   "nbconvert_exporter": "python",
   "pygments_lexer": "ipython3",
   "version": "3.10.6"
  },
  "vscode": {
   "interpreter": {
    "hash": "a9b65729feb538e68f44c9456207842829c75f4513a5296979fcc831c3d07148"
   }
  }
 },
 "nbformat": 4,
 "nbformat_minor": 2
}
