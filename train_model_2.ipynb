{
 "cells": [
  {
   "cell_type": "code",
   "execution_count": 2,
   "metadata": {},
   "outputs": [],
   "source": [
    "import pandas as pd\n",
    "import json\n",
    "import datasets"
   ]
  },
  {
   "cell_type": "code",
   "execution_count": 2,
   "metadata": {},
   "outputs": [],
   "source": [
    "model_checkpoint = \"bert-base-multilingual-cased\"\n",
    "batch_size = 16"
   ]
  },
  {
   "cell_type": "code",
   "execution_count": 3,
   "metadata": {},
   "outputs": [],
   "source": [
    "with open('data/zac2022_train_merged_final.json',encoding='utf-8') as f:\n",
    "    data=json.load(f)\n",
    "    df = pd.json_normalize(data,'data')\n",
    "\n",
    "# 2 trường hợp output là có hoặc không có câu trả lời\n",
    "df = df[(df['category'] == 'FULL_ANNOTATION') | (df['category'] == 'FALSE_LONG_ANSWER')]\n",
    "# độ dài của câu trả lời\n",
    "df['short_candidate_length'] = df['short_candidate'].apply(lambda x: len(x) if type(x) == str else 0)"
   ]
  },
  {
   "cell_type": "code",
   "execution_count": 4,
   "metadata": {},
   "outputs": [
    {
     "data": {
      "application/vnd.jupyter.widget-view+json": {
       "model_id": "9a05d5c55b9347d8886fa84a18811580",
       "version_major": 2,
       "version_minor": 0
      },
      "text/plain": [
       "  0%|          | 0/17359 [00:00<?, ?ex/s]"
      ]
     },
     "metadata": {},
     "output_type": "display_data"
    },
    {
     "data": {
      "application/vnd.jupyter.widget-view+json": {
       "model_id": "c9adba1347934b79856462735765f7ce",
       "version_major": 2,
       "version_minor": 0
      },
      "text/plain": [
       "  0%|          | 0/18 [00:00<?, ?ba/s]"
      ]
     },
     "metadata": {},
     "output_type": "display_data"
    }
   ],
   "source": [
    "# format theo code copy :v\n",
    "dataset = datasets.Dataset.from_pandas(df)\n",
    "dataset = dataset.map(lambda example: {'answers': {'answer_start': [example['short_candidate_start']] if example['short_candidate_start']!=None else [],\n",
    "                                                           'text': [example['short_candidate']] if example['short_candidate']!=None else[]}})\n",
    "dataset = dataset.map(lambda example: {'context': example['text']}, batched=True, remove_columns='text')\n",
    "# drop columns that are not needed\n",
    "dataset = dataset.remove_columns(['answer','short_candidate_start', 'short_candidate', 'short_candidate_length','is_long_answer','category'])\n",
    "# split \n",
    "dataset = dataset.train_test_split(test_size=0.1,seed=42)"
   ]
  },
  {
   "cell_type": "code",
   "execution_count": 5,
   "metadata": {},
   "outputs": [
    {
     "data": {
      "text/plain": [
       "{'id': '35f5cea2c4d48fd056bfffe7d02db260',\n",
       " 'question': 'Các nước Đông Nam Á gồm bao nhiêu quốc gia',\n",
       " 'title': 'Âm nhạc tại Đông Nam Á',\n",
       " '__index_level_0__': 5643,\n",
       " 'answers': {'answer_start': [], 'text': []},\n",
       " 'context': 'Âm nhạc Đông Nam Á gồm có các truyền thống âm nhạc tại phân miền châu Á này. Phân miền địa lý này bao gồm cả quốc gia Brunei, Campuchia,'}"
      ]
     },
     "execution_count": 5,
     "metadata": {},
     "output_type": "execute_result"
    }
   ],
   "source": [
    "dataset['train'][0]"
   ]
  },
  {
   "cell_type": "code",
   "execution_count": 6,
   "metadata": {},
   "outputs": [],
   "source": [
    "import transformers\n",
    "from transformers import AutoTokenizer"
   ]
  },
  {
   "cell_type": "code",
   "execution_count": 7,
   "metadata": {},
   "outputs": [],
   "source": [
    "tokenizer = AutoTokenizer.from_pretrained(model_checkpoint)"
   ]
  },
  {
   "cell_type": "code",
   "execution_count": 8,
   "metadata": {},
   "outputs": [],
   "source": [
    "max_length = 384  # The maximum length of a feature (question and context)\n",
    "doc_stride = 128  # The allowed overlap between two part of the context when splitting is performed.\n",
    "pad_on_right = tokenizer.padding_side == \"right\"\n",
    "\n",
    "def prepare_train_features(examples):\n",
    "    # Tokenize our examples with truncation and padding, but keep the overflows using a stride. This results\n",
    "    # in one example possible giving several features when a context is long, each of those features having a\n",
    "    # context that overlaps a bit the context of the previous feature.\n",
    "    tokenized_examples = tokenizer(\n",
    "        examples[\"question\" if pad_on_right else \"context\"],\n",
    "        examples[\"context\" if pad_on_right else \"question\"],\n",
    "        truncation=\"only_second\" if pad_on_right else \"only_first\",\n",
    "        max_length=max_length,\n",
    "        stride=doc_stride,\n",
    "        return_overflowing_tokens=True,\n",
    "        return_offsets_mapping=True,\n",
    "        padding=\"max_length\",\n",
    "    )\n",
    "\n",
    "    # Since one example might give us several features if it has a long context, we need a map from a feature to\n",
    "    # its corresponding example. This key gives us just that.\n",
    "    sample_mapping = tokenized_examples.pop(\"overflow_to_sample_mapping\")\n",
    "    # The offset mappings will give us a map from token to character position in the original context. This will\n",
    "    # help us compute the start_positions and end_positions.\n",
    "    offset_mapping = tokenized_examples.pop(\"offset_mapping\")\n",
    "\n",
    "    # Let's label those examples!\n",
    "    tokenized_examples[\"start_positions\"] = []\n",
    "    tokenized_examples[\"end_positions\"] = []\n",
    "\n",
    "    for i, offsets in enumerate(offset_mapping):\n",
    "        # We will label impossible answers with the index of the CLS token.\n",
    "        input_ids = tokenized_examples[\"input_ids\"][i]\n",
    "        cls_index = input_ids.index(tokenizer.cls_token_id)\n",
    "\n",
    "        # Grab the sequence corresponding to that example (to know what is the context and what is the question).\n",
    "        sequence_ids = tokenized_examples.sequence_ids(i)\n",
    "\n",
    "        # One example can give several spans, this is the index of the example containing this span of text.\n",
    "        sample_index = sample_mapping[i]\n",
    "        answers = examples[\"answers\"][sample_index]\n",
    "        # If no answers are given, set the cls_index as answer.\n",
    "        if len(answers[\"answer_start\"]) == 0:\n",
    "            tokenized_examples[\"start_positions\"].append(cls_index)\n",
    "            tokenized_examples[\"end_positions\"].append(cls_index)\n",
    "        else:\n",
    "            # Start/end character index of the answer in the text.\n",
    "            start_char = answers[\"answer_start\"][0]\n",
    "            end_char = start_char + len(answers[\"text\"][0])\n",
    "\n",
    "            # Start token index of the current span in the text.\n",
    "            token_start_index = 0\n",
    "            while sequence_ids[token_start_index] != (1 if pad_on_right else 0):\n",
    "                token_start_index += 1\n",
    "\n",
    "            # End token index of the current span in the text.\n",
    "            token_end_index = len(input_ids) - 1\n",
    "            while sequence_ids[token_end_index] != (1 if pad_on_right else 0):\n",
    "                token_end_index -= 1\n",
    "\n",
    "            # Detect if the answer is out of the span (in which case this feature is labeled with the CLS index).\n",
    "            if not (\n",
    "                offsets[token_start_index][0] <= start_char\n",
    "                and offsets[token_end_index][1] >= end_char\n",
    "            ):\n",
    "                tokenized_examples[\"start_positions\"].append(cls_index)\n",
    "                tokenized_examples[\"end_positions\"].append(cls_index)\n",
    "            else:\n",
    "                # Otherwise move the token_start_index and token_end_index to the two ends of the answer.\n",
    "                # Note: we could go after the last offset if the answer is the last word (edge case).\n",
    "                while (\n",
    "                    token_start_index < len(offsets)\n",
    "                    and offsets[token_start_index][0] <= start_char\n",
    "                ):\n",
    "                    token_start_index += 1\n",
    "                tokenized_examples[\"start_positions\"].append(token_start_index - 1)\n",
    "                while offsets[token_end_index][1] >= end_char:\n",
    "                    token_end_index -= 1\n",
    "                tokenized_examples[\"end_positions\"].append(token_end_index + 1)\n",
    "\n",
    "    return tokenized_examples"
   ]
  },
  {
   "cell_type": "code",
   "execution_count": 9,
   "metadata": {},
   "outputs": [],
   "source": [
    "features = prepare_train_features(dataset[\"train\"][:5])"
   ]
  },
  {
   "cell_type": "code",
   "execution_count": 10,
   "metadata": {},
   "outputs": [
    {
     "data": {
      "application/vnd.jupyter.widget-view+json": {
       "model_id": "6fb23dfb695c449c9a9099a0445d02fd",
       "version_major": 2,
       "version_minor": 0
      },
      "text/plain": [
       "  0%|          | 0/16 [00:00<?, ?ba/s]"
      ]
     },
     "metadata": {},
     "output_type": "display_data"
    },
    {
     "data": {
      "application/vnd.jupyter.widget-view+json": {
       "model_id": "7edb504e9939458494fff36a7f3a36ac",
       "version_major": 2,
       "version_minor": 0
      },
      "text/plain": [
       "  0%|          | 0/2 [00:00<?, ?ba/s]"
      ]
     },
     "metadata": {},
     "output_type": "display_data"
    }
   ],
   "source": [
    "tokenized_datasets = dataset.map(\n",
    "    prepare_train_features, batched=True, remove_columns=dataset[\"train\"].column_names\n",
    ")"
   ]
  },
  {
   "cell_type": "code",
   "execution_count": 11,
   "metadata": {},
   "outputs": [
    {
     "name": "stderr",
     "output_type": "stream",
     "text": [
      "Some weights of the model checkpoint at bert-base-multilingual-cased were not used when initializing BertForQuestionAnswering: ['cls.predictions.transform.LayerNorm.weight', 'cls.seq_relationship.bias', 'cls.predictions.transform.dense.weight', 'cls.predictions.decoder.weight', 'cls.predictions.transform.LayerNorm.bias', 'cls.seq_relationship.weight', 'cls.predictions.bias', 'cls.predictions.transform.dense.bias']\n",
      "- This IS expected if you are initializing BertForQuestionAnswering from the checkpoint of a model trained on another task or with another architecture (e.g. initializing a BertForSequenceClassification model from a BertForPreTraining model).\n",
      "- This IS NOT expected if you are initializing BertForQuestionAnswering from the checkpoint of a model that you expect to be exactly identical (initializing a BertForSequenceClassification model from a BertForSequenceClassification model).\n",
      "Some weights of BertForQuestionAnswering were not initialized from the model checkpoint at bert-base-multilingual-cased and are newly initialized: ['qa_outputs.weight', 'qa_outputs.bias']\n",
      "You should probably TRAIN this model on a down-stream task to be able to use it for predictions and inference.\n"
     ]
    }
   ],
   "source": [
    "from transformers import AutoModelForQuestionAnswering, TrainingArguments, Trainer\n",
    "\n",
    "model = AutoModelForQuestionAnswering.from_pretrained(model_checkpoint)"
   ]
  },
  {
   "cell_type": "code",
   "execution_count": 12,
   "metadata": {},
   "outputs": [],
   "source": [
    "model_name = model_checkpoint.split(\"/\")[-1]\n",
    "args = TrainingArguments(\n",
    "    f\"model_2\",\n",
    "    evaluation_strategy = \"epoch\",\n",
    "    learning_rate=2e-5,\n",
    "    per_device_train_batch_size=batch_size,\n",
    "    per_device_eval_batch_size=batch_size,\n",
    "    num_train_epochs=5,\n",
    "    weight_decay=0.01,\n",
    "    push_to_hub=False,\n",
    "    report_to=\"none\",\n",
    ")"
   ]
  },
  {
   "cell_type": "code",
   "execution_count": 13,
   "metadata": {},
   "outputs": [],
   "source": [
    "from transformers import default_data_collator\n",
    "\n",
    "data_collator = default_data_collator"
   ]
  },
  {
   "cell_type": "code",
   "execution_count": 14,
   "metadata": {},
   "outputs": [],
   "source": [
    "trainer = Trainer(\n",
    "    model,\n",
    "    args,\n",
    "    train_dataset=tokenized_datasets[\"train\"],\n",
    "    eval_dataset=tokenized_datasets[\"test\"],\n",
    "    data_collator=data_collator,\n",
    "    tokenizer=tokenizer,\n",
    "    \n",
    ")"
   ]
  },
  {
   "cell_type": "code",
   "execution_count": 15,
   "metadata": {},
   "outputs": [
    {
     "name": "stderr",
     "output_type": "stream",
     "text": [
      "c:\\Users\\ngoph\\.conda\\envs\\research\\lib\\site-packages\\transformers\\optimization.py:306: FutureWarning: This implementation of AdamW is deprecated and will be removed in a future version. Use the PyTorch implementation torch.optim.AdamW instead, or set `no_deprecation_warning=True` to disable this warning\n",
      "  warnings.warn(\n",
      "***** Running training *****\n",
      "  Num examples = 15650\n",
      "  Num Epochs = 5\n",
      "  Instantaneous batch size per device = 16\n",
      "  Total train batch size (w. parallel, distributed & accumulation) = 16\n",
      "  Gradient Accumulation steps = 1\n",
      "  Total optimization steps = 4895\n",
      "  Number of trainable parameters = 177264386\n"
     ]
    },
    {
     "data": {
      "application/vnd.jupyter.widget-view+json": {
       "model_id": "246a52ad4eba4b0d811d47c96030123e",
       "version_major": 2,
       "version_minor": 0
      },
      "text/plain": [
       "  0%|          | 0/4895 [00:00<?, ?it/s]"
      ]
     },
     "metadata": {},
     "output_type": "display_data"
    },
    {
     "name": "stderr",
     "output_type": "stream",
     "text": [
      "Saving model checkpoint to model_2\\checkpoint-500\n",
      "Configuration saved in model_2\\checkpoint-500\\config.json\n"
     ]
    },
    {
     "name": "stdout",
     "output_type": "stream",
     "text": [
      "{'loss': 0.88, 'learning_rate': 1.7957099080694588e-05, 'epoch': 0.51}\n"
     ]
    },
    {
     "name": "stderr",
     "output_type": "stream",
     "text": [
      "Model weights saved in model_2\\checkpoint-500\\pytorch_model.bin\n",
      "tokenizer config file saved in model_2\\checkpoint-500\\tokenizer_config.json\n",
      "Special tokens file saved in model_2\\checkpoint-500\\special_tokens_map.json\n",
      "***** Running Evaluation *****\n",
      "  Num examples = 1741\n",
      "  Batch size = 16\n"
     ]
    },
    {
     "data": {
      "application/vnd.jupyter.widget-view+json": {
       "model_id": "e3ffa004759940c9aa30a116719c20bc",
       "version_major": 2,
       "version_minor": 0
      },
      "text/plain": [
       "  0%|          | 0/109 [00:00<?, ?it/s]"
      ]
     },
     "metadata": {},
     "output_type": "display_data"
    },
    {
     "name": "stdout",
     "output_type": "stream",
     "text": [
      "{'eval_loss': 0.3879539370536804, 'eval_runtime': 25.2136, 'eval_samples_per_second': 69.05, 'eval_steps_per_second': 4.323, 'epoch': 1.0}\n"
     ]
    },
    {
     "name": "stderr",
     "output_type": "stream",
     "text": [
      "Saving model checkpoint to model_2\\checkpoint-1000\n",
      "Configuration saved in model_2\\checkpoint-1000\\config.json\n"
     ]
    },
    {
     "name": "stdout",
     "output_type": "stream",
     "text": [
      "{'loss': 0.4784, 'learning_rate': 1.5914198161389174e-05, 'epoch': 1.02}\n"
     ]
    },
    {
     "name": "stderr",
     "output_type": "stream",
     "text": [
      "Model weights saved in model_2\\checkpoint-1000\\pytorch_model.bin\n",
      "tokenizer config file saved in model_2\\checkpoint-1000\\tokenizer_config.json\n",
      "Special tokens file saved in model_2\\checkpoint-1000\\special_tokens_map.json\n",
      "Saving model checkpoint to model_2\\checkpoint-1500\n",
      "Configuration saved in model_2\\checkpoint-1500\\config.json\n"
     ]
    },
    {
     "name": "stdout",
     "output_type": "stream",
     "text": [
      "{'loss': 0.3215, 'learning_rate': 1.3871297242083762e-05, 'epoch': 1.53}\n"
     ]
    },
    {
     "name": "stderr",
     "output_type": "stream",
     "text": [
      "Model weights saved in model_2\\checkpoint-1500\\pytorch_model.bin\n",
      "tokenizer config file saved in model_2\\checkpoint-1500\\tokenizer_config.json\n",
      "Special tokens file saved in model_2\\checkpoint-1500\\special_tokens_map.json\n",
      "***** Running Evaluation *****\n",
      "  Num examples = 1741\n",
      "  Batch size = 16\n"
     ]
    },
    {
     "data": {
      "application/vnd.jupyter.widget-view+json": {
       "model_id": "ad9fe7fc74254bccb4b8b45dd9d79dfa",
       "version_major": 2,
       "version_minor": 0
      },
      "text/plain": [
       "  0%|          | 0/109 [00:00<?, ?it/s]"
      ]
     },
     "metadata": {},
     "output_type": "display_data"
    },
    {
     "name": "stdout",
     "output_type": "stream",
     "text": [
      "{'eval_loss': 0.421931654214859, 'eval_runtime': 25.2295, 'eval_samples_per_second': 69.006, 'eval_steps_per_second': 4.32, 'epoch': 2.0}\n"
     ]
    },
    {
     "name": "stderr",
     "output_type": "stream",
     "text": [
      "Saving model checkpoint to model_2\\checkpoint-2000\n",
      "Configuration saved in model_2\\checkpoint-2000\\config.json\n"
     ]
    },
    {
     "name": "stdout",
     "output_type": "stream",
     "text": [
      "{'loss': 0.2876, 'learning_rate': 1.1828396322778346e-05, 'epoch': 2.04}\n"
     ]
    },
    {
     "name": "stderr",
     "output_type": "stream",
     "text": [
      "Model weights saved in model_2\\checkpoint-2000\\pytorch_model.bin\n",
      "tokenizer config file saved in model_2\\checkpoint-2000\\tokenizer_config.json\n",
      "Special tokens file saved in model_2\\checkpoint-2000\\special_tokens_map.json\n",
      "Saving model checkpoint to model_2\\checkpoint-2500\n",
      "Configuration saved in model_2\\checkpoint-2500\\config.json\n"
     ]
    },
    {
     "name": "stdout",
     "output_type": "stream",
     "text": [
      "{'loss': 0.1751, 'learning_rate': 9.785495403472932e-06, 'epoch': 2.55}\n"
     ]
    },
    {
     "name": "stderr",
     "output_type": "stream",
     "text": [
      "Model weights saved in model_2\\checkpoint-2500\\pytorch_model.bin\n",
      "tokenizer config file saved in model_2\\checkpoint-2500\\tokenizer_config.json\n",
      "Special tokens file saved in model_2\\checkpoint-2500\\special_tokens_map.json\n",
      "***** Running Evaluation *****\n",
      "  Num examples = 1741\n",
      "  Batch size = 16\n"
     ]
    },
    {
     "data": {
      "application/vnd.jupyter.widget-view+json": {
       "model_id": "90ebd79d6d834a80895540740a62d074",
       "version_major": 2,
       "version_minor": 0
      },
      "text/plain": [
       "  0%|          | 0/109 [00:00<?, ?it/s]"
      ]
     },
     "metadata": {},
     "output_type": "display_data"
    },
    {
     "name": "stdout",
     "output_type": "stream",
     "text": [
      "{'eval_loss': 0.443966269493103, 'eval_runtime': 25.1869, 'eval_samples_per_second': 69.123, 'eval_steps_per_second': 4.328, 'epoch': 3.0}\n"
     ]
    },
    {
     "name": "stderr",
     "output_type": "stream",
     "text": [
      "Saving model checkpoint to model_2\\checkpoint-3000\n",
      "Configuration saved in model_2\\checkpoint-3000\\config.json\n"
     ]
    },
    {
     "name": "stdout",
     "output_type": "stream",
     "text": [
      "{'loss': 0.1758, 'learning_rate': 7.742594484167519e-06, 'epoch': 3.06}\n"
     ]
    },
    {
     "name": "stderr",
     "output_type": "stream",
     "text": [
      "Model weights saved in model_2\\checkpoint-3000\\pytorch_model.bin\n",
      "tokenizer config file saved in model_2\\checkpoint-3000\\tokenizer_config.json\n",
      "Special tokens file saved in model_2\\checkpoint-3000\\special_tokens_map.json\n",
      "Saving model checkpoint to model_2\\checkpoint-3500\n",
      "Configuration saved in model_2\\checkpoint-3500\\config.json\n"
     ]
    },
    {
     "name": "stdout",
     "output_type": "stream",
     "text": [
      "{'loss': 0.1141, 'learning_rate': 5.699693564862104e-06, 'epoch': 3.58}\n"
     ]
    },
    {
     "name": "stderr",
     "output_type": "stream",
     "text": [
      "Model weights saved in model_2\\checkpoint-3500\\pytorch_model.bin\n",
      "tokenizer config file saved in model_2\\checkpoint-3500\\tokenizer_config.json\n",
      "Special tokens file saved in model_2\\checkpoint-3500\\special_tokens_map.json\n",
      "***** Running Evaluation *****\n",
      "  Num examples = 1741\n",
      "  Batch size = 16\n"
     ]
    },
    {
     "data": {
      "application/vnd.jupyter.widget-view+json": {
       "model_id": "3c8bfc7e91b84f649a8af11c20024a6a",
       "version_major": 2,
       "version_minor": 0
      },
      "text/plain": [
       "  0%|          | 0/109 [00:00<?, ?it/s]"
      ]
     },
     "metadata": {},
     "output_type": "display_data"
    },
    {
     "name": "stdout",
     "output_type": "stream",
     "text": [
      "{'eval_loss': 0.5791538953781128, 'eval_runtime': 25.1874, 'eval_samples_per_second': 69.122, 'eval_steps_per_second': 4.328, 'epoch': 4.0}\n"
     ]
    },
    {
     "name": "stderr",
     "output_type": "stream",
     "text": [
      "Saving model checkpoint to model_2\\checkpoint-4000\n",
      "Configuration saved in model_2\\checkpoint-4000\\config.json\n"
     ]
    },
    {
     "name": "stdout",
     "output_type": "stream",
     "text": [
      "{'loss': 0.1, 'learning_rate': 3.656792645556691e-06, 'epoch': 4.09}\n"
     ]
    },
    {
     "name": "stderr",
     "output_type": "stream",
     "text": [
      "Model weights saved in model_2\\checkpoint-4000\\pytorch_model.bin\n",
      "tokenizer config file saved in model_2\\checkpoint-4000\\tokenizer_config.json\n",
      "Special tokens file saved in model_2\\checkpoint-4000\\special_tokens_map.json\n",
      "Saving model checkpoint to model_2\\checkpoint-4500\n",
      "Configuration saved in model_2\\checkpoint-4500\\config.json\n"
     ]
    },
    {
     "name": "stdout",
     "output_type": "stream",
     "text": [
      "{'loss': 0.0644, 'learning_rate': 1.6138917262512767e-06, 'epoch': 4.6}\n"
     ]
    },
    {
     "name": "stderr",
     "output_type": "stream",
     "text": [
      "Model weights saved in model_2\\checkpoint-4500\\pytorch_model.bin\n",
      "tokenizer config file saved in model_2\\checkpoint-4500\\tokenizer_config.json\n",
      "Special tokens file saved in model_2\\checkpoint-4500\\special_tokens_map.json\n",
      "***** Running Evaluation *****\n",
      "  Num examples = 1741\n",
      "  Batch size = 16\n"
     ]
    },
    {
     "data": {
      "application/vnd.jupyter.widget-view+json": {
       "model_id": "0453d08f6f2c45b49b939016b1ce45be",
       "version_major": 2,
       "version_minor": 0
      },
      "text/plain": [
       "  0%|          | 0/109 [00:00<?, ?it/s]"
      ]
     },
     "metadata": {},
     "output_type": "display_data"
    },
    {
     "name": "stderr",
     "output_type": "stream",
     "text": [
      "\n",
      "\n",
      "Training completed. Do not forget to share your model on huggingface.co/models =)\n",
      "\n",
      "\n"
     ]
    },
    {
     "name": "stdout",
     "output_type": "stream",
     "text": [
      "{'eval_loss': 0.6373617649078369, 'eval_runtime': 25.1991, 'eval_samples_per_second': 69.09, 'eval_steps_per_second': 4.326, 'epoch': 5.0}\n",
      "{'train_runtime': 3705.595, 'train_samples_per_second': 21.117, 'train_steps_per_second': 1.321, 'train_loss': 0.27013438364093223, 'epoch': 5.0}\n"
     ]
    },
    {
     "data": {
      "text/plain": [
       "TrainOutput(global_step=4895, training_loss=0.27013438364093223, metrics={'train_runtime': 3705.595, 'train_samples_per_second': 21.117, 'train_steps_per_second': 1.321, 'train_loss': 0.27013438364093223, 'epoch': 5.0})"
      ]
     },
     "execution_count": 15,
     "metadata": {},
     "output_type": "execute_result"
    }
   ],
   "source": [
    "trainer.train()"
   ]
  },
  {
   "cell_type": "code",
   "execution_count": 16,
   "metadata": {},
   "outputs": [
    {
     "name": "stderr",
     "output_type": "stream",
     "text": [
      "Saving model checkpoint to model_2/saved\n",
      "Configuration saved in model_2/saved\\config.json\n",
      "Model weights saved in model_2/saved\\pytorch_model.bin\n",
      "tokenizer config file saved in model_2/saved\\tokenizer_config.json\n",
      "Special tokens file saved in model_2/saved\\special_tokens_map.json\n"
     ]
    }
   ],
   "source": [
    "trainer.save_model(\"model_2/saved\")"
   ]
  },
  {
   "cell_type": "code",
   "execution_count": 1,
   "metadata": {},
   "outputs": [],
   "source": [
    "# test model\n",
    "from transformers import pipeline\n",
    "\n",
    "\n",
    "qa = pipeline('question-answering', model='model_2\\saved',device=0)"
   ]
  },
  {
   "cell_type": "code",
   "execution_count": 3,
   "metadata": {},
   "outputs": [],
   "source": [
    "with open('data/zac2022_train_merged_final.json',encoding='utf-8') as f:\n",
    "    data=json.load(f)\n",
    "    df = pd.json_normalize(data,'data')"
   ]
  },
  {
   "cell_type": "code",
   "execution_count": 4,
   "metadata": {},
   "outputs": [
    {
     "name": "stdout",
     "output_type": "stream",
     "text": [
      "PARTIAL_ANNOTATION\n",
      "QUESTION: Tôn giáo chủ yếu ở México là gì\n",
      "CONTEXT: México cũng là nước có số lượng người nói tiếng Tây Ban Nha cao nhất trên thế giới và tôn giáo chủ yếu tại đây là Công giáo Rôma .\n",
      "{'score': 0.9946323037147522, 'start': 114, 'end': 128, 'answer': 'Công giáo Rôma'}\n",
      "\n",
      "FULL_ANNOTATION\n",
      "QUESTION: Nước nhỏ nhất châu Phi\n",
      "CONTEXT: Gambia (phiên âm tiếng Việt: Găm-bi-a), tên chính thức Cộng hòa Gambia (tiếng Anh: Republic of The Gambia) là một quốc gia tại Tây Phi, được vây quanh bởi Sénégal với một đường bờ biển ngắn giáp với Đại Tây Dương ở cực tây. Đây là nước nhỏ nhất trên châu Phi lục địa.\n",
      "{'score': 0.9998766183853149, 'start': 0, 'end': 6, 'answer': 'Gambia'}\n",
      "\n",
      "FALSE_LONG_ANSWER\n",
      "QUESTION: Thực dân Pháp đã vu cho vua Nguyễn nào là vua điên\n",
      "CONTEXT: Năm 1907, khi vua Thành Thái bị thực dân Pháp đày sang đảo Réunion, thì chính quyền thực dân Pháp cho đổi tên là cầu Clémenceau, theo tên của Georges Clemenceau, một Thủ tướng Pháp thời Thế chiến thứ nhất.\n",
      "{'score': 8.56829537876358e-11, 'start': 14, 'end': 28, 'answer': 'vua Thành Thái'}\n",
      "\n"
     ]
    }
   ],
   "source": [
    "# PARTIAL_ANNOTATION\n",
    "for c in ['PARTIAL_ANNOTATION','FULL_ANNOTATION','FALSE_LONG_ANSWER']:\n",
    "    print(c)\n",
    "    example = df[df['category'] == c].sample(1)\n",
    "    question = example['question'].values[0]\n",
    "    context = example['text'].values[0]\n",
    "    print('QUESTION:', question)\n",
    "    print('CONTEXT:', context)\n",
    "    print(qa(question=question, context=context))\n",
    "    print()"
   ]
  },
  {
   "cell_type": "code",
   "execution_count": 1,
   "metadata": {},
   "outputs": [
    {
     "ename": "NameError",
     "evalue": "name 'qa' is not defined",
     "output_type": "error",
     "traceback": [
      "\u001b[1;31m---------------------------------------------------------------------------\u001b[0m",
      "\u001b[1;31mNameError\u001b[0m                                 Traceback (most recent call last)",
      "\u001b[1;32mc:\\Users\\ngoph\\Desktop\\zalo_ai\\e2eqa-train+public_test-v1\\train_model_2.ipynb Cell 20\u001b[0m in \u001b[0;36m<cell line: 3>\u001b[1;34m()\u001b[0m\n\u001b[0;32m      <a href='vscode-notebook-cell:/c%3A/Users/ngoph/Desktop/zalo_ai/e2eqa-train%2Bpublic_test-v1/train_model_2.ipynb#X25sZmlsZQ%3D%3D?line=0'>1</a>\u001b[0m question \u001b[39m=\u001b[39m \u001b[39m'\u001b[39m\u001b[39mNước Việt Nam có bao nhiêu con sông\u001b[39m\u001b[39m'\u001b[39m\n\u001b[0;32m      <a href='vscode-notebook-cell:/c%3A/Users/ngoph/Desktop/zalo_ai/e2eqa-train%2Bpublic_test-v1/train_model_2.ipynb#X25sZmlsZQ%3D%3D?line=1'>2</a>\u001b[0m context \u001b[39m=\u001b[39m \u001b[39m'\u001b[39m\u001b[39mSông Tiên Sông Tiên có thể là các con sông: Sông Tiên tại tỉnh Tứ Xuyên, Trung Quốc Sông Tiên tại tỉnh Quảng Nam, Việt Nam \u001b[39m\u001b[39m'\u001b[39m\n\u001b[1;32m----> <a href='vscode-notebook-cell:/c%3A/Users/ngoph/Desktop/zalo_ai/e2eqa-train%2Bpublic_test-v1/train_model_2.ipynb#X25sZmlsZQ%3D%3D?line=2'>3</a>\u001b[0m qa(question\u001b[39m=\u001b[39mquestion, context\u001b[39m=\u001b[39mcontext)\n",
      "\u001b[1;31mNameError\u001b[0m: name 'qa' is not defined"
     ]
    }
   ],
   "source": [
    "question = 'Nước Việt Nam có bao nhiêu con sông'\n",
    "context = 'Sông Tiên Sông Tiên có thể là các con sông: Sông Tiên tại tỉnh Tứ Xuyên, Trung Quốc Sông Tiên tại tỉnh Quảng Nam, Việt Nam '\n",
    "qa(question=question, context=context)"
   ]
  }
 ],
 "metadata": {
  "kernelspec": {
   "display_name": "Python 3.9.13 ('research')",
   "language": "python",
   "name": "python3"
  },
  "language_info": {
   "codemirror_mode": {
    "name": "ipython",
    "version": 3
   },
   "file_extension": ".py",
   "mimetype": "text/x-python",
   "name": "python",
   "nbconvert_exporter": "python",
   "pygments_lexer": "ipython3",
   "version": "3.9.13"
  },
  "orig_nbformat": 4,
  "vscode": {
   "interpreter": {
    "hash": "eb38fa78ee3775302a1338b080c54d2cfaf66812fbe51ea9112886fc85d2bb05"
   }
  }
 },
 "nbformat": 4,
 "nbformat_minor": 2
}
