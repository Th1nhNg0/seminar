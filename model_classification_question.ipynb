{
  "cells": [
    {
      "cell_type": "code",
      "execution_count": null,
      "metadata": {
        "id": "UQE35dzE4vhi"
      },
      "outputs": [],
      "source": [
        "import pandas as pd\n",
        "import json\n",
        "import numpy as np"
      ]
    },
    {
      "cell_type": "markdown",
      "metadata": {
        "id": "HV2hEeGQ4vhm"
      },
      "source": [
        "# make data"
      ]
    },
    {
      "cell_type": "code",
      "execution_count": null,
      "metadata": {
        "id": "lU8qCxZZ4vhu"
      },
      "outputs": [],
      "source": [
        "with open('data/zac2022_train_merged_final.json',encoding='utf-8') as f:\n",
        "    data=json.load(f)\n",
        "    df = pd.json_normalize(data,'data')"
      ]
    },
    {
      "cell_type": "code",
      "execution_count": null,
      "metadata": {
        "colab": {
          "base_uri": "https://localhost:8080/",
          "height": 582
        },
        "id": "PLkDper74vhv",
        "outputId": "1470d456-1f00-40ba-e29b-e789fafaba63"
      },
      "outputs": [
        {
          "data": {
            "text/html": [
              "\n",
              "  <div id=\"df-0a8a4b6d-a73b-4242-9b0e-974d9dca3842\">\n",
              "    <div class=\"colab-df-container\">\n",
              "      <div>\n",
              "<style scoped>\n",
              "    .dataframe tbody tr th:only-of-type {\n",
              "        vertical-align: middle;\n",
              "    }\n",
              "\n",
              "    .dataframe tbody tr th {\n",
              "        vertical-align: top;\n",
              "    }\n",
              "\n",
              "    .dataframe thead th {\n",
              "        text-align: right;\n",
              "    }\n",
              "</style>\n",
              "<table border=\"1\" class=\"dataframe\">\n",
              "  <thead>\n",
              "    <tr style=\"text-align: right;\">\n",
              "      <th></th>\n",
              "      <th>id</th>\n",
              "      <th>question</th>\n",
              "      <th>title</th>\n",
              "      <th>text</th>\n",
              "      <th>category</th>\n",
              "      <th>is_long_answer</th>\n",
              "      <th>short_candidate_start</th>\n",
              "      <th>short_candidate</th>\n",
              "      <th>answer</th>\n",
              "    </tr>\n",
              "  </thead>\n",
              "  <tbody>\n",
              "    <tr>\n",
              "      <th>0</th>\n",
              "      <td>718d41cd997b2b44b0685ac54aa55bd8</td>\n",
              "      <td>Thủ tướng Trung Quốc là gì</td>\n",
              "      <td>Trung Quốc</td>\n",
              "      <td>Thủ tướng Trung Quốc là nhân vật lãnh đạo chín...</td>\n",
              "      <td>PARTIAL_ANNOTATION</td>\n",
              "      <td>True</td>\n",
              "      <td>NaN</td>\n",
              "      <td>NaN</td>\n",
              "      <td>NaN</td>\n",
              "    </tr>\n",
              "    <tr>\n",
              "      <th>1</th>\n",
              "      <td>c926e7b0717202618a10dd907d4b4c39</td>\n",
              "      <td>Đất nước nào không có quân đội</td>\n",
              "      <td></td>\n",
              "      <td>có 23 quốc gia không có lực lượng quân đội, ba...</td>\n",
              "      <td>FULL_ANNOTATION</td>\n",
              "      <td>True</td>\n",
              "      <td>53.0</td>\n",
              "      <td>Costa Rica, Iceland, Panama, Micronesia, Quần ...</td>\n",
              "      <td>wiki/Danh_sách_quốc_gia_không_có_lực_lượng_vũ_...</td>\n",
              "    </tr>\n",
              "    <tr>\n",
              "      <th>2</th>\n",
              "      <td>d38ef5bf1fb82b410026ed82c8a44cae</td>\n",
              "      <td>Pháp tấn công xâm lược Việt Nam vào ngày tháng...</td>\n",
              "      <td>Raymondienne</td>\n",
              "      <td>Raymondienne (hay Raymonde Dien) sinh ngày 13 ...</td>\n",
              "      <td>FALSE_LONG_ANSWER</td>\n",
              "      <td>False</td>\n",
              "      <td>NaN</td>\n",
              "      <td>NaN</td>\n",
              "      <td>NaN</td>\n",
              "    </tr>\n",
              "    <tr>\n",
              "      <th>3</th>\n",
              "      <td>b6b5589a98fdccd208dc752bac853993</td>\n",
              "      <td>Cờ vua còn có tên gọi nào khác</td>\n",
              "      <td>Cúp cờ vua thế giới</td>\n",
              "      <td>Cúp cờ vua thế giới là tên gọi một số giải đấu...</td>\n",
              "      <td>FALSE_LONG_ANSWER</td>\n",
              "      <td>False</td>\n",
              "      <td>NaN</td>\n",
              "      <td>NaN</td>\n",
              "      <td>NaN</td>\n",
              "    </tr>\n",
              "    <tr>\n",
              "      <th>4</th>\n",
              "      <td>82396a18fa9812bfec4d3ecb7ae60905</td>\n",
              "      <td>Núi nào cao nhất châu âu</td>\n",
              "      <td>Shkhara</td>\n",
              "      <td>Đỉnh núi nằm ở phần trung tâm của dãy núi Đại ...</td>\n",
              "      <td>FULL_ANNOTATION</td>\n",
              "      <td>True</td>\n",
              "      <td>73.0</td>\n",
              "      <td>núi Elbrus</td>\n",
              "      <td>wiki/Elbrus</td>\n",
              "    </tr>\n",
              "  </tbody>\n",
              "</table>\n",
              "</div>\n",
              "      <button class=\"colab-df-convert\" onclick=\"convertToInteractive('df-0a8a4b6d-a73b-4242-9b0e-974d9dca3842')\"\n",
              "              title=\"Convert this dataframe to an interactive table.\"\n",
              "              style=\"display:none;\">\n",
              "        \n",
              "  <svg xmlns=\"http://www.w3.org/2000/svg\" height=\"24px\"viewBox=\"0 0 24 24\"\n",
              "       width=\"24px\">\n",
              "    <path d=\"M0 0h24v24H0V0z\" fill=\"none\"/>\n",
              "    <path d=\"M18.56 5.44l.94 2.06.94-2.06 2.06-.94-2.06-.94-.94-2.06-.94 2.06-2.06.94zm-11 1L8.5 8.5l.94-2.06 2.06-.94-2.06-.94L8.5 2.5l-.94 2.06-2.06.94zm10 10l.94 2.06.94-2.06 2.06-.94-2.06-.94-.94-2.06-.94 2.06-2.06.94z\"/><path d=\"M17.41 7.96l-1.37-1.37c-.4-.4-.92-.59-1.43-.59-.52 0-1.04.2-1.43.59L10.3 9.45l-7.72 7.72c-.78.78-.78 2.05 0 2.83L4 21.41c.39.39.9.59 1.41.59.51 0 1.02-.2 1.41-.59l7.78-7.78 2.81-2.81c.8-.78.8-2.07 0-2.86zM5.41 20L4 18.59l7.72-7.72 1.47 1.35L5.41 20z\"/>\n",
              "  </svg>\n",
              "      </button>\n",
              "      \n",
              "  <style>\n",
              "    .colab-df-container {\n",
              "      display:flex;\n",
              "      flex-wrap:wrap;\n",
              "      gap: 12px;\n",
              "    }\n",
              "\n",
              "    .colab-df-convert {\n",
              "      background-color: #E8F0FE;\n",
              "      border: none;\n",
              "      border-radius: 50%;\n",
              "      cursor: pointer;\n",
              "      display: none;\n",
              "      fill: #1967D2;\n",
              "      height: 32px;\n",
              "      padding: 0 0 0 0;\n",
              "      width: 32px;\n",
              "    }\n",
              "\n",
              "    .colab-df-convert:hover {\n",
              "      background-color: #E2EBFA;\n",
              "      box-shadow: 0px 1px 2px rgba(60, 64, 67, 0.3), 0px 1px 3px 1px rgba(60, 64, 67, 0.15);\n",
              "      fill: #174EA6;\n",
              "    }\n",
              "\n",
              "    [theme=dark] .colab-df-convert {\n",
              "      background-color: #3B4455;\n",
              "      fill: #D2E3FC;\n",
              "    }\n",
              "\n",
              "    [theme=dark] .colab-df-convert:hover {\n",
              "      background-color: #434B5C;\n",
              "      box-shadow: 0px 1px 3px 1px rgba(0, 0, 0, 0.15);\n",
              "      filter: drop-shadow(0px 1px 2px rgba(0, 0, 0, 0.3));\n",
              "      fill: #FFFFFF;\n",
              "    }\n",
              "  </style>\n",
              "\n",
              "      <script>\n",
              "        const buttonEl =\n",
              "          document.querySelector('#df-0a8a4b6d-a73b-4242-9b0e-974d9dca3842 button.colab-df-convert');\n",
              "        buttonEl.style.display =\n",
              "          google.colab.kernel.accessAllowed ? 'block' : 'none';\n",
              "\n",
              "        async function convertToInteractive(key) {\n",
              "          const element = document.querySelector('#df-0a8a4b6d-a73b-4242-9b0e-974d9dca3842');\n",
              "          const dataTable =\n",
              "            await google.colab.kernel.invokeFunction('convertToInteractive',\n",
              "                                                     [key], {});\n",
              "          if (!dataTable) return;\n",
              "\n",
              "          const docLinkHtml = 'Like what you see? Visit the ' +\n",
              "            '<a target=\"_blank\" href=https://colab.research.google.com/notebooks/data_table.ipynb>data table notebook</a>'\n",
              "            + ' to learn more about interactive tables.';\n",
              "          element.innerHTML = '';\n",
              "          dataTable['output_type'] = 'display_data';\n",
              "          await google.colab.output.renderOutput(dataTable, element);\n",
              "          const docLink = document.createElement('div');\n",
              "          docLink.innerHTML = docLinkHtml;\n",
              "          element.appendChild(docLink);\n",
              "        }\n",
              "      </script>\n",
              "    </div>\n",
              "  </div>\n",
              "  "
            ],
            "text/plain": [
              "                                 id  \\\n",
              "0  718d41cd997b2b44b0685ac54aa55bd8   \n",
              "1  c926e7b0717202618a10dd907d4b4c39   \n",
              "2  d38ef5bf1fb82b410026ed82c8a44cae   \n",
              "3  b6b5589a98fdccd208dc752bac853993   \n",
              "4  82396a18fa9812bfec4d3ecb7ae60905   \n",
              "\n",
              "                                            question                title  \\\n",
              "0                         Thủ tướng Trung Quốc là gì           Trung Quốc   \n",
              "1                     Đất nước nào không có quân đội                        \n",
              "2  Pháp tấn công xâm lược Việt Nam vào ngày tháng...         Raymondienne   \n",
              "3                     Cờ vua còn có tên gọi nào khác  Cúp cờ vua thế giới   \n",
              "4                           Núi nào cao nhất châu âu              Shkhara   \n",
              "\n",
              "                                                text            category  \\\n",
              "0  Thủ tướng Trung Quốc là nhân vật lãnh đạo chín...  PARTIAL_ANNOTATION   \n",
              "1  có 23 quốc gia không có lực lượng quân đội, ba...     FULL_ANNOTATION   \n",
              "2  Raymondienne (hay Raymonde Dien) sinh ngày 13 ...   FALSE_LONG_ANSWER   \n",
              "3  Cúp cờ vua thế giới là tên gọi một số giải đấu...   FALSE_LONG_ANSWER   \n",
              "4  Đỉnh núi nằm ở phần trung tâm của dãy núi Đại ...     FULL_ANNOTATION   \n",
              "\n",
              "   is_long_answer  short_candidate_start  \\\n",
              "0            True                    NaN   \n",
              "1            True                   53.0   \n",
              "2           False                    NaN   \n",
              "3           False                    NaN   \n",
              "4            True                   73.0   \n",
              "\n",
              "                                     short_candidate  \\\n",
              "0                                                NaN   \n",
              "1  Costa Rica, Iceland, Panama, Micronesia, Quần ...   \n",
              "2                                                NaN   \n",
              "3                                                NaN   \n",
              "4                                         núi Elbrus   \n",
              "\n",
              "                                              answer  \n",
              "0                                                NaN  \n",
              "1  wiki/Danh_sách_quốc_gia_không_có_lực_lượng_vũ_...  \n",
              "2                                                NaN  \n",
              "3                                                NaN  \n",
              "4                                        wiki/Elbrus  "
            ]
          },
          "execution_count": 4,
          "metadata": {},
          "output_type": "execute_result"
        }
      ],
      "source": [
        "df.head()"
      ]
    },
    {
      "cell_type": "code",
      "execution_count": null,
      "metadata": {
        "id": "KMVqAdts4vhy"
      },
      "outputs": [],
      "source": [
        "import re\n",
        "\n",
        "def checkdate(date):\n",
        "    # reg1 = ngày .. tháng .. năm ..\n",
        "    # reg2 = tháng .. năm ..\n",
        "    # reg3 = năm ..\n",
        "    # reg4 = ngày .. tháng ..\n",
        "    # check date by reg1, reg2, reg3, reg4\n",
        "    reg1 = r'ngày\\s\\d{1,2}\\stháng\\s\\d{1,2}\\snăm\\s\\d{4}'\n",
        "    reg2 = r'tháng\\s\\d{1,2}\\snăm\\s\\d{4}'\n",
        "    reg3 = r'năm\\s\\d{4}'\n",
        "    reg4 = r'ngày\\s\\d{1,2}\\stháng\\s\\d{1,2}'\n",
        "    if re.match(reg1, date) or re.match(reg2, date) or re.match(reg3, date) or re.match(reg4, date):\n",
        "        return True\n",
        "    return False\n",
        "\n",
        "def appy_func(x):\n",
        "    if x.startswith('wiki/'):\n",
        "        return 'wiki'\n",
        "    if x.isdigit():\n",
        "        return 'number'\n",
        "    return 'text'\n",
        "\n",
        "full_df = df.copy()\n",
        "# full_df = df[df['category']=='FULL_ANNOTATION']\n",
        "\n",
        "# loop through all row\n",
        "# create new empty column\n",
        "full_df['train_label'] = ''\n",
        "\n",
        "\n",
        "date_keyword = [\n",
        "    'ngày nào',\n",
        "    'tháng nào',\n",
        "    'năm nào',\n",
        "    'thế nào',\n",
        "    'khi nào',\n",
        "    'lúc nào'\n",
        "]\n",
        "for index, row in full_df.iterrows():\n",
        "    for date in date_keyword:\n",
        "        if date in row['question'].lower():\n",
        "            full_df.at[index, 'train_label'] = 'text'\n",
        "            break\n",
        "\n",
        "    if 'bao nhiêu' in row['question'].lower() and 'năm bao nhiêu' not in row['question'].lower():\n",
        "        full_df.loc[index, 'train_label'] = 'number'\n",
        "\n",
        "    if row['category']=='FULL_ANNOTATION':\n",
        "        full_df.loc[index, 'train_label'] = appy_func(row['answer'])\n",
        "full_df = full_df[full_df['train_label']!='']\n",
        "# full_df['train_label'] = full_df['answer'].apply(appy_func)"
      ]
    },
    {
      "cell_type": "code",
      "execution_count": null,
      "metadata": {
        "colab": {
          "base_uri": "https://localhost:8080/"
        },
        "id": "hsCpA6qQ4vh6",
        "outputId": "8198071d-07df-4396-8889-2ce680b20bbe"
      },
      "outputs": [
        {
          "name": "stdout",
          "output_type": "stream",
          "text": [
            "bao nhiêu 2228\n"
          ]
        }
      ],
      "source": [
        "print('bao nhiêu', len(df[df['question'].str.lower().str.contains('bao nhiêu')]))"
      ]
    },
    {
      "cell_type": "code",
      "execution_count": null,
      "metadata": {
        "colab": {
          "base_uri": "https://localhost:8080/"
        },
        "id": "VaqdGMad4vh8",
        "outputId": "4dd66cfe-d0cb-4ca0-f8ca-711afb658ad4"
      },
      "outputs": [
        {
          "name": "stdout",
          "output_type": "stream",
          "text": [
            "ngày nào 158\n",
            "tháng nào 7\n",
            "năm nào 1463\n",
            "thế nào 57\n",
            "khi nào 137\n",
            "lúc nào 3\n"
          ]
        }
      ],
      "source": [
        "for keyword in date_keyword:\n",
        "    print(keyword, len(df[df['question'].str.lower().str.contains(keyword)]))"
      ]
    },
    {
      "cell_type": "code",
      "execution_count": null,
      "metadata": {
        "colab": {
          "base_uri": "https://localhost:8080/"
        },
        "id": "1487T34U4vh8",
        "outputId": "7420ebb1-1a3e-485b-c522-4d8814179841"
      },
      "outputs": [
        {
          "data": {
            "text/plain": [
              "wiki      4608\n",
              "number    2010\n",
              "text      1885\n",
              "Name: train_label, dtype: int64"
            ]
          },
          "execution_count": 8,
          "metadata": {},
          "output_type": "execute_result"
        }
      ],
      "source": [
        "full_df['train_label'].value_counts()"
      ]
    },
    {
      "cell_type": "code",
      "execution_count": null,
      "metadata": {
        "colab": {
          "base_uri": "https://localhost:8080/",
          "height": 298
        },
        "id": "K7QM9xQhlHEH",
        "outputId": "7ec99b9f-55bf-4803-fe58-5e9ae79b5fcc"
      },
      "outputs": [
        {
          "name": "stderr",
          "output_type": "stream",
          "text": [
            "/usr/local/lib/python3.7/dist-packages/ipykernel_launcher.py:21: SettingWithCopyWarning: \n",
            "A value is trying to be set on a copy of a slice from a DataFrame.\n",
            "Try using .loc[row_indexer,col_indexer] = value instead\n",
            "\n",
            "See the caveats in the documentation: https://pandas.pydata.org/pandas-docs/stable/user_guide/indexing.html#returning-a-view-versus-a-copy\n"
          ]
        },
        {
          "data": {
            "text/html": [
              "\n",
              "  <div id=\"df-b0ba7e1f-b955-406e-93de-f2e8b291fb54\">\n",
              "    <div class=\"colab-df-container\">\n",
              "      <div>\n",
              "<style scoped>\n",
              "    .dataframe tbody tr th:only-of-type {\n",
              "        vertical-align: middle;\n",
              "    }\n",
              "\n",
              "    .dataframe tbody tr th {\n",
              "        vertical-align: top;\n",
              "    }\n",
              "\n",
              "    .dataframe thead th {\n",
              "        text-align: right;\n",
              "    }\n",
              "</style>\n",
              "<table border=\"1\" class=\"dataframe\">\n",
              "  <thead>\n",
              "    <tr style=\"text-align: right;\">\n",
              "      <th></th>\n",
              "      <th>question</th>\n",
              "      <th>train_label</th>\n",
              "    </tr>\n",
              "  </thead>\n",
              "  <tbody>\n",
              "    <tr>\n",
              "      <th>1</th>\n",
              "      <td>Đất nước nào không có quân đội</td>\n",
              "      <td>0</td>\n",
              "    </tr>\n",
              "    <tr>\n",
              "      <th>2</th>\n",
              "      <td>Pháp tấn công xâm lược Việt Nam vào ngày tháng...</td>\n",
              "      <td>2</td>\n",
              "    </tr>\n",
              "    <tr>\n",
              "      <th>4</th>\n",
              "      <td>Núi nào cao nhất châu âu</td>\n",
              "      <td>0</td>\n",
              "    </tr>\n",
              "    <tr>\n",
              "      <th>8</th>\n",
              "      <td>Hà Nội đã trải qua bao nhiêu lần đổi tên</td>\n",
              "      <td>1</td>\n",
              "    </tr>\n",
              "    <tr>\n",
              "      <th>9</th>\n",
              "      <td>Thành phố nào là thủ phủ của Ai Cập trong đế q...</td>\n",
              "      <td>0</td>\n",
              "    </tr>\n",
              "  </tbody>\n",
              "</table>\n",
              "</div>\n",
              "      <button class=\"colab-df-convert\" onclick=\"convertToInteractive('df-b0ba7e1f-b955-406e-93de-f2e8b291fb54')\"\n",
              "              title=\"Convert this dataframe to an interactive table.\"\n",
              "              style=\"display:none;\">\n",
              "        \n",
              "  <svg xmlns=\"http://www.w3.org/2000/svg\" height=\"24px\"viewBox=\"0 0 24 24\"\n",
              "       width=\"24px\">\n",
              "    <path d=\"M0 0h24v24H0V0z\" fill=\"none\"/>\n",
              "    <path d=\"M18.56 5.44l.94 2.06.94-2.06 2.06-.94-2.06-.94-.94-2.06-.94 2.06-2.06.94zm-11 1L8.5 8.5l.94-2.06 2.06-.94-2.06-.94L8.5 2.5l-.94 2.06-2.06.94zm10 10l.94 2.06.94-2.06 2.06-.94-2.06-.94-.94-2.06-.94 2.06-2.06.94z\"/><path d=\"M17.41 7.96l-1.37-1.37c-.4-.4-.92-.59-1.43-.59-.52 0-1.04.2-1.43.59L10.3 9.45l-7.72 7.72c-.78.78-.78 2.05 0 2.83L4 21.41c.39.39.9.59 1.41.59.51 0 1.02-.2 1.41-.59l7.78-7.78 2.81-2.81c.8-.78.8-2.07 0-2.86zM5.41 20L4 18.59l7.72-7.72 1.47 1.35L5.41 20z\"/>\n",
              "  </svg>\n",
              "      </button>\n",
              "      \n",
              "  <style>\n",
              "    .colab-df-container {\n",
              "      display:flex;\n",
              "      flex-wrap:wrap;\n",
              "      gap: 12px;\n",
              "    }\n",
              "\n",
              "    .colab-df-convert {\n",
              "      background-color: #E8F0FE;\n",
              "      border: none;\n",
              "      border-radius: 50%;\n",
              "      cursor: pointer;\n",
              "      display: none;\n",
              "      fill: #1967D2;\n",
              "      height: 32px;\n",
              "      padding: 0 0 0 0;\n",
              "      width: 32px;\n",
              "    }\n",
              "\n",
              "    .colab-df-convert:hover {\n",
              "      background-color: #E2EBFA;\n",
              "      box-shadow: 0px 1px 2px rgba(60, 64, 67, 0.3), 0px 1px 3px 1px rgba(60, 64, 67, 0.15);\n",
              "      fill: #174EA6;\n",
              "    }\n",
              "\n",
              "    [theme=dark] .colab-df-convert {\n",
              "      background-color: #3B4455;\n",
              "      fill: #D2E3FC;\n",
              "    }\n",
              "\n",
              "    [theme=dark] .colab-df-convert:hover {\n",
              "      background-color: #434B5C;\n",
              "      box-shadow: 0px 1px 3px 1px rgba(0, 0, 0, 0.15);\n",
              "      filter: drop-shadow(0px 1px 2px rgba(0, 0, 0, 0.3));\n",
              "      fill: #FFFFFF;\n",
              "    }\n",
              "  </style>\n",
              "\n",
              "      <script>\n",
              "        const buttonEl =\n",
              "          document.querySelector('#df-b0ba7e1f-b955-406e-93de-f2e8b291fb54 button.colab-df-convert');\n",
              "        buttonEl.style.display =\n",
              "          google.colab.kernel.accessAllowed ? 'block' : 'none';\n",
              "\n",
              "        async function convertToInteractive(key) {\n",
              "          const element = document.querySelector('#df-b0ba7e1f-b955-406e-93de-f2e8b291fb54');\n",
              "          const dataTable =\n",
              "            await google.colab.kernel.invokeFunction('convertToInteractive',\n",
              "                                                     [key], {});\n",
              "          if (!dataTable) return;\n",
              "\n",
              "          const docLinkHtml = 'Like what you see? Visit the ' +\n",
              "            '<a target=\"_blank\" href=https://colab.research.google.com/notebooks/data_table.ipynb>data table notebook</a>'\n",
              "            + ' to learn more about interactive tables.';\n",
              "          element.innerHTML = '';\n",
              "          dataTable['output_type'] = 'display_data';\n",
              "          await google.colab.output.renderOutput(dataTable, element);\n",
              "          const docLink = document.createElement('div');\n",
              "          docLink.innerHTML = docLinkHtml;\n",
              "          element.appendChild(docLink);\n",
              "        }\n",
              "      </script>\n",
              "    </div>\n",
              "  </div>\n",
              "  "
            ],
            "text/plain": [
              "                                            question  train_label\n",
              "1                     Đất nước nào không có quân đội            0\n",
              "2  Pháp tấn công xâm lược Việt Nam vào ngày tháng...            2\n",
              "4                           Núi nào cao nhất châu âu            0\n",
              "8           Hà Nội đã trải qua bao nhiêu lần đổi tên            1\n",
              "9  Thành phố nào là thủ phủ của Ai Cập trong đế q...            0"
            ]
          },
          "execution_count": 29,
          "metadata": {},
          "output_type": "execute_result"
        }
      ],
      "source": [
        "train_df = full_df[['question','train_label']]\n",
        "# question\n",
        "s1 = u'ÀÁÂÃÈÉÊÌÍÒÓÔÕÙÚÝàáâãèéêìíòóôõùúýĂăĐđĨĩŨũƠơƯưẠạẢảẤấẦầẨẩẪẫẬậẮắẰằẲẳẴẵẶặẸẹẺẻẼẽẾếỀềỂểỄễỆệỈỉỊịỌọỎỏỐốỒồỔổỖỗỘộỚớỜờỞởỠỡỢợỤụỦủỨứỪừỬửỮữỰựỲỳỴỵỶỷỸỹ'\n",
        "s0 = u'AAAAEEEIIOOOOUUYaaaaeeeiioooouuyAaDdIiUuOoUuAaAaAaAaAaAaAaAaAaAaAaAaEeEeEeEeEeEeEeEeIiIiOoOoOoOoOoOoOoOoOoOoOoOoUuUuUuUuUuUuUuYyYyYyYy'\n",
        "def remove_accents(input_str):\n",
        "\ts = ''\n",
        "\tfor c in input_str:\n",
        "\t\tif c in s1:\n",
        "\t\t\ts += s0[s1.index(c)]\n",
        "\t\telse:\n",
        "\t\t\ts += c\n",
        "\treturn s\n",
        "# train_df['question'] = train_df['question'].apply(remove_accents)\n",
        "\n",
        "# label\n",
        "LABEL={\n",
        "\t'wiki':0,\n",
        "\t'number':1,\n",
        "\t'text':2\n",
        "}\n",
        "train_df['train_label'] = train_df['train_label'].apply(lambda x: LABEL[x])\n",
        "train_df.head()"
      ]
    },
    {
      "cell_type": "code",
      "execution_count": null,
      "metadata": {
        "id": "4LS81HPT5VUy"
      },
      "outputs": [],
      "source": [
        "import torch\n",
        "from transformers.file_utils import is_tf_available, is_torch_available, is_torch_tpu_available\n",
        "from transformers import BertTokenizerFast, BertForSequenceClassification\n",
        "from transformers import Trainer, TrainingArguments\n",
        "import numpy as np\n",
        "import random\n",
        "from sklearn.datasets import fetch_20newsgroups\n",
        "from sklearn.model_selection import train_test_split"
      ]
    },
    {
      "cell_type": "code",
      "execution_count": null,
      "metadata": {
        "id": "zbveuTFUiqkF"
      },
      "outputs": [],
      "source": [
        "model_name = \"bert-base-uncased\"\n",
        "# max sequence length for each document/sentence sample\n",
        "max_length = 512"
      ]
    },
    {
      "cell_type": "code",
      "execution_count": null,
      "metadata": {
        "id": "9EBppoUXh3fO"
      },
      "outputs": [],
      "source": [
        "tokenizer = BertTokenizerFast.from_pretrained(model_name, do_lower_case=True)\n"
      ]
    },
    {
      "cell_type": "code",
      "execution_count": null,
      "metadata": {
        "id": "cESVkZ5gjdZu"
      },
      "outputs": [],
      "source": [
        "def dataset_df(df,test_size=0.2):\n",
        "  # download & load 20newsgroups dataset from sklearn's repos\n",
        "  dataset = df\n",
        "  documents = dataset.question\n",
        "  labels = dataset.train_label\n",
        "  # split into training & testing a return data as well as label names\n",
        "  return train_test_split(documents.tolist(), labels.tolist(), test_size=test_size), np.unique(dataset.train_label)"
      ]
    },
    {
      "cell_type": "code",
      "execution_count": null,
      "metadata": {
        "id": "N8NGE5ptk5wF"
      },
      "outputs": [],
      "source": [
        "(train_texts, valid_texts, train_labels, valid_labels), target_names = dataset_df(train_df)"
      ]
    },
    {
      "cell_type": "code",
      "execution_count": null,
      "metadata": {
        "id": "dpZwWi80qgoS"
      },
      "outputs": [],
      "source": [
        "train_texts"
      ]
    },
    {
      "cell_type": "code",
      "execution_count": null,
      "metadata": {
        "id": "Rg3XwPgNlLGf"
      },
      "outputs": [],
      "source": [
        "train_encodings = tokenizer(train_texts, truncation=True, padding=True, max_length=max_length)\n",
        "valid_encodings = tokenizer(valid_texts, truncation=True, padding=True, max_length=max_length)\n"
      ]
    },
    {
      "cell_type": "code",
      "execution_count": null,
      "metadata": {
        "id": "VFD5ssLZl3DF"
      },
      "outputs": [],
      "source": [
        "import torch"
      ]
    },
    {
      "cell_type": "code",
      "execution_count": null,
      "metadata": {
        "id": "tAsZJ5gelsTE"
      },
      "outputs": [],
      "source": [
        "class ZaloDataset(torch.utils.data.Dataset):\n",
        "    def __init__(self, encodings, labels):\n",
        "        self.encodings = encodings\n",
        "        self.labels = labels\n",
        "\n",
        "    def __getitem__(self, idx):\n",
        "        item = {k: torch.tensor(v[idx]) for k, v in self.encodings.items()}\n",
        "        item[\"labels\"] = torch.tensor([self.labels[idx]])\n",
        "        return item\n",
        "\n",
        "    def __len__(self):\n",
        "        return len(self.labels)"
      ]
    },
    {
      "cell_type": "code",
      "execution_count": null,
      "metadata": {
        "id": "1s0FSv0el6io"
      },
      "outputs": [],
      "source": [
        "train_dataset = ZaloDataset(train_encodings, train_labels)\n",
        "valid_dataset = ZaloDataset(valid_encodings, valid_labels)"
      ]
    },
    {
      "cell_type": "code",
      "execution_count": null,
      "metadata": {
        "id": "WNoZl_a4mDxV"
      },
      "outputs": [],
      "source": [
        "model = BertForSequenceClassification.from_pretrained(model_name, num_labels=len(target_names)).to(\"cuda\")"
      ]
    },
    {
      "cell_type": "code",
      "execution_count": null,
      "metadata": {
        "id": "q-6rsIQAoeJr"
      },
      "outputs": [],
      "source": [
        "def set_seed(seed: int):\n",
        "    \"\"\"\n",
        "    Helper function for reproducible behavior to set the seed in ``random``, ``numpy``, ``torch`` and/or ``tf`` (if\n",
        "    installed).\n",
        "\n",
        "    Args:\n",
        "        seed (:obj:`int`): The seed to set.\n",
        "    \"\"\"\n",
        "    random.seed(seed)\n",
        "    np.random.seed(seed)\n",
        "    if is_torch_available():\n",
        "        torch.manual_seed(seed)\n",
        "        torch.cuda.manual_seed_all(seed)\n",
        "        # ^^ safe to call this function even if cuda is not available\n",
        "    if is_tf_available():\n",
        "        import tensorflow as tf\n",
        "\n",
        "        tf.random.set_seed(seed)\n",
        "\n",
        "set_seed(1)"
      ]
    },
    {
      "cell_type": "code",
      "execution_count": null,
      "metadata": {
        "id": "aM6RFXqEm0a6"
      },
      "outputs": [],
      "source": [
        "from sklearn.metrics import accuracy_score\n",
        "\n",
        "def compute_metrics(pred):\n",
        "  labels = pred.label_ids\n",
        "  preds = pred.predictions.argmax(-1)\n",
        "  # calculate accuracy using sklearn's function\n",
        "  acc = accuracy_score(labels, preds)\n",
        "  return {\n",
        "      'accuracy': acc,\n",
        "  }"
      ]
    },
    {
      "cell_type": "code",
      "execution_count": null,
      "metadata": {
        "colab": {
          "base_uri": "https://localhost:8080/"
        },
        "id": "eTHbrZmcm7lk",
        "outputId": "f5a31d88-4564-4272-91ab-e3a116e87db2"
      },
      "outputs": [
        {
          "name": "stderr",
          "output_type": "stream",
          "text": [
            "using `logging_steps` to initialize `eval_steps` to 400\n",
            "PyTorch: setting up devices\n",
            "The default value for the training argument `--report_to` will change in v5 (from all installed integrations to none). In v5, you will need to use `--report_to all` to get the same behavior as now. You should start updating your code and make this info disappear :-).\n"
          ]
        }
      ],
      "source": [
        "training_args = TrainingArguments(\n",
        "    output_dir='./results',          # output directory\n",
        "    num_train_epochs=3,              # total number of training epochs\n",
        "    per_device_train_batch_size=8,  # batch size per device during training\n",
        "    per_device_eval_batch_size=20,   # batch size for evaluation\n",
        "    warmup_steps=500,                # number of warmup steps for learning rate scheduler\n",
        "    weight_decay=0.01,               # strength of weight decay\n",
        "    logging_dir='./logs',            # directory for storing logs\n",
        "    load_best_model_at_end=True,     # load the best model when finished training (default metric is loss)\n",
        "    # but you can specify `metric_for_best_model` argument to change to accuracy or other metric\n",
        "    logging_steps=400,               # log & save weights each logging_steps\n",
        "    save_steps=400,\n",
        "    evaluation_strategy=\"steps\",     # evaluate each `logging_steps`\n",
        ")"
      ]
    },
    {
      "cell_type": "code",
      "execution_count": null,
      "metadata": {
        "id": "0TKLjWpZnMcB"
      },
      "outputs": [],
      "source": [
        "trainer = Trainer(\n",
        "    model=model,                         # the instantiated Transformers model to be trained\n",
        "    args=training_args,                  # training arguments, defined above\n",
        "    train_dataset=train_dataset,         # training dataset\n",
        "    eval_dataset=valid_dataset,          # evaluation dataset\n",
        "    compute_metrics=compute_metrics,     # the callback that computes metrics of interest\n",
        ")"
      ]
    },
    {
      "cell_type": "code",
      "execution_count": null,
      "metadata": {
        "colab": {
          "base_uri": "https://localhost:8080/"
        },
        "id": "JSBrgj66pyqn",
        "outputId": "29f8cb7c-de49-4848-c382-8c84098401fb"
      },
      "outputs": [
        {
          "data": {
            "text/plain": [
              "<transformers.trainer.Trainer at 0x7f1ad953f110>"
            ]
          },
          "execution_count": 77,
          "metadata": {},
          "output_type": "execute_result"
        }
      ],
      "source": [
        "trainer"
      ]
    },
    {
      "cell_type": "code",
      "execution_count": null,
      "metadata": {
        "colab": {
          "base_uri": "https://localhost:8080/",
          "height": 1000
        },
        "id": "TkorO10snUXJ",
        "outputId": "67bfa01a-b825-43b2-ae96-bc953ee2ddd0"
      },
      "outputs": [
        {
          "name": "stderr",
          "output_type": "stream",
          "text": [
            "/usr/local/lib/python3.7/dist-packages/transformers/optimization.py:310: FutureWarning: This implementation of AdamW is deprecated and will be removed in a future version. Use the PyTorch implementation torch.optim.AdamW instead, or set `no_deprecation_warning=True` to disable this warning\n",
            "  FutureWarning,\n",
            "***** Running training *****\n",
            "  Num examples = 6802\n",
            "  Num Epochs = 3\n",
            "  Instantaneous batch size per device = 8\n",
            "  Total train batch size (w. parallel, distributed & accumulation) = 8\n",
            "  Gradient Accumulation steps = 1\n",
            "  Total optimization steps = 2553\n",
            "  Number of trainable parameters = 109484547\n"
          ]
        },
        {
          "data": {
            "text/html": [
              "\n",
              "    <div>\n",
              "      \n",
              "      <progress value='2553' max='2553' style='width:300px; height:20px; vertical-align: middle;'></progress>\n",
              "      [2553/2553 07:04, Epoch 3/3]\n",
              "    </div>\n",
              "    <table border=\"1\" class=\"dataframe\">\n",
              "  <thead>\n",
              " <tr style=\"text-align: left;\">\n",
              "      <th>Step</th>\n",
              "      <th>Training Loss</th>\n",
              "      <th>Validation Loss</th>\n",
              "      <th>Accuracy</th>\n",
              "    </tr>\n",
              "  </thead>\n",
              "  <tbody>\n",
              "    <tr>\n",
              "      <td>400</td>\n",
              "      <td>0.412000</td>\n",
              "      <td>0.174438</td>\n",
              "      <td>0.968254</td>\n",
              "    </tr>\n",
              "    <tr>\n",
              "      <td>800</td>\n",
              "      <td>0.109600</td>\n",
              "      <td>0.088795</td>\n",
              "      <td>0.986479</td>\n",
              "    </tr>\n",
              "    <tr>\n",
              "      <td>1200</td>\n",
              "      <td>0.092300</td>\n",
              "      <td>0.107291</td>\n",
              "      <td>0.981775</td>\n",
              "    </tr>\n",
              "    <tr>\n",
              "      <td>1600</td>\n",
              "      <td>0.075900</td>\n",
              "      <td>0.079256</td>\n",
              "      <td>0.987654</td>\n",
              "    </tr>\n",
              "    <tr>\n",
              "      <td>2000</td>\n",
              "      <td>0.058700</td>\n",
              "      <td>0.077786</td>\n",
              "      <td>0.987654</td>\n",
              "    </tr>\n",
              "    <tr>\n",
              "      <td>2400</td>\n",
              "      <td>0.046900</td>\n",
              "      <td>0.076147</td>\n",
              "      <td>0.988242</td>\n",
              "    </tr>\n",
              "  </tbody>\n",
              "</table><p>"
            ],
            "text/plain": [
              "<IPython.core.display.HTML object>"
            ]
          },
          "metadata": {},
          "output_type": "display_data"
        },
        {
          "name": "stderr",
          "output_type": "stream",
          "text": [
            "***** Running Evaluation *****\n",
            "  Num examples = 1701\n",
            "  Batch size = 20\n",
            "Saving model checkpoint to ./results/checkpoint-400\n",
            "Configuration saved in ./results/checkpoint-400/config.json\n",
            "Model weights saved in ./results/checkpoint-400/pytorch_model.bin\n",
            "***** Running Evaluation *****\n",
            "  Num examples = 1701\n",
            "  Batch size = 20\n",
            "Saving model checkpoint to ./results/checkpoint-800\n",
            "Configuration saved in ./results/checkpoint-800/config.json\n",
            "Model weights saved in ./results/checkpoint-800/pytorch_model.bin\n",
            "***** Running Evaluation *****\n",
            "  Num examples = 1701\n",
            "  Batch size = 20\n",
            "Saving model checkpoint to ./results/checkpoint-1200\n",
            "Configuration saved in ./results/checkpoint-1200/config.json\n",
            "Model weights saved in ./results/checkpoint-1200/pytorch_model.bin\n",
            "***** Running Evaluation *****\n",
            "  Num examples = 1701\n",
            "  Batch size = 20\n",
            "Saving model checkpoint to ./results/checkpoint-1600\n",
            "Configuration saved in ./results/checkpoint-1600/config.json\n",
            "Model weights saved in ./results/checkpoint-1600/pytorch_model.bin\n",
            "***** Running Evaluation *****\n",
            "  Num examples = 1701\n",
            "  Batch size = 20\n",
            "Saving model checkpoint to ./results/checkpoint-2000\n",
            "Configuration saved in ./results/checkpoint-2000/config.json\n",
            "Model weights saved in ./results/checkpoint-2000/pytorch_model.bin\n",
            "***** Running Evaluation *****\n",
            "  Num examples = 1701\n",
            "  Batch size = 20\n",
            "Saving model checkpoint to ./results/checkpoint-2400\n",
            "Configuration saved in ./results/checkpoint-2400/config.json\n",
            "Model weights saved in ./results/checkpoint-2400/pytorch_model.bin\n",
            "\n",
            "\n",
            "Training completed. Do not forget to share your model on huggingface.co/models =)\n",
            "\n",
            "\n",
            "Loading best model from ./results/checkpoint-2400 (score: 0.07614731043577194).\n"
          ]
        },
        {
          "data": {
            "text/plain": [
              "TrainOutput(global_step=2553, training_loss=0.12687685384126537, metrics={'train_runtime': 426.4598, 'train_samples_per_second': 47.85, 'train_steps_per_second': 5.986, 'total_flos': 681623058867660.0, 'train_loss': 0.12687685384126537, 'epoch': 3.0})"
            ]
          },
          "execution_count": 97,
          "metadata": {},
          "output_type": "execute_result"
        }
      ],
      "source": [
        "trainer.train()\n"
      ]
    },
    {
      "cell_type": "code",
      "execution_count": null,
      "metadata": {
        "id": "gjUusv5vs4GG"
      },
      "outputs": [],
      "source": [
        "def get_prediction(text):\n",
        "    # prepare our text into tokenized sequence\n",
        "    inputs = tokenizer(text, padding=True, truncation=True, max_length=max_length, return_tensors=\"pt\").to(\"cuda\")\n",
        "    # perform inference to our model\n",
        "    outputs = model(**inputs)\n",
        "    # get output probabilities by doing softmax\n",
        "    probs = outputs[0].softmax(1)\n",
        "    # executing argmax function to get the candidate label\n",
        "    return target_names[probs.argmax()]"
      ]
    },
    {
      "cell_type": "code",
      "execution_count": null,
      "metadata": {
        "id": "8cufx9dMs--f"
      },
      "outputs": [],
      "source": []
    },
    {
      "cell_type": "code",
      "execution_count": null,
      "metadata": {
        "id": "vQL4uW86tYvK"
      },
      "outputs": [],
      "source": [
        "for i in question:\n",
        "  print(i,get_prediction(i))"
      ]
    },
    {
      "cell_type": "code",
      "execution_count": null,
      "metadata": {
        "colab": {
          "base_uri": "https://localhost:8080/"
        },
        "id": "ctFM_3gPv3z6",
        "outputId": "197f442b-38f7-486b-d33d-605a8d3be605"
      },
      "outputs": [
        {
          "data": {
            "text/plain": [
              "1"
            ]
          },
          "execution_count": 126,
          "metadata": {},
          "output_type": "execute_result"
        }
      ],
      "source": [
        "get_prediction(\"Có mấy phím trên bàn phím piano\")"
      ]
    },
    {
      "cell_type": "code",
      "execution_count": null,
      "metadata": {
        "colab": {
          "base_uri": "https://localhost:8080/"
        },
        "id": "kSybo7XpvPWs",
        "outputId": "2368f3b4-6e9d-4e7d-fc57-6b535a2c5aa2"
      },
      "outputs": [
        {
          "name": "stderr",
          "output_type": "stream",
          "text": [
            "Saving model checkpoint to model\n",
            "Configuration saved in model/config.json\n",
            "Model weights saved in model/pytorch_model.bin\n"
          ]
        }
      ],
      "source": [
        "trainer.save_model(\"model\")"
      ]
    },
    {
      "cell_type": "code",
      "execution_count": null,
      "metadata": {
        "colab": {
          "base_uri": "https://localhost:8080/"
        },
        "id": "oteSSiFkvrPu",
        "outputId": "bbf4eff8-92ef-457a-e105-defc499d5ea9"
      },
      "outputs": [
        {
          "name": "stdout",
          "output_type": "stream",
          "text": [
            "  adding: model/ (stored 0%)\n",
            "  adding: model/pytorch_model.bin (deflated 7%)\n",
            "  adding: model/training_args.bin (deflated 48%)\n",
            "  adding: model/config.json (deflated 51%)\n"
          ]
        }
      ],
      "source": [
        "!zip -r \"model1.zip\" \"model\" "
      ]
    }
  ],
  "metadata": {
    "accelerator": "GPU",
    "colab": {
      "collapsed_sections": [],
      "provenance": []
    },
    "gpuClass": "standard",
    "kernelspec": {
      "display_name": "Python 3.9.13 ('research')",
      "language": "python",
      "name": "python3"
    },
    "language_info": {
      "codemirror_mode": {
        "name": "ipython",
        "version": 3
      },
      "file_extension": ".py",
      "mimetype": "text/x-python",
      "name": "python",
      "nbconvert_exporter": "python",
      "pygments_lexer": "ipython3",
      "version": "3.9.13"
    },
    "orig_nbformat": 4,
    "vscode": {
      "interpreter": {
        "hash": "eb38fa78ee3775302a1338b080c54d2cfaf66812fbe51ea9112886fc85d2bb05"
      }
    }
  },
  "nbformat": 4,
  "nbformat_minor": 0
}
