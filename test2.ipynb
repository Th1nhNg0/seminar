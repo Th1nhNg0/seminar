{
 "cells": [
  {
   "cell_type": "code",
   "execution_count": 1,
   "metadata": {},
   "outputs": [],
   "source": [
    "import pandas as pd\n",
    "from tqdm import tqdm\n",
    "import pickle"
   ]
  },
  {
   "cell_type": "code",
   "execution_count": 2,
   "metadata": {},
   "outputs": [],
   "source": [
    "df = pd.read_csv('data/zac2022_train_merged_final_preprocessing.json',keep_default_na=False)"
   ]
  },
  {
   "cell_type": "code",
   "execution_count": 3,
   "metadata": {
    "scrolled": true
   },
   "outputs": [
    {
     "data": {
      "text/html": [
       "<div>\n",
       "<style scoped>\n",
       "    .dataframe tbody tr th:only-of-type {\n",
       "        vertical-align: middle;\n",
       "    }\n",
       "\n",
       "    .dataframe tbody tr th {\n",
       "        vertical-align: top;\n",
       "    }\n",
       "\n",
       "    .dataframe thead th {\n",
       "        text-align: right;\n",
       "    }\n",
       "</style>\n",
       "<table border=\"1\" class=\"dataframe\">\n",
       "  <thead>\n",
       "    <tr style=\"text-align: right;\">\n",
       "      <th></th>\n",
       "      <th>Unnamed: 0</th>\n",
       "      <th>id</th>\n",
       "      <th>url</th>\n",
       "      <th>title</th>\n",
       "      <th>text</th>\n",
       "      <th>timestamp</th>\n",
       "      <th>revid</th>\n",
       "    </tr>\n",
       "  </thead>\n",
       "  <tbody>\n",
       "    <tr>\n",
       "      <th>0</th>\n",
       "      <td>0</td>\n",
       "      <td>2</td>\n",
       "      <td>https://vi.wikipedia.org/wiki?curid=2</td>\n",
       "      <td>Trang Chính</td>\n",
       "      <td>Trang Chính __NOEDITSECTION__</td>\n",
       "      <td>2022-05-12T12:46:53Z</td>\n",
       "      <td>68591979</td>\n",
       "    </tr>\n",
       "    <tr>\n",
       "      <th>1</th>\n",
       "      <td>1</td>\n",
       "      <td>4</td>\n",
       "      <td>https://vi.wikipedia.org/wiki?curid=4</td>\n",
       "      <td>Internet Society</td>\n",
       "      <td>Internet Society Internet Society hay ISOC là ...</td>\n",
       "      <td>2022-01-20T07:59:10Z</td>\n",
       "      <td>67988747</td>\n",
       "    </tr>\n",
       "    <tr>\n",
       "      <th>2</th>\n",
       "      <td>2</td>\n",
       "      <td>13</td>\n",
       "      <td>https://vi.wikipedia.org/wiki?curid=13</td>\n",
       "      <td>Tiếng Việt</td>\n",
       "      <td>Tiếng Việt Tiếng Việt, cũng gọi là tiếng Việt ...</td>\n",
       "      <td>2022-05-29T03:42:42Z</td>\n",
       "      <td>68660631</td>\n",
       "    </tr>\n",
       "    <tr>\n",
       "      <th>3</th>\n",
       "      <td>3</td>\n",
       "      <td>24</td>\n",
       "      <td>https://vi.wikipedia.org/wiki?curid=24</td>\n",
       "      <td>Ohio</td>\n",
       "      <td>Ohio Ohio (viết tắt là OH, viết tắt cũ là O.) ...</td>\n",
       "      <td>2022-04-17T08:15:22Z</td>\n",
       "      <td>68482118</td>\n",
       "    </tr>\n",
       "    <tr>\n",
       "      <th>4</th>\n",
       "      <td>4</td>\n",
       "      <td>26</td>\n",
       "      <td>https://vi.wikipedia.org/wiki?curid=26</td>\n",
       "      <td>California</td>\n",
       "      <td>California California (phát âm như \"Ca-li-phót...</td>\n",
       "      <td>2022-06-16T15:27:07Z</td>\n",
       "      <td>68738039</td>\n",
       "    </tr>\n",
       "  </tbody>\n",
       "</table>\n",
       "</div>"
      ],
      "text/plain": [
       "   Unnamed: 0  id                                     url             title  \\\n",
       "0           0   2   https://vi.wikipedia.org/wiki?curid=2       Trang Chính   \n",
       "1           1   4   https://vi.wikipedia.org/wiki?curid=4  Internet Society   \n",
       "2           2  13  https://vi.wikipedia.org/wiki?curid=13        Tiếng Việt   \n",
       "3           3  24  https://vi.wikipedia.org/wiki?curid=24              Ohio   \n",
       "4           4  26  https://vi.wikipedia.org/wiki?curid=26        California   \n",
       "\n",
       "                                                text             timestamp  \\\n",
       "0                     Trang Chính __NOEDITSECTION__   2022-05-12T12:46:53Z   \n",
       "1  Internet Society Internet Society hay ISOC là ...  2022-01-20T07:59:10Z   \n",
       "2  Tiếng Việt Tiếng Việt, cũng gọi là tiếng Việt ...  2022-05-29T03:42:42Z   \n",
       "3  Ohio Ohio (viết tắt là OH, viết tắt cũ là O.) ...  2022-04-17T08:15:22Z   \n",
       "4  California California (phát âm như \"Ca-li-phót...  2022-06-16T15:27:07Z   \n",
       "\n",
       "      revid  \n",
       "0  68591979  \n",
       "1  67988747  \n",
       "2  68660631  \n",
       "3  68482118  \n",
       "4  68738039  "
      ]
     },
     "execution_count": 3,
     "metadata": {},
     "output_type": "execute_result"
    }
   ],
   "source": [
    "df.head(5)"
   ]
  },
  {
   "cell_type": "code",
   "execution_count": 13,
   "metadata": {},
   "outputs": [],
   "source": [
    "from sentence_transformers import SentenceTransformer, util\n",
    "from pyvi.ViTokenizer import tokenize"
   ]
  },
  {
   "cell_type": "code",
   "execution_count": null,
   "metadata": {},
   "outputs": [],
   "source": [
    "model = SentenceTransformer('VoVanPhuc/sup-SimCSE-VietNamese-phobert-base')"
   ]
  },
  {
   "cell_type": "code",
   "execution_count": null,
   "metadata": {},
   "outputs": [],
   "source": [
    "import transformers\n",
    "transformers.logging.set_verbosity_error()"
   ]
  },
  {
   "cell_type": "code",
   "execution_count": 30,
   "metadata": {},
   "outputs": [
    {
     "ename": "KeyboardInterrupt",
     "evalue": "",
     "output_type": "error",
     "traceback": [
      "\u001b[1;31m---------------------------------------------------------------------------\u001b[0m",
      "\u001b[1;31mKeyboardInterrupt\u001b[0m                         Traceback (most recent call last)",
      "\u001b[1;32mc:\\Users\\ngoph\\Desktop\\zalo_ai\\e2eqa-train+public_test-v1\\test2.ipynb Cell 7\u001b[0m in \u001b[0;36m<cell line: 1>\u001b[1;34m()\u001b[0m\n\u001b[1;32m----> <a href='vscode-notebook-cell:/c%3A/Users/ngoph/Desktop/zalo_ai/e2eqa-train%2Bpublic_test-v1/test2.ipynb#X36sZmlsZQ%3D%3D?line=0'>1</a>\u001b[0m titles \u001b[39m=\u001b[39m df[\u001b[39m'\u001b[39;49m\u001b[39mtitle\u001b[39;49m\u001b[39m'\u001b[39;49m]\u001b[39m.\u001b[39;49mapply(tokenize)\u001b[39m.\u001b[39mtolist()\n\u001b[0;32m      <a href='vscode-notebook-cell:/c%3A/Users/ngoph/Desktop/zalo_ai/e2eqa-train%2Bpublic_test-v1/test2.ipynb#X36sZmlsZQ%3D%3D?line=1'>2</a>\u001b[0m titles\n",
      "File \u001b[1;32md:\\Software\\Anaconda\\envs\\research\\lib\\site-packages\\pandas\\core\\series.py:4771\u001b[0m, in \u001b[0;36mSeries.apply\u001b[1;34m(self, func, convert_dtype, args, **kwargs)\u001b[0m\n\u001b[0;32m   4661\u001b[0m \u001b[39mdef\u001b[39;00m \u001b[39mapply\u001b[39m(\n\u001b[0;32m   4662\u001b[0m     \u001b[39mself\u001b[39m,\n\u001b[0;32m   4663\u001b[0m     func: AggFuncType,\n\u001b[1;32m   (...)\u001b[0m\n\u001b[0;32m   4666\u001b[0m     \u001b[39m*\u001b[39m\u001b[39m*\u001b[39mkwargs,\n\u001b[0;32m   4667\u001b[0m ) \u001b[39m-\u001b[39m\u001b[39m>\u001b[39m DataFrame \u001b[39m|\u001b[39m Series:\n\u001b[0;32m   4668\u001b[0m     \u001b[39m\"\"\"\u001b[39;00m\n\u001b[0;32m   4669\u001b[0m \u001b[39m    Invoke function on values of Series.\u001b[39;00m\n\u001b[0;32m   4670\u001b[0m \n\u001b[1;32m   (...)\u001b[0m\n\u001b[0;32m   4769\u001b[0m \u001b[39m    dtype: float64\u001b[39;00m\n\u001b[0;32m   4770\u001b[0m \u001b[39m    \"\"\"\u001b[39;00m\n\u001b[1;32m-> 4771\u001b[0m     \u001b[39mreturn\u001b[39;00m SeriesApply(\u001b[39mself\u001b[39;49m, func, convert_dtype, args, kwargs)\u001b[39m.\u001b[39;49mapply()\n",
      "File \u001b[1;32md:\\Software\\Anaconda\\envs\\research\\lib\\site-packages\\pandas\\core\\apply.py:1105\u001b[0m, in \u001b[0;36mSeriesApply.apply\u001b[1;34m(self)\u001b[0m\n\u001b[0;32m   1102\u001b[0m     \u001b[39mreturn\u001b[39;00m \u001b[39mself\u001b[39m\u001b[39m.\u001b[39mapply_str()\n\u001b[0;32m   1104\u001b[0m \u001b[39m# self.f is Callable\u001b[39;00m\n\u001b[1;32m-> 1105\u001b[0m \u001b[39mreturn\u001b[39;00m \u001b[39mself\u001b[39;49m\u001b[39m.\u001b[39;49mapply_standard()\n",
      "File \u001b[1;32md:\\Software\\Anaconda\\envs\\research\\lib\\site-packages\\pandas\\core\\apply.py:1156\u001b[0m, in \u001b[0;36mSeriesApply.apply_standard\u001b[1;34m(self)\u001b[0m\n\u001b[0;32m   1154\u001b[0m     \u001b[39melse\u001b[39;00m:\n\u001b[0;32m   1155\u001b[0m         values \u001b[39m=\u001b[39m obj\u001b[39m.\u001b[39mastype(\u001b[39mobject\u001b[39m)\u001b[39m.\u001b[39m_values\n\u001b[1;32m-> 1156\u001b[0m         mapped \u001b[39m=\u001b[39m lib\u001b[39m.\u001b[39;49mmap_infer(\n\u001b[0;32m   1157\u001b[0m             values,\n\u001b[0;32m   1158\u001b[0m             f,\n\u001b[0;32m   1159\u001b[0m             convert\u001b[39m=\u001b[39;49m\u001b[39mself\u001b[39;49m\u001b[39m.\u001b[39;49mconvert_dtype,\n\u001b[0;32m   1160\u001b[0m         )\n\u001b[0;32m   1162\u001b[0m \u001b[39mif\u001b[39;00m \u001b[39mlen\u001b[39m(mapped) \u001b[39mand\u001b[39;00m \u001b[39misinstance\u001b[39m(mapped[\u001b[39m0\u001b[39m], ABCSeries):\n\u001b[0;32m   1163\u001b[0m     \u001b[39m# GH#43986 Need to do list(mapped) in order to get treated as nested\u001b[39;00m\n\u001b[0;32m   1164\u001b[0m     \u001b[39m#  See also GH#25959 regarding EA support\u001b[39;00m\n\u001b[0;32m   1165\u001b[0m     \u001b[39mreturn\u001b[39;00m obj\u001b[39m.\u001b[39m_constructor_expanddim(\u001b[39mlist\u001b[39m(mapped), index\u001b[39m=\u001b[39mobj\u001b[39m.\u001b[39mindex)\n",
      "File \u001b[1;32md:\\Software\\Anaconda\\envs\\research\\lib\\site-packages\\pandas\\_libs\\lib.pyx:2918\u001b[0m, in \u001b[0;36mpandas._libs.lib.map_infer\u001b[1;34m()\u001b[0m\n",
      "File \u001b[1;32md:\\Software\\Anaconda\\envs\\research\\lib\\site-packages\\pyvi\\ViTokenizer.py:170\u001b[0m, in \u001b[0;36mtokenize\u001b[1;34m(str)\u001b[0m\n\u001b[0;32m    169\u001b[0m \u001b[39mdef\u001b[39;00m \u001b[39mtokenize\u001b[39m(\u001b[39mstr\u001b[39m):\n\u001b[1;32m--> 170\u001b[0m     \u001b[39mreturn\u001b[39;00m ViTokenizer\u001b[39m.\u001b[39;49mtokenize(\u001b[39mstr\u001b[39;49m)\n",
      "File \u001b[1;32md:\\Software\\Anaconda\\envs\\research\\lib\\site-packages\\pyvi\\ViTokenizer.py:118\u001b[0m, in \u001b[0;36mViTokenizer.tokenize\u001b[1;34m(str)\u001b[0m\n\u001b[0;32m    116\u001b[0m \u001b[39mif\u001b[39;00m \u001b[39mlen\u001b[39m(tmp) \u001b[39m==\u001b[39m \u001b[39m0\u001b[39m:\n\u001b[0;32m    117\u001b[0m     \u001b[39mreturn\u001b[39;00m \u001b[39mstr\u001b[39m\n\u001b[1;32m--> 118\u001b[0m labels \u001b[39m=\u001b[39m ViTokenizer\u001b[39m.\u001b[39;49mmodel\u001b[39m.\u001b[39;49mpredict([ViTokenizer\u001b[39m.\u001b[39;49msent2features(tmp, \u001b[39mFalse\u001b[39;49;00m)])\n\u001b[0;32m    119\u001b[0m output \u001b[39m=\u001b[39m tmp[\u001b[39m0\u001b[39m]\n\u001b[0;32m    120\u001b[0m \u001b[39mfor\u001b[39;00m i \u001b[39min\u001b[39;00m \u001b[39mrange\u001b[39m(\u001b[39m1\u001b[39m, \u001b[39mlen\u001b[39m(labels[\u001b[39m0\u001b[39m])):\n",
      "File \u001b[1;32md:\\Software\\Anaconda\\envs\\research\\lib\\site-packages\\sklearn_crfsuite\\estimator.py:350\u001b[0m, in \u001b[0;36mCRF.predict\u001b[1;34m(self, X)\u001b[0m\n\u001b[0;32m    335\u001b[0m \u001b[39mdef\u001b[39;00m \u001b[39mpredict\u001b[39m(\u001b[39mself\u001b[39m, X):\n\u001b[0;32m    336\u001b[0m     \u001b[39m\"\"\"\u001b[39;00m\n\u001b[0;32m    337\u001b[0m \u001b[39m    Make a prediction.\u001b[39;00m\n\u001b[0;32m    338\u001b[0m \n\u001b[1;32m   (...)\u001b[0m\n\u001b[0;32m    348\u001b[0m \n\u001b[0;32m    349\u001b[0m \u001b[39m    \"\"\"\u001b[39;00m\n\u001b[1;32m--> 350\u001b[0m     \u001b[39mreturn\u001b[39;00m \u001b[39mlist\u001b[39;49m(\u001b[39mmap\u001b[39;49m(\u001b[39mself\u001b[39;49m\u001b[39m.\u001b[39;49mpredict_single, X))\n",
      "\u001b[1;31mKeyboardInterrupt\u001b[0m: "
     ]
    }
   ],
   "source": [
    "titles = df['title'].apply(tokenize).tolist()\n",
    "titles"
   ]
  },
  {
   "cell_type": "code",
   "execution_count": 16,
   "metadata": {},
   "outputs": [
    {
     "data": {
      "application/vnd.jupyter.widget-view+json": {
       "model_id": "90a1fb2211c44da5a5258cc18e45dc15",
       "version_major": 2,
       "version_minor": 0
      },
      "text/plain": [
       "Batches:   0%|          | 0/39796 [00:00<?, ?it/s]"
      ]
     },
     "metadata": {},
     "output_type": "display_data"
    }
   ],
   "source": [
    "corpus_embeddings = model.encode(titles,convert_to_tensor=True,show_progress_bar=True,device='cuda')"
   ]
  },
  {
   "cell_type": "code",
   "execution_count": 28,
   "metadata": {},
   "outputs": [],
   "source": [
    "pickle.dump(corpus_embeddings, open('data/title_embeddings.pkl', 'wb'))"
   ]
  },
  {
   "cell_type": "code",
   "execution_count": 17,
   "metadata": {},
   "outputs": [
    {
     "data": {
      "text/plain": [
       "torch.Size([1273469, 768])"
      ]
     },
     "execution_count": 17,
     "metadata": {},
     "output_type": "execute_result"
    }
   ],
   "source": [
    "corpus_embeddings.shape"
   ]
  },
  {
   "cell_type": "code",
   "execution_count": 29,
   "metadata": {},
   "outputs": [
    {
     "name": "stdout",
     "output_type": "stream",
     "text": [
      "huyện Tuy_An\n",
      "Tuy_An - 0.9403116106987\n",
      "An_Thọ , Tuy_An - 0.8956292867660522\n",
      "An_Hiệp , Tuy_An - 0.8954504728317261\n",
      "An_Cư , Tuy_An - 0.8625950217247009\n",
      "An_Ninh_Đông , Tuy_An - 0.8604766130447388\n",
      "An_Định , Tuy_An - 0.8470878601074219\n",
      "An_Ninh_Tây , Tuy_An - 0.8405049443244934\n",
      "An_Mỹ , Tuy_An - 0.8361472487449646\n",
      "Phú_Yên ( xã ) - 0.7179363369941711\n",
      "Phú_Yên - 0.7162452340126038\n",
      "Nguyễn_Chấn ( Phú_Yên ) - 0.7052743434906006\n",
      "Danh_sách xã thuộc tỉnh Phú_Yên - 0.6678887605667114\n",
      "Nguyễn_Thái_Học ( Phú_Yên ) - 0.6575338840484619\n",
      "Phú_Yên ( định_hướng ) - 0.6423712968826294\n",
      "Lịch_sử Phú_Yên - 0.636674165725708\n",
      "Địa_lý Phú_Yên - 0.632871150970459\n",
      "Tỉnh_ủy Phú_Yên - 0.631587028503418\n",
      "Sông Bàn_Thạch ( Phú_Yên ) - 0.6271796226501465\n",
      "Đồng_Xuân ( xã ) - 0.623569667339325\n",
      "Xuân_Thịnh , Sông_Cầu - 0.6108188033103943\n",
      "Anrê Phú_Yên - 0.6087225675582886\n",
      "Ngựa Phú_Yên - 0.6081807017326355\n",
      "Sông_Cầu ( xã ) - 0.6050340533256531\n",
      "Nhơn_Thạnh - 0.5994080305099487\n",
      "Trường Đại_học Phú_Yên - 0.596480131149292\n",
      "Vĩnh_Hiệp , Vĩnh_Thạnh ( Bình_Định ) - 0.5925668478012085\n",
      "Dinh Trấn Biên ( Phú_Yên ) - 0.5895888805389404\n",
      "Ân_Thạnh - 0.5854949355125427\n",
      "Ninh_Thạnh - 0.5850988030433655\n",
      "Vĩnh_Hảo , Vĩnh_Thạnh ( Bình_Định ) - 0.5804913640022278\n",
      "Pistoia ( tỉnh ) - 0.5803511738777161\n",
      "Sông_Hinh ( xã ) - 0.5795925855636597\n",
      "Vạn_Thạnh ( xã ) - 0.5786207914352417\n",
      "Lịch_sử hành_chính Phú_Yên - 0.5766344666481018\n",
      "Câu_lạc_bộ bóng_đá Phú_Yên - 0.576537013053894\n",
      "Sông_Cầu ( thị_xã ) - 0.5760612487792969\n",
      "An_Xuyên ( tỉnh ) - 0.5751597881317139\n",
      "Lệ_Loan - 0.5728413462638855\n",
      "Xuân_Thạnh - 0.570621907711029\n",
      "Sông_Hinh ( huyện ) - 0.5702601075172424\n",
      "An_Xuân ( xã ) - 0.5674209594726562\n",
      "An_Phú_Đông - 0.5673096179962158\n",
      "An_Thạch - 0.5668542981147766\n",
      "Khánh_Thịnh - 0.5656017065048218\n",
      "Hylaia_reissi - 0.5640590190887451\n",
      "Nhơn_Phú ( xã ) - 0.5623005032539368\n",
      "Lê_Văn_Thạnh - 0.5611767768859863\n",
      "Vĩnh_Phú_Đông - 0.5610269904136658\n",
      "Kilindi ( huyện ) - 0.5601639151573181\n",
      "Mỹ_Thạnh , Ba_Tri - 0.5595890879631042\n",
      "An_Hội - 0.5595209002494812\n",
      "An_Thịnh , Văn_Yên - 0.5587080717086792\n",
      "Sông_Cầu - 0.557937741279602\n",
      "Vĩnh_Sơn , Vĩnh_Thạnh ( Bình_Định ) - 0.5574938058853149\n",
      "An_Xuyên - 0.5574299693107605\n",
      "Nhơn_An - 0.5566833019256592\n",
      "Iota_Leonis - 0.556133508682251\n",
      "Xuân_Hải , Sông_Cầu - 0.5544488430023193\n",
      "Ruino - 0.5542947053909302\n",
      "Vĩnh_Kim , Vĩnh_Thạnh ( Bình_Định ) - 0.5540527701377869\n",
      "An_Trạch ( xã ) - 0.5540143847465515\n",
      "Nephrolepis_wredei - 0.5537047386169434\n",
      "An_Hiệp , Ba_Tri - 0.553217887878418\n",
      "Xuân_Phú , Sông_Cầu - 0.5524610280990601\n",
      "Thạnh_Phú_Đông - 0.5524163842201233\n",
      "Trung_Thạnh - 0.551476776599884\n",
      "Vĩnh_Thạnh , Bình_Định - 0.5510377287864685\n",
      "Ipomoea_velardei - 0.5505884289741516\n",
      "Creugas_navus - 0.5497398972511292\n",
      "An_Châu ( xã ) - 0.5496333837509155\n",
      "Fiumedinisi - 0.5495301485061646\n",
      "Sông_Cầu ( thị_trấn ) - 0.5493808388710022\n",
      "An_Cư ( phường ) - 0.5492274165153503\n",
      "An_Chấn - 0.5491087436676025\n",
      "An_Thuận ( xã ) - 0.5487169623374939\n",
      "An_Tảo - 0.5485616326332092\n",
      "Syzygium_mirandae - 0.5482850074768066\n",
      "Cam_Lâm ( xã ) - 0.5481553077697754\n",
      "Vĩnh_Quang , Vĩnh_Thạnh ( Bình_Định ) - 0.5480543375015259\n",
      "Giao_Thạnh - 0.5480238199234009\n",
      "Hylaea_pardiria - 0.5473462343215942\n",
      "Ninh_Thạnh_Lợi - 0.5473104119300842\n",
      "Khánh_Hiền - 0.5470873713493347\n",
      "Vĩnh_Thịnh , Vĩnh_Thạnh ( Bình_Định ) - 0.5467540621757507\n",
      "An_Châu , Châu_Thành ( An_Giang ) - 0.5460662841796875\n",
      "Favia_favus - 0.5460602045059204\n",
      "Nhơn_Thọ - 0.5460156798362732\n",
      "Kilis ( tỉnh ) - 0.5453946590423584\n",
      "Vĩnh_Thạnh ( thị_trấn thuộc Bình_Định ) - 0.5453542470932007\n",
      "Eupompha_edmundsi - 0.5449399948120117\n",
      "Thanh_Ba ( thị_trấn ) - 0.5445816516876221\n",
      "Fenimorea_petiti - 0.5426868796348572\n",
      "Khánh_Xương - 0.542671263217926\n",
      "Techaluta de Montenegro - 0.5420964360237122\n",
      "Limnoria_uncapedis - 0.5410182476043701\n",
      "Dineutus_bufo - 0.5408458709716797\n",
      "Microprius_donisi - 0.539814293384552\n",
      "Bảo_Thạnh - 0.5397512912750244\n",
      "Nephrotoma_medleri - 0.5391245484352112\n",
      "Creoleon_chappuisi - 0.5390931963920593\n"
     ]
    }
   ],
   "source": [
    "q_raw = '''huyện Tuy An'''\n",
    "q = tokenize(q_raw)\n",
    "query_embedding = model.encode(q,convert_to_tensor=True,)\n",
    "print(q)\n",
    "hits = util.semantic_search(query_embedding, corpus_embeddings, top_k=100)[0]\n",
    "\n",
    "answers =[]\n",
    "for hit in hits:\n",
    "    corpus_id = hit['corpus_id']\n",
    "    doc_score = hit['score']\n",
    "    title = titles[corpus_id]\n",
    "    print(f'{title} - {doc_score}')"
   ]
  }
 ],
 "metadata": {
  "kernelspec": {
   "display_name": "Python 3.10.6 ('research')",
   "language": "python",
   "name": "python3"
  },
  "language_info": {
   "codemirror_mode": {
    "name": "ipython",
    "version": 3
   },
   "file_extension": ".py",
   "mimetype": "text/x-python",
   "name": "python",
   "nbconvert_exporter": "python",
   "pygments_lexer": "ipython3",
   "version": "3.10.6"
  },
  "vscode": {
   "interpreter": {
    "hash": "a9b65729feb538e68f44c9456207842829c75f4513a5296979fcc831c3d07148"
   }
  }
 },
 "nbformat": 4,
 "nbformat_minor": 2
}
