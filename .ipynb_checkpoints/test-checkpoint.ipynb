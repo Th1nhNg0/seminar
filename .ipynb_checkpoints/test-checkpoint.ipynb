{
 "cells": [
  {
   "cell_type": "code",
   "execution_count": 1,
   "metadata": {},
   "outputs": [],
   "source": [
    "import pandas as pd\n",
    "from tqdm import tqdm\n",
    "import pickle"
   ]
  },
  {
   "cell_type": "code",
   "execution_count": 2,
   "metadata": {},
   "outputs": [],
   "source": [
    "df = pd.read_csv('data/zac2022_train_merged_final_preprocessing.json',keep_default_na=False)"
   ]
  },
  {
   "cell_type": "code",
   "execution_count": 3,
   "metadata": {
    "scrolled": true
   },
   "outputs": [
    {
     "data": {
      "text/html": [
       "<div>\n",
       "<style scoped>\n",
       "    .dataframe tbody tr th:only-of-type {\n",
       "        vertical-align: middle;\n",
       "    }\n",
       "\n",
       "    .dataframe tbody tr th {\n",
       "        vertical-align: top;\n",
       "    }\n",
       "\n",
       "    .dataframe thead th {\n",
       "        text-align: right;\n",
       "    }\n",
       "</style>\n",
       "<table border=\"1\" class=\"dataframe\">\n",
       "  <thead>\n",
       "    <tr style=\"text-align: right;\">\n",
       "      <th></th>\n",
       "      <th>Unnamed: 0</th>\n",
       "      <th>id</th>\n",
       "      <th>url</th>\n",
       "      <th>title</th>\n",
       "      <th>text</th>\n",
       "      <th>timestamp</th>\n",
       "      <th>revid</th>\n",
       "    </tr>\n",
       "  </thead>\n",
       "  <tbody>\n",
       "    <tr>\n",
       "      <th>0</th>\n",
       "      <td>0</td>\n",
       "      <td>2</td>\n",
       "      <td>https://vi.wikipedia.org/wiki?curid=2</td>\n",
       "      <td>Trang Chính</td>\n",
       "      <td>Trang Chính __NOEDITSECTION__</td>\n",
       "      <td>2022-05-12T12:46:53Z</td>\n",
       "      <td>68591979</td>\n",
       "    </tr>\n",
       "    <tr>\n",
       "      <th>1</th>\n",
       "      <td>1</td>\n",
       "      <td>4</td>\n",
       "      <td>https://vi.wikipedia.org/wiki?curid=4</td>\n",
       "      <td>Internet Society</td>\n",
       "      <td>Internet Society Internet Society hay ISOC là ...</td>\n",
       "      <td>2022-01-20T07:59:10Z</td>\n",
       "      <td>67988747</td>\n",
       "    </tr>\n",
       "    <tr>\n",
       "      <th>2</th>\n",
       "      <td>2</td>\n",
       "      <td>13</td>\n",
       "      <td>https://vi.wikipedia.org/wiki?curid=13</td>\n",
       "      <td>Tiếng Việt</td>\n",
       "      <td>Tiếng Việt Tiếng Việt, cũng gọi là tiếng Việt ...</td>\n",
       "      <td>2022-05-29T03:42:42Z</td>\n",
       "      <td>68660631</td>\n",
       "    </tr>\n",
       "    <tr>\n",
       "      <th>3</th>\n",
       "      <td>3</td>\n",
       "      <td>24</td>\n",
       "      <td>https://vi.wikipedia.org/wiki?curid=24</td>\n",
       "      <td>Ohio</td>\n",
       "      <td>Ohio Ohio (viết tắt là OH, viết tắt cũ là O.) ...</td>\n",
       "      <td>2022-04-17T08:15:22Z</td>\n",
       "      <td>68482118</td>\n",
       "    </tr>\n",
       "    <tr>\n",
       "      <th>4</th>\n",
       "      <td>4</td>\n",
       "      <td>26</td>\n",
       "      <td>https://vi.wikipedia.org/wiki?curid=26</td>\n",
       "      <td>California</td>\n",
       "      <td>California California (phát âm như \"Ca-li-phót...</td>\n",
       "      <td>2022-06-16T15:27:07Z</td>\n",
       "      <td>68738039</td>\n",
       "    </tr>\n",
       "  </tbody>\n",
       "</table>\n",
       "</div>"
      ],
      "text/plain": [
       "   Unnamed: 0  id                                     url             title  \\\n",
       "0           0   2   https://vi.wikipedia.org/wiki?curid=2       Trang Chính   \n",
       "1           1   4   https://vi.wikipedia.org/wiki?curid=4  Internet Society   \n",
       "2           2  13  https://vi.wikipedia.org/wiki?curid=13        Tiếng Việt   \n",
       "3           3  24  https://vi.wikipedia.org/wiki?curid=24              Ohio   \n",
       "4           4  26  https://vi.wikipedia.org/wiki?curid=26        California   \n",
       "\n",
       "                                                text             timestamp  \\\n",
       "0                     Trang Chính __NOEDITSECTION__   2022-05-12T12:46:53Z   \n",
       "1  Internet Society Internet Society hay ISOC là ...  2022-01-20T07:59:10Z   \n",
       "2  Tiếng Việt Tiếng Việt, cũng gọi là tiếng Việt ...  2022-05-29T03:42:42Z   \n",
       "3  Ohio Ohio (viết tắt là OH, viết tắt cũ là O.) ...  2022-04-17T08:15:22Z   \n",
       "4  California California (phát âm như \"Ca-li-phót...  2022-06-16T15:27:07Z   \n",
       "\n",
       "      revid  \n",
       "0  68591979  \n",
       "1  67988747  \n",
       "2  68660631  \n",
       "3  68482118  \n",
       "4  68738039  "
      ]
     },
     "execution_count": 3,
     "metadata": {},
     "output_type": "execute_result"
    }
   ],
   "source": [
    "df.head(5)"
   ]
  },
  {
   "cell_type": "code",
   "execution_count": 4,
   "metadata": {},
   "outputs": [
    {
     "name": "stderr",
     "output_type": "stream",
     "text": [
      "No sentence-transformers model found with name C:\\Users\\ngoph/.cache\\torch\\sentence_transformers\\VoVanPhuc_sup-SimCSE-VietNamese-phobert-base. Creating a new one with MEAN pooling.\n",
      "Some weights of the model checkpoint at C:\\Users\\ngoph/.cache\\torch\\sentence_transformers\\VoVanPhuc_sup-SimCSE-VietNamese-phobert-base were not used when initializing RobertaModel: ['mlp.dense.weight', 'mlp.dense.bias']\n",
      "- This IS expected if you are initializing RobertaModel from the checkpoint of a model trained on another task or with another architecture (e.g. initializing a BertForSequenceClassification model from a BertForPreTraining model).\n",
      "- This IS NOT expected if you are initializing RobertaModel from the checkpoint of a model that you expect to be exactly identical (initializing a BertForSequenceClassification model from a BertForSequenceClassification model).\n"
     ]
    }
   ],
   "source": [
    "from sentence_transformers import SentenceTransformer, util\n",
    "model = SentenceTransformer('VoVanPhuc/sup-SimCSE-VietNamese-phobert-base')"
   ]
  },
  {
   "cell_type": "code",
   "execution_count": 5,
   "metadata": {},
   "outputs": [
    {
     "name": "stdout",
     "output_type": "stream",
     "text": [
      "INFO: Pandarallel will run on 3 workers.\n",
      "INFO: Pandarallel will use standard multiprocessing data transfer (pipe) to transfer data between the main process and workers.\n",
      "\n",
      "WARNING: You are on Windows. If you detect any issue with pandarallel, be sure you checked out the Troubleshooting page:\n",
      "https://nalepae.github.io/pandarallel/troubleshooting/\n"
     ]
    }
   ],
   "source": [
    "from pandarallel import pandarallel\n",
    "\n",
    "pandarallel.initialize(progress_bar=True)"
   ]
  },
  {
   "cell_type": "code",
   "execution_count": 7,
   "metadata": {},
   "outputs": [],
   "source": [
    "# sentences = []\n",
    "# for i in tqdm(range(len(data))):\n",
    "#     sentences.append(tokenize(data[i]))"
   ]
  },
  {
   "cell_type": "code",
   "execution_count": 8,
   "metadata": {},
   "outputs": [],
   "source": [
    "def new_sentences(row):\n",
    "    from pyvi.ViTokenizer import tokenize\n",
    "    title=row['title']\n",
    "    text=row['text']\n",
    "    return [tokenize(title),tokenize(text)]\n"
   ]
  },
  {
   "cell_type": "code",
   "execution_count": 9,
   "metadata": {},
   "outputs": [
    {
     "data": {
      "text/plain": [
       "1273469"
      ]
     },
     "execution_count": 9,
     "metadata": {},
     "output_type": "execute_result"
    }
   ],
   "source": [
    "len(df)"
   ]
  },
  {
   "cell_type": "code",
   "execution_count": null,
   "metadata": {},
   "outputs": [
    {
     "data": {
      "application/vnd.jupyter.widget-view+json": {
       "model_id": "e1a3d8ec79204e31957856704f126607",
       "version_major": 2,
       "version_minor": 0
      },
      "text/plain": [
       "VBox(children=(HBox(children=(IntProgress(value=0, description='0.00%', max=424490), Label(value='0 / 424490')…"
      ]
     },
     "metadata": {},
     "output_type": "display_data"
    }
   ],
   "source": [
    "dff = df.parallel_apply(new_sentences,axis=1)"
   ]
  },
  {
   "cell_type": "code",
   "execution_count": null,
   "metadata": {},
   "outputs": [],
   "source": [
    "# sentences = []\n",
    "# for i in tqdm(range(len(df))):\n",
    "#     title = tokenize(df.iloc[i]['title'])\n",
    "#     text = tokenize(df.iloc[i]['text'])\n",
    "#     sentences.append( [title,text])"
   ]
  },
  {
   "cell_type": "code",
   "execution_count": 310,
   "metadata": {},
   "outputs": [],
   "source": [
    "import transformers\n",
    "transformers.logging.set_verbosity_error()"
   ]
  },
  {
   "cell_type": "code",
   "execution_count": 311,
   "metadata": {},
   "outputs": [
    {
     "data": {
      "application/vnd.jupyter.widget-view+json": {
       "model_id": "32f20d294be9439ca6e656a046c95961",
       "version_major": 2,
       "version_minor": 0
      },
      "text/plain": [
       "Batches:   0%|          | 0/32 [00:00<?, ?it/s]"
      ]
     },
     "metadata": {},
     "output_type": "display_data"
    }
   ],
   "source": [
    "corpus_embeddings = model.encode(sentences,convert_to_tensor=True,show_progress_bar=True)"
   ]
  },
  {
   "cell_type": "code",
   "execution_count": 295,
   "metadata": {},
   "outputs": [
    {
     "data": {
      "text/plain": [
       "torch.Size([10000, 768])"
      ]
     },
     "execution_count": 295,
     "metadata": {},
     "output_type": "execute_result"
    }
   ],
   "source": [
    "corpus_embeddings.shape"
   ]
  },
  {
   "cell_type": "code",
   "execution_count": 296,
   "metadata": {},
   "outputs": [
    {
     "data": {
      "application/vnd.jupyter.widget-view+json": {
       "model_id": "82b814f128214265b7df59b0ee43834f",
       "version_major": 2,
       "version_minor": 0
      },
      "text/plain": [
       "Batches:   0%|          | 0/1 [00:00<?, ?it/s]"
      ]
     },
     "metadata": {},
     "output_type": "display_data"
    }
   ],
   "source": [
    "text = df[df['title']=='Lập trình viên'].text.values[0]\n",
    "text = tokenize(text)\n",
    "text_embedding = model.encode(text,convert_to_tensor=True,)"
   ]
  },
  {
   "cell_type": "code",
   "execution_count": 297,
   "metadata": {},
   "outputs": [],
   "source": [
    "from transformers import pipeline\n",
    "qa = pipeline('question-answering', model='model_2\\checkpoint-28391',device=0,)"
   ]
  },
  {
   "cell_type": "code",
   "execution_count": 324,
   "metadata": {},
   "outputs": [
    {
     "data": {
      "application/vnd.jupyter.widget-view+json": {
       "model_id": "c5501e034cad40c18cc332ceb0e3b677",
       "version_major": 2,
       "version_minor": 0
      },
      "text/plain": [
       "Batches:   0%|          | 0/1 [00:00<?, ?it/s]"
      ]
     },
     "metadata": {},
     "output_type": "display_data"
    },
    {
     "name": "stdout",
     "output_type": "stream",
     "text": [
      "Vườn quốc_gia Tràm_Chim của Đồng_Tháp_Mười thuộc tỉnh nào\n",
      "An Giang (Score: 0.5525)\n",
      "{'score': 0.9998939037322998, 'start': 4940, 'end': 4953, 'answer': 'Tỉnh An Giang'}\n",
      "Hồ Ba Bể (Score: 0.5130)\n",
      "{'score': 9.664968478317881e-12, 'start': 37, 'end': 44, 'answer': 'Bắc Kạn'}\n",
      "Đồng bằng sông Cửu Long (Score: 0.5089)\n",
      "{'score': 2.7837112615003434e-09, 'start': 22933, 'end': 22940, 'answer': 'Cần Thơ'}\n",
      "Sông Hậu (Score: 0.4997)\n",
      "{'score': 2.4089670786652118e-19, 'start': 847, 'end': 854, 'answer': 'Cần Thơ'}\n",
      "Ontario (Score: 0.4944)\n",
      "{'score': 2.988979159326637e-16, 'start': 28893, 'end': 28904, 'answer': 'Bắc Ontario'}\n",
      "Sông Cửu Long (Score: 0.4939)\n",
      "{'score': 3.4634479072791346e-17, 'start': 4629, 'end': 4642, 'answer': 'tỉnh An Giang'}\n",
      "Đồng bằng sông Hồng (Score: 0.4800)\n",
      "{'score': 0.9999651908874512, 'start': 4339, 'end': 4348, 'answer': 'Ninh Bình'}\n",
      "Ottawa (Score: 0.4585)\n",
      "{'score': 4.648859598177442e-17, 'start': 169, 'end': 186, 'answer': 'tỉnh bang Ontario'}\n",
      "Phú Quốc (Score: 0.4584)\n",
      "{'score': 0.0012799756368622184, 'start': 9184, 'end': 9192, 'answer': 'Hàm Ninh'}\n",
      "Đồng Nai (Score: 0.4572)\n",
      "{'score': 2.1525649572140537e-05, 'start': 3234, 'end': 3238, 'answer': 'Tĩnh'}\n"
     ]
    }
   ],
   "source": [
    "q_raw = 'Vườn quốc gia Tràm Chim của Đồng Tháp Mười thuộc tỉnh nào'\n",
    "q = tokenize(q_raw)\n",
    "query_embedding = model.encode(q,convert_to_tensor=True,)\n",
    "scores = util.cos_sim(query_embedding, corpus_embeddings)[0]\n",
    "\n",
    "top_idx = scores.argsort().cpu().numpy()\n",
    "print(q)\n",
    "for idx in top_idx[-10:][::-1]:\n",
    "    print(df.iloc[idx]['title'], \"(Score: %.4f)\" % (scores[idx]))\n",
    "    text = df.iloc[idx]['text']\n",
    "    answer = qa(question=q_raw, context=text)\n",
    "    print(answer)"
   ]
  }
 ],
 "metadata": {
  "kernelspec": {
   "display_name": "Python 3 (ipykernel)",
   "language": "python",
   "name": "python3"
  },
  "language_info": {
   "codemirror_mode": {
    "name": "ipython",
    "version": 3
   },
   "file_extension": ".py",
   "mimetype": "text/x-python",
   "name": "python",
   "nbconvert_exporter": "python",
   "pygments_lexer": "ipython3",
   "version": "3.9.13"
  },
  "vscode": {
   "interpreter": {
    "hash": "eb38fa78ee3775302a1338b080c54d2cfaf66812fbe51ea9112886fc85d2bb05"
   }
  }
 },
 "nbformat": 4,
 "nbformat_minor": 2
}
